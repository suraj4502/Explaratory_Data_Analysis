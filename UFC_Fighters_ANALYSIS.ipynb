{
  "nbformat": 4,
  "nbformat_minor": 0,
  "metadata": {
    "colab": {
      "provenance": [],
      "authorship_tag": "ABX9TyOVRM8ocDC4AsY7L+EHN8OS",
      "include_colab_link": true
    },
    "kernelspec": {
      "name": "python3",
      "display_name": "Python 3"
    },
    "language_info": {
      "name": "python"
    }
  },
  "cells": [
    {
      "cell_type": "markdown",
      "metadata": {
        "id": "view-in-github",
        "colab_type": "text"
      },
      "source": [
        "<a href=\"https://colab.research.google.com/github/suraj4502/Explaratory_Data_Analysis/blob/main/UFC_Fighters_ANALYSIS.ipynb\" target=\"_parent\"><img src=\"https://colab.research.google.com/assets/colab-badge.svg\" alt=\"Open In Colab\"/></a>"
      ]
    },
    {
      "cell_type": "code",
      "source": [
        "import requests\n",
        "import pandas as pd\n",
        "import plotly.express as px\n",
        "import plotly.graph_objects as go\n",
        "import plotly.io as pio\n",
        "from fuzzywuzzy import fuzz\n",
        "from fuzzywuzzy import process"
      ],
      "metadata": {
        "id": "31tDIi6AdPwZ"
      },
      "execution_count": 1,
      "outputs": []
    },
    {
      "cell_type": "code",
      "source": [
        "pd.set_option('display.max_columns', None)\n",
        "pio.templates.default_config = {\n",
        "    'layout': {\n",
        "        'autosize': False,  # Disable automatic sizing\n",
        "        'width': 600,       # Set the desired width\n",
        "        'height': 550       # Set the desired height\n",
        "    }\n",
        "}\n",
        "\n",
        "\n"
      ],
      "metadata": {
        "id": "9bhLiK9QmSkK"
      },
      "execution_count": 2,
      "outputs": []
    },
    {
      "cell_type": "markdown",
      "source": [
        "# DATA Collection."
      ],
      "metadata": {
        "id": "TuWkSja9tuai"
      }
    },
    {
      "cell_type": "code",
      "source": [
        "\n",
        "url = \"https://mma-stats.p.rapidapi.com/search\"\n",
        "headers = {\n",
        "    \"X-RapidAPI-Key\": \"1615469235msh64a5600535e4d25p16ba20jsn283759412d3b\",\n",
        "    \"X-RapidAPI-Host\": \"mma-stats.p.rapidapi.com\"\n",
        "}\n",
        "\n",
        "age_range = range(20, 61)  # Age range from 20 to 60 (inclusive)\n",
        "data = []\n",
        "\n",
        "for age in age_range:\n",
        "    querystring = {\"age\": str(age)}\n",
        "    response = requests.get(url, headers=headers, params=querystring)\n",
        "\n",
        "    if response.status_code == requests.codes.ok:\n",
        "        fighters = response.json().get('results')\n",
        "        for fighter in fighters:\n",
        "            flattened_fighter = {}\n",
        "\n",
        "            def flatten_tree(tree, parent_key=''):\n",
        "                if isinstance(tree, dict):\n",
        "                    for key, value in tree.items():\n",
        "                        new_key = parent_key + '_' + key if parent_key else key\n",
        "                        flatten_tree(value, new_key)\n",
        "                else:\n",
        "                    flattened_fighter[parent_key] = tree\n",
        "\n",
        "            flatten_tree(fighter)\n",
        "            data.append(flattened_fighter)\n",
        "\n",
        "df = pd.DataFrame(data)  # Create a DataFrame from the retrieved data\n",
        "\n",
        "# Store the DataFrame in an Excel file\n",
        "output_file = \"fighter_details.xlsx\"\n",
        "df.to_excel(output_file, index=False)\n",
        "\n",
        "print(\"Data has been stored in\", output_file)\n"
      ],
      "metadata": {
        "colab": {
          "base_uri": "https://localhost:8080/"
        },
        "id": "cTsSU_fUXiX_",
        "outputId": "b7b96da8-3e2c-4817-be74-39f05748539b"
      },
      "execution_count": 3,
      "outputs": [
        {
          "output_type": "stream",
          "name": "stdout",
          "text": [
            "Data has been stored in fighter_details.xlsx\n"
          ]
        }
      ]
    },
    {
      "cell_type": "markdown",
      "source": [
        "# Data Preprocessing."
      ],
      "metadata": {
        "id": "bqrobwtEt2-_"
      }
    },
    {
      "cell_type": "code",
      "source": [
        "def find_fighter(desired_name, fighters, threshold=80):\n",
        "    # Calculate the fuzzy match score for each name in the DataFrame\n",
        "    fighters['match_score'] = fighters['Name'].apply(lambda x: fuzz.ratio(desired_name, x))\n",
        "\n",
        "    # Filter the DataFrame based on the match score threshold\n",
        "    similar_fighters = fighters[fighters['match_score'] >= threshold]\n",
        "\n",
        "    # Sort the DataFrame by match score in descending order\n",
        "    similar_fighters = similar_fighters.sort_values('match_score', ascending=False)\n",
        "\n",
        "    result = similar_fighters.iloc[:,[0,1,2,3,4,5,6,7,8,9,10,11,12,13,20,21,22,23,\n",
        "                                      24,25,26,27,28,37,40,41,44,45,46,47,48,49,50,51,52,53]]\n",
        "\n",
        "    return result"
      ],
      "metadata": {
        "id": "0zr1E0YFciim"
      },
      "execution_count": 4,
      "outputs": []
    },
    {
      "cell_type": "code",
      "source": [
        "def get_country(text):\n",
        "    if isinstance(text, float):  # Check if the text is of float data type\n",
        "        return None\n",
        "\n",
        "    words = text.split(\",\")\n",
        "    if len(words) > 1:\n",
        "        value = words[1].strip()\n",
        "        return value\n",
        "    elif len(words) == 1:\n",
        "        value = words[0].strip()\n",
        "        return value\n",
        "\n",
        "    return None\n",
        "\n",
        "df['country'] = df['Bio Data_Hometown'].apply(get_country)"
      ],
      "metadata": {
        "id": "-_rJ_vG2zNkd"
      },
      "execution_count": 5,
      "outputs": []
    },
    {
      "cell_type": "code",
      "source": [
        "# Convert necessary columns to numeric data type\n",
        "numeric_columns = ['Division Body_Wins', 'Division Body_Losses','Division Body_Draws',\n",
        "                   'Bio Data_Age', 'Bio Data_Height', 'Bio Data_Weight', 'Bio Data_Reach',\n",
        "                   'Bio Data_Leg reach','Sig. Strikes Landed','Takedowns Landed', 'Records_Wins by Submission', 'Records_Wins by Knockout']\n",
        "df[numeric_columns] = df[numeric_columns].apply(pd.to_numeric, errors='coerce')"
      ],
      "metadata": {
        "id": "vfR7Vw8KTwS-"
      },
      "execution_count": 6,
      "outputs": []
    },
    {
      "cell_type": "code",
      "source": [
        "value_mapping = {'Boxer' : \"Boxing\", 'Brazilian Jiu-Jitsu' : \"Jiu-Jitsu\", 'Grappler' : \"Jiu-Jitsu\",\n",
        "                 'Kung-Fu':\"Kung Fu\", 'Wrestler' :\"Wrestling\" ,\n",
        "                 }\n",
        "\n",
        "df['Bio Data_Fighting style'] = df['Bio Data_Fighting style'].replace(value_mapping)"
      ],
      "metadata": {
        "id": "Mxfue_HxunpE"
      },
      "execution_count": 7,
      "outputs": []
    },
    {
      "cell_type": "code",
      "source": [
        "df['Division Title'] = df['Division Title'].str.rsplit(' ', 1).str[0]"
      ],
      "metadata": {
        "colab": {
          "base_uri": "https://localhost:8080/"
        },
        "id": "eXyCRGu7yRYG",
        "outputId": "a080cc0b-4732-4e03-8c95-7b448b2c51de"
      },
      "execution_count": 8,
      "outputs": [
        {
          "output_type": "stream",
          "name": "stderr",
          "text": [
            "<ipython-input-8-d243db1c5991>:1: FutureWarning: In a future version of pandas all arguments of StringMethods.rsplit except for the argument 'pat' will be keyword-only.\n",
            "  df['Division Title'] = df['Division Title'].str.rsplit(' ', 1).str[0]\n"
          ]
        }
      ]
    },
    {
      "cell_type": "code",
      "source": [
        "df['Total_fights']= df['Division Body_Wins']+df['Division Body_Losses']+df['Division Body_Draws']\n",
        "df['Fighter_score'] = df['Division Body_Wins']/(df['Division Body_Wins']+df['Division Body_Losses']+df['Division Body_Draws'])"
      ],
      "metadata": {
        "id": "ZlxGze5KyTOH"
      },
      "execution_count": 9,
      "outputs": []
    },
    {
      "cell_type": "markdown",
      "source": [
        "## Data Analysis."
      ],
      "metadata": {
        "id": "k4q6XgT2x6su"
      }
    },
    {
      "cell_type": "code",
      "source": [
        "# Shape of the data\n",
        "df.shape"
      ],
      "metadata": {
        "colab": {
          "base_uri": "https://localhost:8080/"
        },
        "id": "o8o0qGOmx5uy",
        "outputId": "23be8bd7-25f8-4f33-d4c8-79754db368ee"
      },
      "execution_count": 10,
      "outputs": [
        {
          "output_type": "execute_result",
          "data": {
            "text/plain": [
              "(2564, 53)"
            ]
          },
          "metadata": {},
          "execution_count": 10
        }
      ]
    },
    {
      "cell_type": "code",
      "source": [
        "#Checking for null values\n",
        "df.isna().sum().sort_values(ascending=False).head(10)"
      ],
      "metadata": {
        "colab": {
          "base_uri": "https://localhost:8080/"
        },
        "id": "SRD7sLo7yh7o",
        "outputId": "2259997f-5578-4360-cd00-d1231e23a42e"
      },
      "execution_count": 11,
      "outputs": [
        {
          "output_type": "execute_result",
          "data": {
            "text/plain": [
              "Records_Former Champion         2563\n",
              "Records_Title Defenses          2552\n",
              "Records_Fight Win Streak        2482\n",
              "Records_Wins by Decision        2275\n",
              "Records_First Round Finishes    1967\n",
              "Takedowns Landed                1753\n",
              "Last Fight_Date                 1747\n",
              "Last Fight_Event                1747\n",
              "Last Fight_Fight Number         1747\n",
              "Last Fight_Matchup              1747\n",
              "dtype: int64"
            ]
          },
          "metadata": {},
          "execution_count": 11
        }
      ]
    },
    {
      "cell_type": "code",
      "source": [
        "# Checking for duplicate values\n",
        "duplicates = df[df.duplicated(subset=['Name','Nickname'])]\n",
        "len(duplicates)"
      ],
      "metadata": {
        "colab": {
          "base_uri": "https://localhost:8080/"
        },
        "id": "E75E2nvUzSMP",
        "outputId": "3d1ad799-c447-4deb-8235-7f7c9c609fb8"
      },
      "execution_count": 12,
      "outputs": [
        {
          "output_type": "execute_result",
          "data": {
            "text/plain": [
              "0"
            ]
          },
          "metadata": {},
          "execution_count": 12
        }
      ]
    },
    {
      "cell_type": "code",
      "source": [
        "#Description of the numerical columns\n",
        "df.describe()"
      ],
      "metadata": {
        "colab": {
          "base_uri": "https://localhost:8080/",
          "height": 399
        },
        "id": "9oLEbfA50s5O",
        "outputId": "e7b25fa0-43f1-4d39-9747-9ce88b3bb52a"
      },
      "execution_count": 13,
      "outputs": [
        {
          "output_type": "execute_result",
          "data": {
            "text/plain": [
              "       Division Body_Wins  Division Body_Losses  Division Body_Draws  \\\n",
              "count         2522.000000           2522.000000          2522.000000   \n",
              "mean            12.013481              4.501983             0.171293   \n",
              "std              8.350739              3.635325             0.573790   \n",
              "min              0.000000              0.000000             0.000000   \n",
              "25%              7.000000              2.000000             0.000000   \n",
              "50%             11.000000              4.000000             0.000000   \n",
              "75%             17.000000              6.000000             0.000000   \n",
              "max             88.000000             22.000000            10.000000   \n",
              "\n",
              "       Bio Data_Age  Bio Data_Height  Bio Data_Weight  Bio Data_Reach  \\\n",
              "count   2564.000000      2331.000000      2489.000000     1692.000000   \n",
              "mean      36.003120        68.181896       164.705424       71.577074   \n",
              "std        7.120445        12.060913        41.891910        4.594404   \n",
              "min       20.000000         0.000000         0.000000       -0.020000   \n",
              "25%       31.000000        67.000000       141.000000       69.000000   \n",
              "50%       35.000000        70.000000       156.000000       72.000000   \n",
              "75%       40.000000        73.000000       185.000000       74.500000   \n",
              "max       60.000000        84.000000       415.000000       84.500000   \n",
              "\n",
              "       Bio Data_Leg reach  Sig. Strikes Landed  Takedowns Landed  \\\n",
              "count         1432.000000          2345.000000        811.000000   \n",
              "mean            39.924532           233.260554          7.934649   \n",
              "std              2.605887           295.848462         10.819937   \n",
              "min             32.000000             0.000000          1.000000   \n",
              "25%             38.000000            43.000000          2.000000   \n",
              "50%             40.000000           122.000000          4.000000   \n",
              "75%             41.500000           305.000000          9.000000   \n",
              "max             74.000000          3122.000000         90.000000   \n",
              "\n",
              "       Records_Wins by Knockout  Records_Wins by Submission  Total_fights  \\\n",
              "count                988.000000                  871.000000   2522.000000   \n",
              "mean                   6.211538                    4.887486     16.686757   \n",
              "std                    4.083821                    3.900630     11.518306   \n",
              "min                    1.000000                    0.000000      0.000000   \n",
              "25%                    3.000000                    2.000000      9.000000   \n",
              "50%                    5.000000                    4.000000     15.000000   \n",
              "75%                    8.000000                    7.000000     23.000000   \n",
              "max                   28.000000                   47.000000    112.000000   \n",
              "\n",
              "       Fighter_score  \n",
              "count    2351.000000  \n",
              "mean        0.689625  \n",
              "std         0.199184  \n",
              "min         0.000000  \n",
              "25%         0.643462  \n",
              "50%         0.714286  \n",
              "75%         0.800000  \n",
              "max         1.000000  "
            ],
            "text/html": [
              "\n",
              "  <div id=\"df-0973ac8c-ae2f-4070-b1dc-829f829d4c01\">\n",
              "    <div class=\"colab-df-container\">\n",
              "      <div>\n",
              "<style scoped>\n",
              "    .dataframe tbody tr th:only-of-type {\n",
              "        vertical-align: middle;\n",
              "    }\n",
              "\n",
              "    .dataframe tbody tr th {\n",
              "        vertical-align: top;\n",
              "    }\n",
              "\n",
              "    .dataframe thead th {\n",
              "        text-align: right;\n",
              "    }\n",
              "</style>\n",
              "<table border=\"1\" class=\"dataframe\">\n",
              "  <thead>\n",
              "    <tr style=\"text-align: right;\">\n",
              "      <th></th>\n",
              "      <th>Division Body_Wins</th>\n",
              "      <th>Division Body_Losses</th>\n",
              "      <th>Division Body_Draws</th>\n",
              "      <th>Bio Data_Age</th>\n",
              "      <th>Bio Data_Height</th>\n",
              "      <th>Bio Data_Weight</th>\n",
              "      <th>Bio Data_Reach</th>\n",
              "      <th>Bio Data_Leg reach</th>\n",
              "      <th>Sig. Strikes Landed</th>\n",
              "      <th>Takedowns Landed</th>\n",
              "      <th>Records_Wins by Knockout</th>\n",
              "      <th>Records_Wins by Submission</th>\n",
              "      <th>Total_fights</th>\n",
              "      <th>Fighter_score</th>\n",
              "    </tr>\n",
              "  </thead>\n",
              "  <tbody>\n",
              "    <tr>\n",
              "      <th>count</th>\n",
              "      <td>2522.000000</td>\n",
              "      <td>2522.000000</td>\n",
              "      <td>2522.000000</td>\n",
              "      <td>2564.000000</td>\n",
              "      <td>2331.000000</td>\n",
              "      <td>2489.000000</td>\n",
              "      <td>1692.000000</td>\n",
              "      <td>1432.000000</td>\n",
              "      <td>2345.000000</td>\n",
              "      <td>811.000000</td>\n",
              "      <td>988.000000</td>\n",
              "      <td>871.000000</td>\n",
              "      <td>2522.000000</td>\n",
              "      <td>2351.000000</td>\n",
              "    </tr>\n",
              "    <tr>\n",
              "      <th>mean</th>\n",
              "      <td>12.013481</td>\n",
              "      <td>4.501983</td>\n",
              "      <td>0.171293</td>\n",
              "      <td>36.003120</td>\n",
              "      <td>68.181896</td>\n",
              "      <td>164.705424</td>\n",
              "      <td>71.577074</td>\n",
              "      <td>39.924532</td>\n",
              "      <td>233.260554</td>\n",
              "      <td>7.934649</td>\n",
              "      <td>6.211538</td>\n",
              "      <td>4.887486</td>\n",
              "      <td>16.686757</td>\n",
              "      <td>0.689625</td>\n",
              "    </tr>\n",
              "    <tr>\n",
              "      <th>std</th>\n",
              "      <td>8.350739</td>\n",
              "      <td>3.635325</td>\n",
              "      <td>0.573790</td>\n",
              "      <td>7.120445</td>\n",
              "      <td>12.060913</td>\n",
              "      <td>41.891910</td>\n",
              "      <td>4.594404</td>\n",
              "      <td>2.605887</td>\n",
              "      <td>295.848462</td>\n",
              "      <td>10.819937</td>\n",
              "      <td>4.083821</td>\n",
              "      <td>3.900630</td>\n",
              "      <td>11.518306</td>\n",
              "      <td>0.199184</td>\n",
              "    </tr>\n",
              "    <tr>\n",
              "      <th>min</th>\n",
              "      <td>0.000000</td>\n",
              "      <td>0.000000</td>\n",
              "      <td>0.000000</td>\n",
              "      <td>20.000000</td>\n",
              "      <td>0.000000</td>\n",
              "      <td>0.000000</td>\n",
              "      <td>-0.020000</td>\n",
              "      <td>32.000000</td>\n",
              "      <td>0.000000</td>\n",
              "      <td>1.000000</td>\n",
              "      <td>1.000000</td>\n",
              "      <td>0.000000</td>\n",
              "      <td>0.000000</td>\n",
              "      <td>0.000000</td>\n",
              "    </tr>\n",
              "    <tr>\n",
              "      <th>25%</th>\n",
              "      <td>7.000000</td>\n",
              "      <td>2.000000</td>\n",
              "      <td>0.000000</td>\n",
              "      <td>31.000000</td>\n",
              "      <td>67.000000</td>\n",
              "      <td>141.000000</td>\n",
              "      <td>69.000000</td>\n",
              "      <td>38.000000</td>\n",
              "      <td>43.000000</td>\n",
              "      <td>2.000000</td>\n",
              "      <td>3.000000</td>\n",
              "      <td>2.000000</td>\n",
              "      <td>9.000000</td>\n",
              "      <td>0.643462</td>\n",
              "    </tr>\n",
              "    <tr>\n",
              "      <th>50%</th>\n",
              "      <td>11.000000</td>\n",
              "      <td>4.000000</td>\n",
              "      <td>0.000000</td>\n",
              "      <td>35.000000</td>\n",
              "      <td>70.000000</td>\n",
              "      <td>156.000000</td>\n",
              "      <td>72.000000</td>\n",
              "      <td>40.000000</td>\n",
              "      <td>122.000000</td>\n",
              "      <td>4.000000</td>\n",
              "      <td>5.000000</td>\n",
              "      <td>4.000000</td>\n",
              "      <td>15.000000</td>\n",
              "      <td>0.714286</td>\n",
              "    </tr>\n",
              "    <tr>\n",
              "      <th>75%</th>\n",
              "      <td>17.000000</td>\n",
              "      <td>6.000000</td>\n",
              "      <td>0.000000</td>\n",
              "      <td>40.000000</td>\n",
              "      <td>73.000000</td>\n",
              "      <td>185.000000</td>\n",
              "      <td>74.500000</td>\n",
              "      <td>41.500000</td>\n",
              "      <td>305.000000</td>\n",
              "      <td>9.000000</td>\n",
              "      <td>8.000000</td>\n",
              "      <td>7.000000</td>\n",
              "      <td>23.000000</td>\n",
              "      <td>0.800000</td>\n",
              "    </tr>\n",
              "    <tr>\n",
              "      <th>max</th>\n",
              "      <td>88.000000</td>\n",
              "      <td>22.000000</td>\n",
              "      <td>10.000000</td>\n",
              "      <td>60.000000</td>\n",
              "      <td>84.000000</td>\n",
              "      <td>415.000000</td>\n",
              "      <td>84.500000</td>\n",
              "      <td>74.000000</td>\n",
              "      <td>3122.000000</td>\n",
              "      <td>90.000000</td>\n",
              "      <td>28.000000</td>\n",
              "      <td>47.000000</td>\n",
              "      <td>112.000000</td>\n",
              "      <td>1.000000</td>\n",
              "    </tr>\n",
              "  </tbody>\n",
              "</table>\n",
              "</div>\n",
              "      <button class=\"colab-df-convert\" onclick=\"convertToInteractive('df-0973ac8c-ae2f-4070-b1dc-829f829d4c01')\"\n",
              "              title=\"Convert this dataframe to an interactive table.\"\n",
              "              style=\"display:none;\">\n",
              "        \n",
              "  <svg xmlns=\"http://www.w3.org/2000/svg\" height=\"24px\"viewBox=\"0 0 24 24\"\n",
              "       width=\"24px\">\n",
              "    <path d=\"M0 0h24v24H0V0z\" fill=\"none\"/>\n",
              "    <path d=\"M18.56 5.44l.94 2.06.94-2.06 2.06-.94-2.06-.94-.94-2.06-.94 2.06-2.06.94zm-11 1L8.5 8.5l.94-2.06 2.06-.94-2.06-.94L8.5 2.5l-.94 2.06-2.06.94zm10 10l.94 2.06.94-2.06 2.06-.94-2.06-.94-.94-2.06-.94 2.06-2.06.94z\"/><path d=\"M17.41 7.96l-1.37-1.37c-.4-.4-.92-.59-1.43-.59-.52 0-1.04.2-1.43.59L10.3 9.45l-7.72 7.72c-.78.78-.78 2.05 0 2.83L4 21.41c.39.39.9.59 1.41.59.51 0 1.02-.2 1.41-.59l7.78-7.78 2.81-2.81c.8-.78.8-2.07 0-2.86zM5.41 20L4 18.59l7.72-7.72 1.47 1.35L5.41 20z\"/>\n",
              "  </svg>\n",
              "      </button>\n",
              "      \n",
              "  <style>\n",
              "    .colab-df-container {\n",
              "      display:flex;\n",
              "      flex-wrap:wrap;\n",
              "      gap: 12px;\n",
              "    }\n",
              "\n",
              "    .colab-df-convert {\n",
              "      background-color: #E8F0FE;\n",
              "      border: none;\n",
              "      border-radius: 50%;\n",
              "      cursor: pointer;\n",
              "      display: none;\n",
              "      fill: #1967D2;\n",
              "      height: 32px;\n",
              "      padding: 0 0 0 0;\n",
              "      width: 32px;\n",
              "    }\n",
              "\n",
              "    .colab-df-convert:hover {\n",
              "      background-color: #E2EBFA;\n",
              "      box-shadow: 0px 1px 2px rgba(60, 64, 67, 0.3), 0px 1px 3px 1px rgba(60, 64, 67, 0.15);\n",
              "      fill: #174EA6;\n",
              "    }\n",
              "\n",
              "    [theme=dark] .colab-df-convert {\n",
              "      background-color: #3B4455;\n",
              "      fill: #D2E3FC;\n",
              "    }\n",
              "\n",
              "    [theme=dark] .colab-df-convert:hover {\n",
              "      background-color: #434B5C;\n",
              "      box-shadow: 0px 1px 3px 1px rgba(0, 0, 0, 0.15);\n",
              "      filter: drop-shadow(0px 1px 2px rgba(0, 0, 0, 0.3));\n",
              "      fill: #FFFFFF;\n",
              "    }\n",
              "  </style>\n",
              "\n",
              "      <script>\n",
              "        const buttonEl =\n",
              "          document.querySelector('#df-0973ac8c-ae2f-4070-b1dc-829f829d4c01 button.colab-df-convert');\n",
              "        buttonEl.style.display =\n",
              "          google.colab.kernel.accessAllowed ? 'block' : 'none';\n",
              "\n",
              "        async function convertToInteractive(key) {\n",
              "          const element = document.querySelector('#df-0973ac8c-ae2f-4070-b1dc-829f829d4c01');\n",
              "          const dataTable =\n",
              "            await google.colab.kernel.invokeFunction('convertToInteractive',\n",
              "                                                     [key], {});\n",
              "          if (!dataTable) return;\n",
              "\n",
              "          const docLinkHtml = 'Like what you see? Visit the ' +\n",
              "            '<a target=\"_blank\" href=https://colab.research.google.com/notebooks/data_table.ipynb>data table notebook</a>'\n",
              "            + ' to learn more about interactive tables.';\n",
              "          element.innerHTML = '';\n",
              "          dataTable['output_type'] = 'display_data';\n",
              "          await google.colab.output.renderOutput(dataTable, element);\n",
              "          const docLink = document.createElement('div');\n",
              "          docLink.innerHTML = docLinkHtml;\n",
              "          element.appendChild(docLink);\n",
              "        }\n",
              "      </script>\n",
              "    </div>\n",
              "  </div>\n",
              "  "
            ]
          },
          "metadata": {},
          "execution_count": 13
        }
      ]
    },
    {
      "cell_type": "markdown",
      "source": [
        "## Individual Stats.\n",
        "\n",
        "TO get details about a specific fighter use the find_fighter function which takes fighter anem and dataframe as input.\n",
        "An example is\n",
        "\n",
        "```\n",
        "find_fighter(\"Charles Olieveira\",df)\n",
        "```\n"
      ],
      "metadata": {
        "id": "6Iyer83c6Wkj"
      }
    },
    {
      "cell_type": "code",
      "source": [
        "find_fighter(\"Charles Olieveira\",df)"
      ],
      "metadata": {
        "colab": {
          "base_uri": "https://localhost:8080/",
          "height": 249
        },
        "id": "RkpvVLo_6ecZ",
        "outputId": "e0763d5f-07e9-4630-b947-b45b12d24a6b"
      },
      "execution_count": 14,
      "outputs": [
        {
          "output_type": "execute_result",
          "data": {
            "text/plain": [
              "                 Name  Nickname Division Title  Division Body_Wins  \\\n",
              "913  Charles Oliveira  Do Bronx    Lightweight                33.0   \n",
              "\n",
              "     Division Body_Losses  Division Body_Draws Bio Data_Status  \\\n",
              "913                   9.0                  0.0          Active   \n",
              "\n",
              "             Bio Data_Hometown  Bio Data_Age  Bio Data_Height  \\\n",
              "913  State of So Paulo, Brazil            33             70.0   \n",
              "\n",
              "     Bio Data_Weight Bio Data_Octagon Debut  Bio Data_Reach  \\\n",
              "913            154.5          Aug. 01, 2010            74.0   \n",
              "\n",
              "     Bio Data_Leg reach  Sig. Strikes Landed Sig. Strikes Attempted  \\\n",
              "913                41.0                751.0                   1405   \n",
              "\n",
              "     Takedowns Landed Takedowns Attempted Striking accuracy Takedown Accuracy  \\\n",
              "913              26.0                  84               53%               40%   \n",
              "\n",
              "     Records_Wins by Knockout  Records_Wins by Submission  \\\n",
              "913                       9.0                        21.0   \n",
              "\n",
              "    Records_First Round Finishes Last Fight_Event Last Fight_Date  \\\n",
              "913                          NaN          UFC 280   Oct. 22, 2022   \n",
              "\n",
              "                                         Fighter Facts  \\\n",
              "913  [14fights back at lightweight (12-2) after ele...   \n",
              "\n",
              "    Bio Data_Fighting style Bio Data_Trains at Records_Wins by Decision  \\\n",
              "913               Jiu-Jitsu  Bronx's Gold Team                      NaN   \n",
              "\n",
              "    Records_Fight Win Streak Records_Former Champion Records_Title Defenses  \\\n",
              "913                      NaN                     NaN                    NaN   \n",
              "\n",
              "    country  Total_fights  Fighter_score  match_score  \n",
              "913  Brazil          42.0       0.785714           97  "
            ],
            "text/html": [
              "\n",
              "  <div id=\"df-57c81ece-6116-46c4-973e-26d4a77a8cee\">\n",
              "    <div class=\"colab-df-container\">\n",
              "      <div>\n",
              "<style scoped>\n",
              "    .dataframe tbody tr th:only-of-type {\n",
              "        vertical-align: middle;\n",
              "    }\n",
              "\n",
              "    .dataframe tbody tr th {\n",
              "        vertical-align: top;\n",
              "    }\n",
              "\n",
              "    .dataframe thead th {\n",
              "        text-align: right;\n",
              "    }\n",
              "</style>\n",
              "<table border=\"1\" class=\"dataframe\">\n",
              "  <thead>\n",
              "    <tr style=\"text-align: right;\">\n",
              "      <th></th>\n",
              "      <th>Name</th>\n",
              "      <th>Nickname</th>\n",
              "      <th>Division Title</th>\n",
              "      <th>Division Body_Wins</th>\n",
              "      <th>Division Body_Losses</th>\n",
              "      <th>Division Body_Draws</th>\n",
              "      <th>Bio Data_Status</th>\n",
              "      <th>Bio Data_Hometown</th>\n",
              "      <th>Bio Data_Age</th>\n",
              "      <th>Bio Data_Height</th>\n",
              "      <th>Bio Data_Weight</th>\n",
              "      <th>Bio Data_Octagon Debut</th>\n",
              "      <th>Bio Data_Reach</th>\n",
              "      <th>Bio Data_Leg reach</th>\n",
              "      <th>Sig. Strikes Landed</th>\n",
              "      <th>Sig. Strikes Attempted</th>\n",
              "      <th>Takedowns Landed</th>\n",
              "      <th>Takedowns Attempted</th>\n",
              "      <th>Striking accuracy</th>\n",
              "      <th>Takedown Accuracy</th>\n",
              "      <th>Records_Wins by Knockout</th>\n",
              "      <th>Records_Wins by Submission</th>\n",
              "      <th>Records_First Round Finishes</th>\n",
              "      <th>Last Fight_Event</th>\n",
              "      <th>Last Fight_Date</th>\n",
              "      <th>Fighter Facts</th>\n",
              "      <th>Bio Data_Fighting style</th>\n",
              "      <th>Bio Data_Trains at</th>\n",
              "      <th>Records_Wins by Decision</th>\n",
              "      <th>Records_Fight Win Streak</th>\n",
              "      <th>Records_Former Champion</th>\n",
              "      <th>Records_Title Defenses</th>\n",
              "      <th>country</th>\n",
              "      <th>Total_fights</th>\n",
              "      <th>Fighter_score</th>\n",
              "      <th>match_score</th>\n",
              "    </tr>\n",
              "  </thead>\n",
              "  <tbody>\n",
              "    <tr>\n",
              "      <th>913</th>\n",
              "      <td>Charles Oliveira</td>\n",
              "      <td>Do Bronx</td>\n",
              "      <td>Lightweight</td>\n",
              "      <td>33.0</td>\n",
              "      <td>9.0</td>\n",
              "      <td>0.0</td>\n",
              "      <td>Active</td>\n",
              "      <td>State of So Paulo, Brazil</td>\n",
              "      <td>33</td>\n",
              "      <td>70.0</td>\n",
              "      <td>154.5</td>\n",
              "      <td>Aug. 01, 2010</td>\n",
              "      <td>74.0</td>\n",
              "      <td>41.0</td>\n",
              "      <td>751.0</td>\n",
              "      <td>1405</td>\n",
              "      <td>26.0</td>\n",
              "      <td>84</td>\n",
              "      <td>53%</td>\n",
              "      <td>40%</td>\n",
              "      <td>9.0</td>\n",
              "      <td>21.0</td>\n",
              "      <td>NaN</td>\n",
              "      <td>UFC 280</td>\n",
              "      <td>Oct. 22, 2022</td>\n",
              "      <td>[14fights back at lightweight (12-2) after ele...</td>\n",
              "      <td>Jiu-Jitsu</td>\n",
              "      <td>Bronx's Gold Team</td>\n",
              "      <td>NaN</td>\n",
              "      <td>NaN</td>\n",
              "      <td>NaN</td>\n",
              "      <td>NaN</td>\n",
              "      <td>Brazil</td>\n",
              "      <td>42.0</td>\n",
              "      <td>0.785714</td>\n",
              "      <td>97</td>\n",
              "    </tr>\n",
              "  </tbody>\n",
              "</table>\n",
              "</div>\n",
              "      <button class=\"colab-df-convert\" onclick=\"convertToInteractive('df-57c81ece-6116-46c4-973e-26d4a77a8cee')\"\n",
              "              title=\"Convert this dataframe to an interactive table.\"\n",
              "              style=\"display:none;\">\n",
              "        \n",
              "  <svg xmlns=\"http://www.w3.org/2000/svg\" height=\"24px\"viewBox=\"0 0 24 24\"\n",
              "       width=\"24px\">\n",
              "    <path d=\"M0 0h24v24H0V0z\" fill=\"none\"/>\n",
              "    <path d=\"M18.56 5.44l.94 2.06.94-2.06 2.06-.94-2.06-.94-.94-2.06-.94 2.06-2.06.94zm-11 1L8.5 8.5l.94-2.06 2.06-.94-2.06-.94L8.5 2.5l-.94 2.06-2.06.94zm10 10l.94 2.06.94-2.06 2.06-.94-2.06-.94-.94-2.06-.94 2.06-2.06.94z\"/><path d=\"M17.41 7.96l-1.37-1.37c-.4-.4-.92-.59-1.43-.59-.52 0-1.04.2-1.43.59L10.3 9.45l-7.72 7.72c-.78.78-.78 2.05 0 2.83L4 21.41c.39.39.9.59 1.41.59.51 0 1.02-.2 1.41-.59l7.78-7.78 2.81-2.81c.8-.78.8-2.07 0-2.86zM5.41 20L4 18.59l7.72-7.72 1.47 1.35L5.41 20z\"/>\n",
              "  </svg>\n",
              "      </button>\n",
              "      \n",
              "  <style>\n",
              "    .colab-df-container {\n",
              "      display:flex;\n",
              "      flex-wrap:wrap;\n",
              "      gap: 12px;\n",
              "    }\n",
              "\n",
              "    .colab-df-convert {\n",
              "      background-color: #E8F0FE;\n",
              "      border: none;\n",
              "      border-radius: 50%;\n",
              "      cursor: pointer;\n",
              "      display: none;\n",
              "      fill: #1967D2;\n",
              "      height: 32px;\n",
              "      padding: 0 0 0 0;\n",
              "      width: 32px;\n",
              "    }\n",
              "\n",
              "    .colab-df-convert:hover {\n",
              "      background-color: #E2EBFA;\n",
              "      box-shadow: 0px 1px 2px rgba(60, 64, 67, 0.3), 0px 1px 3px 1px rgba(60, 64, 67, 0.15);\n",
              "      fill: #174EA6;\n",
              "    }\n",
              "\n",
              "    [theme=dark] .colab-df-convert {\n",
              "      background-color: #3B4455;\n",
              "      fill: #D2E3FC;\n",
              "    }\n",
              "\n",
              "    [theme=dark] .colab-df-convert:hover {\n",
              "      background-color: #434B5C;\n",
              "      box-shadow: 0px 1px 3px 1px rgba(0, 0, 0, 0.15);\n",
              "      filter: drop-shadow(0px 1px 2px rgba(0, 0, 0, 0.3));\n",
              "      fill: #FFFFFF;\n",
              "    }\n",
              "  </style>\n",
              "\n",
              "      <script>\n",
              "        const buttonEl =\n",
              "          document.querySelector('#df-57c81ece-6116-46c4-973e-26d4a77a8cee button.colab-df-convert');\n",
              "        buttonEl.style.display =\n",
              "          google.colab.kernel.accessAllowed ? 'block' : 'none';\n",
              "\n",
              "        async function convertToInteractive(key) {\n",
              "          const element = document.querySelector('#df-57c81ece-6116-46c4-973e-26d4a77a8cee');\n",
              "          const dataTable =\n",
              "            await google.colab.kernel.invokeFunction('convertToInteractive',\n",
              "                                                     [key], {});\n",
              "          if (!dataTable) return;\n",
              "\n",
              "          const docLinkHtml = 'Like what you see? Visit the ' +\n",
              "            '<a target=\"_blank\" href=https://colab.research.google.com/notebooks/data_table.ipynb>data table notebook</a>'\n",
              "            + ' to learn more about interactive tables.';\n",
              "          element.innerHTML = '';\n",
              "          dataTable['output_type'] = 'display_data';\n",
              "          await google.colab.output.renderOutput(dataTable, element);\n",
              "          const docLink = document.createElement('div');\n",
              "          docLink.innerHTML = docLinkHtml;\n",
              "          element.appendChild(docLink);\n",
              "        }\n",
              "      </script>\n",
              "    </div>\n",
              "  </div>\n",
              "  "
            ]
          },
          "metadata": {},
          "execution_count": 14
        }
      ]
    },
    {
      "cell_type": "markdown",
      "source": [
        "## Count Of Fighters from Each Country."
      ],
      "metadata": {
        "id": "ZLAonQNTeA91"
      }
    },
    {
      "cell_type": "code",
      "source": [
        "country_counts = df['country'].value_counts().reset_index()\n",
        "country_counts.columns = ['Country', 'Fighter Count']\n",
        "\n",
        "fig = px.bar(country_counts.head(10), x='Country', y='Fighter Count',\n",
        "             color_discrete_sequence=['#61105E'])\n",
        "\n",
        "fig.update_layout(\n",
        "    title=\"Countries with most MMA Fighters\",\n",
        "    xaxis_title=\"Country\",\n",
        "    yaxis_title=\"Fighter Count\",\n",
        "    title_x=0.5,\n",
        "    yaxis=dict(showgrid=False),\n",
        "    plot_bgcolor='#FFFFF5'\n",
        ")\n",
        "\n",
        "fig.show()"
      ],
      "metadata": {
        "colab": {
          "base_uri": "https://localhost:8080/",
          "height": 542
        },
        "id": "IaDu7j5DWPaG",
        "outputId": "474bd875-7290-4214-eb42-0a303c76d37f"
      },
      "execution_count": 15,
      "outputs": [
        {
          "output_type": "display_data",
          "data": {
            "text/html": [
              "<html>\n",
              "<head><meta charset=\"utf-8\" /></head>\n",
              "<body>\n",
              "    <div>            <script src=\"https://cdnjs.cloudflare.com/ajax/libs/mathjax/2.7.5/MathJax.js?config=TeX-AMS-MML_SVG\"></script><script type=\"text/javascript\">if (window.MathJax && window.MathJax.Hub && window.MathJax.Hub.Config) {window.MathJax.Hub.Config({SVG: {font: \"STIX-Web\"}});}</script>                <script type=\"text/javascript\">window.PlotlyConfig = {MathJaxConfig: 'local'};</script>\n",
              "        <script src=\"https://cdn.plot.ly/plotly-2.18.2.min.js\"></script>                <div id=\"1c5274c4-a953-4762-a673-2cd1831cdc6a\" class=\"plotly-graph-div\" style=\"height:525px; width:100%;\"></div>            <script type=\"text/javascript\">                                    window.PLOTLYENV=window.PLOTLYENV || {};                                    if (document.getElementById(\"1c5274c4-a953-4762-a673-2cd1831cdc6a\")) {                    Plotly.newPlot(                        \"1c5274c4-a953-4762-a673-2cd1831cdc6a\",                        [{\"alignmentgroup\":\"True\",\"hovertemplate\":\"Country=%{x}<br>Fighter Count=%{y}<extra></extra>\",\"legendgroup\":\"\",\"marker\":{\"color\":\"#61105E\",\"pattern\":{\"shape\":\"\"}},\"name\":\"\",\"offsetgroup\":\"\",\"orientation\":\"v\",\"showlegend\":false,\"textposition\":\"auto\",\"x\":[\"United States\",\"Brazil\",\"Canada\",\"United Kingdom\",\"Russia\",\"Japan\",\"Mexico\",\"Australia\",\"China\",\"Poland\"],\"xaxis\":\"x\",\"y\":[1310,304,84,76,71,61,47,41,32,26],\"yaxis\":\"y\",\"type\":\"bar\"}],                        {\"template\":{\"data\":{\"histogram2dcontour\":[{\"type\":\"histogram2dcontour\",\"colorbar\":{\"outlinewidth\":0,\"ticks\":\"\"},\"colorscale\":[[0.0,\"#0d0887\"],[0.1111111111111111,\"#46039f\"],[0.2222222222222222,\"#7201a8\"],[0.3333333333333333,\"#9c179e\"],[0.4444444444444444,\"#bd3786\"],[0.5555555555555556,\"#d8576b\"],[0.6666666666666666,\"#ed7953\"],[0.7777777777777778,\"#fb9f3a\"],[0.8888888888888888,\"#fdca26\"],[1.0,\"#f0f921\"]]}],\"choropleth\":[{\"type\":\"choropleth\",\"colorbar\":{\"outlinewidth\":0,\"ticks\":\"\"}}],\"histogram2d\":[{\"type\":\"histogram2d\",\"colorbar\":{\"outlinewidth\":0,\"ticks\":\"\"},\"colorscale\":[[0.0,\"#0d0887\"],[0.1111111111111111,\"#46039f\"],[0.2222222222222222,\"#7201a8\"],[0.3333333333333333,\"#9c179e\"],[0.4444444444444444,\"#bd3786\"],[0.5555555555555556,\"#d8576b\"],[0.6666666666666666,\"#ed7953\"],[0.7777777777777778,\"#fb9f3a\"],[0.8888888888888888,\"#fdca26\"],[1.0,\"#f0f921\"]]}],\"heatmap\":[{\"type\":\"heatmap\",\"colorbar\":{\"outlinewidth\":0,\"ticks\":\"\"},\"colorscale\":[[0.0,\"#0d0887\"],[0.1111111111111111,\"#46039f\"],[0.2222222222222222,\"#7201a8\"],[0.3333333333333333,\"#9c179e\"],[0.4444444444444444,\"#bd3786\"],[0.5555555555555556,\"#d8576b\"],[0.6666666666666666,\"#ed7953\"],[0.7777777777777778,\"#fb9f3a\"],[0.8888888888888888,\"#fdca26\"],[1.0,\"#f0f921\"]]}],\"heatmapgl\":[{\"type\":\"heatmapgl\",\"colorbar\":{\"outlinewidth\":0,\"ticks\":\"\"},\"colorscale\":[[0.0,\"#0d0887\"],[0.1111111111111111,\"#46039f\"],[0.2222222222222222,\"#7201a8\"],[0.3333333333333333,\"#9c179e\"],[0.4444444444444444,\"#bd3786\"],[0.5555555555555556,\"#d8576b\"],[0.6666666666666666,\"#ed7953\"],[0.7777777777777778,\"#fb9f3a\"],[0.8888888888888888,\"#fdca26\"],[1.0,\"#f0f921\"]]}],\"contourcarpet\":[{\"type\":\"contourcarpet\",\"colorbar\":{\"outlinewidth\":0,\"ticks\":\"\"}}],\"contour\":[{\"type\":\"contour\",\"colorbar\":{\"outlinewidth\":0,\"ticks\":\"\"},\"colorscale\":[[0.0,\"#0d0887\"],[0.1111111111111111,\"#46039f\"],[0.2222222222222222,\"#7201a8\"],[0.3333333333333333,\"#9c179e\"],[0.4444444444444444,\"#bd3786\"],[0.5555555555555556,\"#d8576b\"],[0.6666666666666666,\"#ed7953\"],[0.7777777777777778,\"#fb9f3a\"],[0.8888888888888888,\"#fdca26\"],[1.0,\"#f0f921\"]]}],\"surface\":[{\"type\":\"surface\",\"colorbar\":{\"outlinewidth\":0,\"ticks\":\"\"},\"colorscale\":[[0.0,\"#0d0887\"],[0.1111111111111111,\"#46039f\"],[0.2222222222222222,\"#7201a8\"],[0.3333333333333333,\"#9c179e\"],[0.4444444444444444,\"#bd3786\"],[0.5555555555555556,\"#d8576b\"],[0.6666666666666666,\"#ed7953\"],[0.7777777777777778,\"#fb9f3a\"],[0.8888888888888888,\"#fdca26\"],[1.0,\"#f0f921\"]]}],\"mesh3d\":[{\"type\":\"mesh3d\",\"colorbar\":{\"outlinewidth\":0,\"ticks\":\"\"}}],\"scatter\":[{\"fillpattern\":{\"fillmode\":\"overlay\",\"size\":10,\"solidity\":0.2},\"type\":\"scatter\"}],\"parcoords\":[{\"type\":\"parcoords\",\"line\":{\"colorbar\":{\"outlinewidth\":0,\"ticks\":\"\"}}}],\"scatterpolargl\":[{\"type\":\"scatterpolargl\",\"marker\":{\"colorbar\":{\"outlinewidth\":0,\"ticks\":\"\"}}}],\"bar\":[{\"error_x\":{\"color\":\"#2a3f5f\"},\"error_y\":{\"color\":\"#2a3f5f\"},\"marker\":{\"line\":{\"color\":\"#E5ECF6\",\"width\":0.5},\"pattern\":{\"fillmode\":\"overlay\",\"size\":10,\"solidity\":0.2}},\"type\":\"bar\"}],\"scattergeo\":[{\"type\":\"scattergeo\",\"marker\":{\"colorbar\":{\"outlinewidth\":0,\"ticks\":\"\"}}}],\"scatterpolar\":[{\"type\":\"scatterpolar\",\"marker\":{\"colorbar\":{\"outlinewidth\":0,\"ticks\":\"\"}}}],\"histogram\":[{\"marker\":{\"pattern\":{\"fillmode\":\"overlay\",\"size\":10,\"solidity\":0.2}},\"type\":\"histogram\"}],\"scattergl\":[{\"type\":\"scattergl\",\"marker\":{\"colorbar\":{\"outlinewidth\":0,\"ticks\":\"\"}}}],\"scatter3d\":[{\"type\":\"scatter3d\",\"line\":{\"colorbar\":{\"outlinewidth\":0,\"ticks\":\"\"}},\"marker\":{\"colorbar\":{\"outlinewidth\":0,\"ticks\":\"\"}}}],\"scattermapbox\":[{\"type\":\"scattermapbox\",\"marker\":{\"colorbar\":{\"outlinewidth\":0,\"ticks\":\"\"}}}],\"scatterternary\":[{\"type\":\"scatterternary\",\"marker\":{\"colorbar\":{\"outlinewidth\":0,\"ticks\":\"\"}}}],\"scattercarpet\":[{\"type\":\"scattercarpet\",\"marker\":{\"colorbar\":{\"outlinewidth\":0,\"ticks\":\"\"}}}],\"carpet\":[{\"aaxis\":{\"endlinecolor\":\"#2a3f5f\",\"gridcolor\":\"white\",\"linecolor\":\"white\",\"minorgridcolor\":\"white\",\"startlinecolor\":\"#2a3f5f\"},\"baxis\":{\"endlinecolor\":\"#2a3f5f\",\"gridcolor\":\"white\",\"linecolor\":\"white\",\"minorgridcolor\":\"white\",\"startlinecolor\":\"#2a3f5f\"},\"type\":\"carpet\"}],\"table\":[{\"cells\":{\"fill\":{\"color\":\"#EBF0F8\"},\"line\":{\"color\":\"white\"}},\"header\":{\"fill\":{\"color\":\"#C8D4E3\"},\"line\":{\"color\":\"white\"}},\"type\":\"table\"}],\"barpolar\":[{\"marker\":{\"line\":{\"color\":\"#E5ECF6\",\"width\":0.5},\"pattern\":{\"fillmode\":\"overlay\",\"size\":10,\"solidity\":0.2}},\"type\":\"barpolar\"}],\"pie\":[{\"automargin\":true,\"type\":\"pie\"}]},\"layout\":{\"autotypenumbers\":\"strict\",\"colorway\":[\"#636efa\",\"#EF553B\",\"#00cc96\",\"#ab63fa\",\"#FFA15A\",\"#19d3f3\",\"#FF6692\",\"#B6E880\",\"#FF97FF\",\"#FECB52\"],\"font\":{\"color\":\"#2a3f5f\"},\"hovermode\":\"closest\",\"hoverlabel\":{\"align\":\"left\"},\"paper_bgcolor\":\"white\",\"plot_bgcolor\":\"#E5ECF6\",\"polar\":{\"bgcolor\":\"#E5ECF6\",\"angularaxis\":{\"gridcolor\":\"white\",\"linecolor\":\"white\",\"ticks\":\"\"},\"radialaxis\":{\"gridcolor\":\"white\",\"linecolor\":\"white\",\"ticks\":\"\"}},\"ternary\":{\"bgcolor\":\"#E5ECF6\",\"aaxis\":{\"gridcolor\":\"white\",\"linecolor\":\"white\",\"ticks\":\"\"},\"baxis\":{\"gridcolor\":\"white\",\"linecolor\":\"white\",\"ticks\":\"\"},\"caxis\":{\"gridcolor\":\"white\",\"linecolor\":\"white\",\"ticks\":\"\"}},\"coloraxis\":{\"colorbar\":{\"outlinewidth\":0,\"ticks\":\"\"}},\"colorscale\":{\"sequential\":[[0.0,\"#0d0887\"],[0.1111111111111111,\"#46039f\"],[0.2222222222222222,\"#7201a8\"],[0.3333333333333333,\"#9c179e\"],[0.4444444444444444,\"#bd3786\"],[0.5555555555555556,\"#d8576b\"],[0.6666666666666666,\"#ed7953\"],[0.7777777777777778,\"#fb9f3a\"],[0.8888888888888888,\"#fdca26\"],[1.0,\"#f0f921\"]],\"sequentialminus\":[[0.0,\"#0d0887\"],[0.1111111111111111,\"#46039f\"],[0.2222222222222222,\"#7201a8\"],[0.3333333333333333,\"#9c179e\"],[0.4444444444444444,\"#bd3786\"],[0.5555555555555556,\"#d8576b\"],[0.6666666666666666,\"#ed7953\"],[0.7777777777777778,\"#fb9f3a\"],[0.8888888888888888,\"#fdca26\"],[1.0,\"#f0f921\"]],\"diverging\":[[0,\"#8e0152\"],[0.1,\"#c51b7d\"],[0.2,\"#de77ae\"],[0.3,\"#f1b6da\"],[0.4,\"#fde0ef\"],[0.5,\"#f7f7f7\"],[0.6,\"#e6f5d0\"],[0.7,\"#b8e186\"],[0.8,\"#7fbc41\"],[0.9,\"#4d9221\"],[1,\"#276419\"]]},\"xaxis\":{\"gridcolor\":\"white\",\"linecolor\":\"white\",\"ticks\":\"\",\"title\":{\"standoff\":15},\"zerolinecolor\":\"white\",\"automargin\":true,\"zerolinewidth\":2},\"yaxis\":{\"gridcolor\":\"white\",\"linecolor\":\"white\",\"ticks\":\"\",\"title\":{\"standoff\":15},\"zerolinecolor\":\"white\",\"automargin\":true,\"zerolinewidth\":2},\"scene\":{\"xaxis\":{\"backgroundcolor\":\"#E5ECF6\",\"gridcolor\":\"white\",\"linecolor\":\"white\",\"showbackground\":true,\"ticks\":\"\",\"zerolinecolor\":\"white\",\"gridwidth\":2},\"yaxis\":{\"backgroundcolor\":\"#E5ECF6\",\"gridcolor\":\"white\",\"linecolor\":\"white\",\"showbackground\":true,\"ticks\":\"\",\"zerolinecolor\":\"white\",\"gridwidth\":2},\"zaxis\":{\"backgroundcolor\":\"#E5ECF6\",\"gridcolor\":\"white\",\"linecolor\":\"white\",\"showbackground\":true,\"ticks\":\"\",\"zerolinecolor\":\"white\",\"gridwidth\":2}},\"shapedefaults\":{\"line\":{\"color\":\"#2a3f5f\"}},\"annotationdefaults\":{\"arrowcolor\":\"#2a3f5f\",\"arrowhead\":0,\"arrowwidth\":1},\"geo\":{\"bgcolor\":\"white\",\"landcolor\":\"#E5ECF6\",\"subunitcolor\":\"white\",\"showland\":true,\"showlakes\":true,\"lakecolor\":\"white\"},\"title\":{\"x\":0.05},\"mapbox\":{\"style\":\"light\"}}},\"xaxis\":{\"anchor\":\"y\",\"domain\":[0.0,1.0],\"title\":{\"text\":\"Country\"}},\"yaxis\":{\"anchor\":\"x\",\"domain\":[0.0,1.0],\"title\":{\"text\":\"Fighter Count\"},\"showgrid\":false},\"legend\":{\"tracegroupgap\":0},\"margin\":{\"t\":60},\"barmode\":\"relative\",\"title\":{\"text\":\"Countries with most MMA Fighters\",\"x\":0.5},\"plot_bgcolor\":\"#FFFFF5\"},                        {\"responsive\": true}                    ).then(function(){\n",
              "                            \n",
              "var gd = document.getElementById('1c5274c4-a953-4762-a673-2cd1831cdc6a');\n",
              "var x = new MutationObserver(function (mutations, observer) {{\n",
              "        var display = window.getComputedStyle(gd).display;\n",
              "        if (!display || display === 'none') {{\n",
              "            console.log([gd, 'removed!']);\n",
              "            Plotly.purge(gd);\n",
              "            observer.disconnect();\n",
              "        }}\n",
              "}});\n",
              "\n",
              "// Listen for the removal of the full notebook cells\n",
              "var notebookContainer = gd.closest('#notebook-container');\n",
              "if (notebookContainer) {{\n",
              "    x.observe(notebookContainer, {childList: true});\n",
              "}}\n",
              "\n",
              "// Listen for the clearing of the current output cell\n",
              "var outputEl = gd.closest('.output');\n",
              "if (outputEl) {{\n",
              "    x.observe(outputEl, {childList: true});\n",
              "}}\n",
              "\n",
              "                        })                };                            </script>        </div>\n",
              "</body>\n",
              "</html>"
            ]
          },
          "metadata": {}
        }
      ]
    },
    {
      "cell_type": "markdown",
      "source": [
        "---"
      ],
      "metadata": {
        "id": "ZiM5bAQE5Pus"
      }
    },
    {
      "cell_type": "markdown",
      "source": [
        "## Fighters with Most wins in the octagon."
      ],
      "metadata": {
        "id": "Co8Q4ttLnrnQ"
      }
    },
    {
      "cell_type": "code",
      "source": [
        "most_wins = df.sort_values('Division Body_Wins', ascending=False)\n",
        "most_wins=most_wins[['Name','Division Title','Division Body_Wins','Bio Data_Status']]\n",
        "\n",
        "most_wins = df.sort_values('Division Body_Wins', ascending=False)\n",
        "\n",
        "all = most_wins[:50]\n",
        "top_20_active = most_wins[most_wins['Bio Data_Status'] == 'Active'][:20]\n",
        "top_20_inactive = most_wins[most_wins['Bio Data_Status'] == 'Not Fighting'][:20]\n",
        "top_20_Retired = most_wins[most_wins['Bio Data_Status'] == 'Retired'][:20]\n",
        "\n",
        "fig = go.Figure(data=[go.Table(\n",
        "    header=dict(values=list(['Name', 'Divsion','Wins','Status']),\n",
        "                fill_color='#F7E6C4',\n",
        "                align='left'),\n",
        "    cells=dict(values=[all.Name, all['Division Title'], all['Division Body_Wins'], all['Bio Data_Status']],\n",
        "               fill_color='#FFF4F4',\n",
        "               align='left'))\n",
        "])\n",
        "\n",
        "fig.update_layout(\n",
        "    title=\"Top 50 Fighters with Most Wins\",\n",
        "    title_x=0.5\n",
        ")\n",
        "\n",
        "fig.show()"
      ],
      "metadata": {
        "colab": {
          "base_uri": "https://localhost:8080/",
          "height": 542
        },
        "id": "K_XZr0MpngrV",
        "outputId": "6566215b-1e6d-457f-b629-5bc28f39dd3d"
      },
      "execution_count": 16,
      "outputs": [
        {
          "output_type": "display_data",
          "data": {
            "text/html": [
              "<html>\n",
              "<head><meta charset=\"utf-8\" /></head>\n",
              "<body>\n",
              "    <div>            <script src=\"https://cdnjs.cloudflare.com/ajax/libs/mathjax/2.7.5/MathJax.js?config=TeX-AMS-MML_SVG\"></script><script type=\"text/javascript\">if (window.MathJax && window.MathJax.Hub && window.MathJax.Hub.Config) {window.MathJax.Hub.Config({SVG: {font: \"STIX-Web\"}});}</script>                <script type=\"text/javascript\">window.PlotlyConfig = {MathJaxConfig: 'local'};</script>\n",
              "        <script src=\"https://cdn.plot.ly/plotly-2.18.2.min.js\"></script>                <div id=\"318f2ac8-c864-48d6-9e3f-60a070c4d6de\" class=\"plotly-graph-div\" style=\"height:525px; width:100%;\"></div>            <script type=\"text/javascript\">                                    window.PLOTLYENV=window.PLOTLYENV || {};                                    if (document.getElementById(\"318f2ac8-c864-48d6-9e3f-60a070c4d6de\")) {                    Plotly.newPlot(                        \"318f2ac8-c864-48d6-9e3f-60a070c4d6de\",                        [{\"cells\":{\"align\":\"left\",\"fill\":{\"color\":\"#FFF4F4\"},\"values\":[[\"Jeremy Horn\",\"Shonie Carter\",\"Aleksei Oleinik\",\"Brian Ebersole\",\"Alistair Overeem\",\"Matt Hughes\",\"Joe Doerksen\",\"Guy Mezger\",\"Yves Edwards\",\"Gegard Mousasi\",\"Joe Riggs\",\"Chris Lytle\",\"Rich Clementi\",\"Gleison Tibau\",\"Kristian Rothaermel\",\"Ben Rothwell\",\"Shayilan Nuerdanbieke\",\"Miguel Angel Torres\",\"Clay Guida\",\"Sean Sherk\",\"Nate Marquardt\",\"Joe Stevenson\",\"Renan Barao\",\"Amar Suloev\",\"Anthony Smith\",\"Gilbert Yvel\",\"Donald Cerrone\",\"Alexander Volkov\",\"Urijah Faber\",\"Wanderlei Silva\",\"Rampage Jackson\",\"Jorge Masvidal\",\"Tatsuya Kawajiri\",\"Gerald Meerschaert\",\"Jim Miller\",\"Jeff Curran\",\"Iuri Alcantara\",\"Dave Menne\",\"Josh Barnett\",\"Takanori Gomi\",\"Edwin Dewees\",\"Hector Lombard\",\"Yushin Okami\",\"Andrei Arlovski\",\"Minotauro Nogueira\",\"John Alessio\",\"Anderson Silva\",\"Evan Tanner\",\"Keita Nakamura\",\"Josh Neer\"],[\"Middleweight\",\"Welterweight\",\"Heavyweight\",\"Welterweight\",\"Heavyweight\",\"Welterweight\",\"Middleweight\",\"Middleweight\",\"Lightweight\",\"Middleweight\",\"Middleweight\",\"Welterweight\",\"Lightweight\",\"Lightweight\",\"Light Heavyweight\",\"Heavyweight\",\"Featherweight\",\"Bantamweight\",\"Lightweight\",\"Lightweight\",\"Middleweight\",\"Featherweight\",\"Bantamweight\",\"Middleweight\",\"Light Heavyweight\",\"Heavyweight\",\"Welterweight\",\"Heavyweight\",\"Bantamweight\",\"Light Heavyweight\",\"Light Heavyweight\",\"Welterweight\",\"Featherweight\",\"Middleweight\",\"Lightweight\",\"Bantamweight\",\"Bantamweight\",\"Welterweight\",\"Heavyweight\",\"Lightweight\",\"Middleweight\",\"Middleweight\",\"Welterweight\",\"Heavyweight\",\"Heavyweight\",\"Lightweight\",\"Middleweight\",\"Middleweight\",\"Welterweight\",\"Welterweight\"],[88.0,66.0,60.0,51.0,47.0,46.0,45.0,44.0,42.0,42.0,41.0,41.0,40.0,40.0,40.0,39.0,39.0,39.0,38.0,38.0,38.0,36.0,36.0,36.0,36.0,36.0,36.0,36.0,35.0,35.0,35.0,35.0,35.0,35.0,35.0,35.0,35.0,35.0,35.0,35.0,34.0,34.0,34.0,34.0,34.0,34.0,34.0,34.0,34.0,33.0],[\"Not Fighting\",\"Not Fighting\",\"Not Fighting\",\"Not Fighting\",\"Not Fighting\",\"Retired\",\"Not Fighting\",\"Retired\",\"Retired\",\"Not Fighting\",\"Not Fighting\",\"Not Fighting\",\"Not Fighting\",\"Not Fighting\",\"Not Fighting\",\"Not Fighting\",\"Active\",\"Not Fighting\",\"Active\",\"Not Fighting\",\"Not Fighting\",\"Not Fighting\",\"Not Fighting\",\"Not Fighting\",\"Active\",\"Not Fighting\",\"Retired\",\"Active\",\"Active\",\"Not Fighting\",\"Not Fighting\",\"Active\",\"Not Fighting\",\"Active\",\"Active\",\"Not Fighting\",\"Not Fighting\",\"Retired\",\"Retired\",\"Not Fighting\",\"Not Fighting\",\"Not Fighting\",\"Not Fighting\",\"Active\",\"Retired\",\"Not Fighting\",\"Retired\",\"Not Fighting\",\"Not Fighting\",\"Not Fighting\"]]},\"header\":{\"align\":\"left\",\"fill\":{\"color\":\"#F7E6C4\"},\"values\":[\"Name\",\"Divsion\",\"Wins\",\"Status\"]},\"type\":\"table\"}],                        {\"template\":{\"data\":{\"histogram2dcontour\":[{\"type\":\"histogram2dcontour\",\"colorbar\":{\"outlinewidth\":0,\"ticks\":\"\"},\"colorscale\":[[0.0,\"#0d0887\"],[0.1111111111111111,\"#46039f\"],[0.2222222222222222,\"#7201a8\"],[0.3333333333333333,\"#9c179e\"],[0.4444444444444444,\"#bd3786\"],[0.5555555555555556,\"#d8576b\"],[0.6666666666666666,\"#ed7953\"],[0.7777777777777778,\"#fb9f3a\"],[0.8888888888888888,\"#fdca26\"],[1.0,\"#f0f921\"]]}],\"choropleth\":[{\"type\":\"choropleth\",\"colorbar\":{\"outlinewidth\":0,\"ticks\":\"\"}}],\"histogram2d\":[{\"type\":\"histogram2d\",\"colorbar\":{\"outlinewidth\":0,\"ticks\":\"\"},\"colorscale\":[[0.0,\"#0d0887\"],[0.1111111111111111,\"#46039f\"],[0.2222222222222222,\"#7201a8\"],[0.3333333333333333,\"#9c179e\"],[0.4444444444444444,\"#bd3786\"],[0.5555555555555556,\"#d8576b\"],[0.6666666666666666,\"#ed7953\"],[0.7777777777777778,\"#fb9f3a\"],[0.8888888888888888,\"#fdca26\"],[1.0,\"#f0f921\"]]}],\"heatmap\":[{\"type\":\"heatmap\",\"colorbar\":{\"outlinewidth\":0,\"ticks\":\"\"},\"colorscale\":[[0.0,\"#0d0887\"],[0.1111111111111111,\"#46039f\"],[0.2222222222222222,\"#7201a8\"],[0.3333333333333333,\"#9c179e\"],[0.4444444444444444,\"#bd3786\"],[0.5555555555555556,\"#d8576b\"],[0.6666666666666666,\"#ed7953\"],[0.7777777777777778,\"#fb9f3a\"],[0.8888888888888888,\"#fdca26\"],[1.0,\"#f0f921\"]]}],\"heatmapgl\":[{\"type\":\"heatmapgl\",\"colorbar\":{\"outlinewidth\":0,\"ticks\":\"\"},\"colorscale\":[[0.0,\"#0d0887\"],[0.1111111111111111,\"#46039f\"],[0.2222222222222222,\"#7201a8\"],[0.3333333333333333,\"#9c179e\"],[0.4444444444444444,\"#bd3786\"],[0.5555555555555556,\"#d8576b\"],[0.6666666666666666,\"#ed7953\"],[0.7777777777777778,\"#fb9f3a\"],[0.8888888888888888,\"#fdca26\"],[1.0,\"#f0f921\"]]}],\"contourcarpet\":[{\"type\":\"contourcarpet\",\"colorbar\":{\"outlinewidth\":0,\"ticks\":\"\"}}],\"contour\":[{\"type\":\"contour\",\"colorbar\":{\"outlinewidth\":0,\"ticks\":\"\"},\"colorscale\":[[0.0,\"#0d0887\"],[0.1111111111111111,\"#46039f\"],[0.2222222222222222,\"#7201a8\"],[0.3333333333333333,\"#9c179e\"],[0.4444444444444444,\"#bd3786\"],[0.5555555555555556,\"#d8576b\"],[0.6666666666666666,\"#ed7953\"],[0.7777777777777778,\"#fb9f3a\"],[0.8888888888888888,\"#fdca26\"],[1.0,\"#f0f921\"]]}],\"surface\":[{\"type\":\"surface\",\"colorbar\":{\"outlinewidth\":0,\"ticks\":\"\"},\"colorscale\":[[0.0,\"#0d0887\"],[0.1111111111111111,\"#46039f\"],[0.2222222222222222,\"#7201a8\"],[0.3333333333333333,\"#9c179e\"],[0.4444444444444444,\"#bd3786\"],[0.5555555555555556,\"#d8576b\"],[0.6666666666666666,\"#ed7953\"],[0.7777777777777778,\"#fb9f3a\"],[0.8888888888888888,\"#fdca26\"],[1.0,\"#f0f921\"]]}],\"mesh3d\":[{\"type\":\"mesh3d\",\"colorbar\":{\"outlinewidth\":0,\"ticks\":\"\"}}],\"scatter\":[{\"fillpattern\":{\"fillmode\":\"overlay\",\"size\":10,\"solidity\":0.2},\"type\":\"scatter\"}],\"parcoords\":[{\"type\":\"parcoords\",\"line\":{\"colorbar\":{\"outlinewidth\":0,\"ticks\":\"\"}}}],\"scatterpolargl\":[{\"type\":\"scatterpolargl\",\"marker\":{\"colorbar\":{\"outlinewidth\":0,\"ticks\":\"\"}}}],\"bar\":[{\"error_x\":{\"color\":\"#2a3f5f\"},\"error_y\":{\"color\":\"#2a3f5f\"},\"marker\":{\"line\":{\"color\":\"#E5ECF6\",\"width\":0.5},\"pattern\":{\"fillmode\":\"overlay\",\"size\":10,\"solidity\":0.2}},\"type\":\"bar\"}],\"scattergeo\":[{\"type\":\"scattergeo\",\"marker\":{\"colorbar\":{\"outlinewidth\":0,\"ticks\":\"\"}}}],\"scatterpolar\":[{\"type\":\"scatterpolar\",\"marker\":{\"colorbar\":{\"outlinewidth\":0,\"ticks\":\"\"}}}],\"histogram\":[{\"marker\":{\"pattern\":{\"fillmode\":\"overlay\",\"size\":10,\"solidity\":0.2}},\"type\":\"histogram\"}],\"scattergl\":[{\"type\":\"scattergl\",\"marker\":{\"colorbar\":{\"outlinewidth\":0,\"ticks\":\"\"}}}],\"scatter3d\":[{\"type\":\"scatter3d\",\"line\":{\"colorbar\":{\"outlinewidth\":0,\"ticks\":\"\"}},\"marker\":{\"colorbar\":{\"outlinewidth\":0,\"ticks\":\"\"}}}],\"scattermapbox\":[{\"type\":\"scattermapbox\",\"marker\":{\"colorbar\":{\"outlinewidth\":0,\"ticks\":\"\"}}}],\"scatterternary\":[{\"type\":\"scatterternary\",\"marker\":{\"colorbar\":{\"outlinewidth\":0,\"ticks\":\"\"}}}],\"scattercarpet\":[{\"type\":\"scattercarpet\",\"marker\":{\"colorbar\":{\"outlinewidth\":0,\"ticks\":\"\"}}}],\"carpet\":[{\"aaxis\":{\"endlinecolor\":\"#2a3f5f\",\"gridcolor\":\"white\",\"linecolor\":\"white\",\"minorgridcolor\":\"white\",\"startlinecolor\":\"#2a3f5f\"},\"baxis\":{\"endlinecolor\":\"#2a3f5f\",\"gridcolor\":\"white\",\"linecolor\":\"white\",\"minorgridcolor\":\"white\",\"startlinecolor\":\"#2a3f5f\"},\"type\":\"carpet\"}],\"table\":[{\"cells\":{\"fill\":{\"color\":\"#EBF0F8\"},\"line\":{\"color\":\"white\"}},\"header\":{\"fill\":{\"color\":\"#C8D4E3\"},\"line\":{\"color\":\"white\"}},\"type\":\"table\"}],\"barpolar\":[{\"marker\":{\"line\":{\"color\":\"#E5ECF6\",\"width\":0.5},\"pattern\":{\"fillmode\":\"overlay\",\"size\":10,\"solidity\":0.2}},\"type\":\"barpolar\"}],\"pie\":[{\"automargin\":true,\"type\":\"pie\"}]},\"layout\":{\"autotypenumbers\":\"strict\",\"colorway\":[\"#636efa\",\"#EF553B\",\"#00cc96\",\"#ab63fa\",\"#FFA15A\",\"#19d3f3\",\"#FF6692\",\"#B6E880\",\"#FF97FF\",\"#FECB52\"],\"font\":{\"color\":\"#2a3f5f\"},\"hovermode\":\"closest\",\"hoverlabel\":{\"align\":\"left\"},\"paper_bgcolor\":\"white\",\"plot_bgcolor\":\"#E5ECF6\",\"polar\":{\"bgcolor\":\"#E5ECF6\",\"angularaxis\":{\"gridcolor\":\"white\",\"linecolor\":\"white\",\"ticks\":\"\"},\"radialaxis\":{\"gridcolor\":\"white\",\"linecolor\":\"white\",\"ticks\":\"\"}},\"ternary\":{\"bgcolor\":\"#E5ECF6\",\"aaxis\":{\"gridcolor\":\"white\",\"linecolor\":\"white\",\"ticks\":\"\"},\"baxis\":{\"gridcolor\":\"white\",\"linecolor\":\"white\",\"ticks\":\"\"},\"caxis\":{\"gridcolor\":\"white\",\"linecolor\":\"white\",\"ticks\":\"\"}},\"coloraxis\":{\"colorbar\":{\"outlinewidth\":0,\"ticks\":\"\"}},\"colorscale\":{\"sequential\":[[0.0,\"#0d0887\"],[0.1111111111111111,\"#46039f\"],[0.2222222222222222,\"#7201a8\"],[0.3333333333333333,\"#9c179e\"],[0.4444444444444444,\"#bd3786\"],[0.5555555555555556,\"#d8576b\"],[0.6666666666666666,\"#ed7953\"],[0.7777777777777778,\"#fb9f3a\"],[0.8888888888888888,\"#fdca26\"],[1.0,\"#f0f921\"]],\"sequentialminus\":[[0.0,\"#0d0887\"],[0.1111111111111111,\"#46039f\"],[0.2222222222222222,\"#7201a8\"],[0.3333333333333333,\"#9c179e\"],[0.4444444444444444,\"#bd3786\"],[0.5555555555555556,\"#d8576b\"],[0.6666666666666666,\"#ed7953\"],[0.7777777777777778,\"#fb9f3a\"],[0.8888888888888888,\"#fdca26\"],[1.0,\"#f0f921\"]],\"diverging\":[[0,\"#8e0152\"],[0.1,\"#c51b7d\"],[0.2,\"#de77ae\"],[0.3,\"#f1b6da\"],[0.4,\"#fde0ef\"],[0.5,\"#f7f7f7\"],[0.6,\"#e6f5d0\"],[0.7,\"#b8e186\"],[0.8,\"#7fbc41\"],[0.9,\"#4d9221\"],[1,\"#276419\"]]},\"xaxis\":{\"gridcolor\":\"white\",\"linecolor\":\"white\",\"ticks\":\"\",\"title\":{\"standoff\":15},\"zerolinecolor\":\"white\",\"automargin\":true,\"zerolinewidth\":2},\"yaxis\":{\"gridcolor\":\"white\",\"linecolor\":\"white\",\"ticks\":\"\",\"title\":{\"standoff\":15},\"zerolinecolor\":\"white\",\"automargin\":true,\"zerolinewidth\":2},\"scene\":{\"xaxis\":{\"backgroundcolor\":\"#E5ECF6\",\"gridcolor\":\"white\",\"linecolor\":\"white\",\"showbackground\":true,\"ticks\":\"\",\"zerolinecolor\":\"white\",\"gridwidth\":2},\"yaxis\":{\"backgroundcolor\":\"#E5ECF6\",\"gridcolor\":\"white\",\"linecolor\":\"white\",\"showbackground\":true,\"ticks\":\"\",\"zerolinecolor\":\"white\",\"gridwidth\":2},\"zaxis\":{\"backgroundcolor\":\"#E5ECF6\",\"gridcolor\":\"white\",\"linecolor\":\"white\",\"showbackground\":true,\"ticks\":\"\",\"zerolinecolor\":\"white\",\"gridwidth\":2}},\"shapedefaults\":{\"line\":{\"color\":\"#2a3f5f\"}},\"annotationdefaults\":{\"arrowcolor\":\"#2a3f5f\",\"arrowhead\":0,\"arrowwidth\":1},\"geo\":{\"bgcolor\":\"white\",\"landcolor\":\"#E5ECF6\",\"subunitcolor\":\"white\",\"showland\":true,\"showlakes\":true,\"lakecolor\":\"white\"},\"title\":{\"x\":0.05},\"mapbox\":{\"style\":\"light\"}}},\"title\":{\"text\":\"Top 50 Fighters with Most Wins\",\"x\":0.5}},                        {\"responsive\": true}                    ).then(function(){\n",
              "                            \n",
              "var gd = document.getElementById('318f2ac8-c864-48d6-9e3f-60a070c4d6de');\n",
              "var x = new MutationObserver(function (mutations, observer) {{\n",
              "        var display = window.getComputedStyle(gd).display;\n",
              "        if (!display || display === 'none') {{\n",
              "            console.log([gd, 'removed!']);\n",
              "            Plotly.purge(gd);\n",
              "            observer.disconnect();\n",
              "        }}\n",
              "}});\n",
              "\n",
              "// Listen for the removal of the full notebook cells\n",
              "var notebookContainer = gd.closest('#notebook-container');\n",
              "if (notebookContainer) {{\n",
              "    x.observe(notebookContainer, {childList: true});\n",
              "}}\n",
              "\n",
              "// Listen for the clearing of the current output cell\n",
              "var outputEl = gd.closest('.output');\n",
              "if (outputEl) {{\n",
              "    x.observe(outputEl, {childList: true});\n",
              "}}\n",
              "\n",
              "                        })                };                            </script>        </div>\n",
              "</body>\n",
              "</html>"
            ]
          },
          "metadata": {}
        }
      ]
    },
    {
      "cell_type": "markdown",
      "source": [
        "---"
      ],
      "metadata": {
        "id": "YhCBGcWp5M6b"
      }
    },
    {
      "cell_type": "code",
      "source": [
        "# Creating a bar chart for top 20 active fighters\n",
        "fig_active = go.Figure(data=[go.Bar(\n",
        "    x=top_20_active['Name'],\n",
        "    y=top_20_active['Division Body_Wins'],\n",
        "    marker_color='#19A7CE'\n",
        ")])\n",
        "fig_active.update_layout(\n",
        "    title=\"Top 20 Active Fighters with Most Wins\",\n",
        "    xaxis_title=\"Fighter Name\",\n",
        "    yaxis_title=\"Number of Wins\",\n",
        "    title_x=0.5,\n",
        "    yaxis=dict(showgrid=False),\n",
        "    plot_bgcolor='#F2FFE9'\n",
        ")\n",
        "\n",
        "# Creating a bar chart for top 20 inactive fighters\n",
        "fig_inactive = go.Figure(data=[go.Bar(\n",
        "    x=top_20_inactive['Name'],\n",
        "    y=top_20_inactive['Division Body_Wins'],\n",
        "    marker_color='#A555EC'\n",
        ")])\n",
        "fig_inactive.update_layout(\n",
        "    title=\"Top 20 Inactive Fighters with Most Wins\",\n",
        "    xaxis_title=\"Fighter Name\",\n",
        "    yaxis_title=\"Number of Wins\",\n",
        "    title_x=0.5,\n",
        "    yaxis=dict(showgrid=False),\n",
        "    plot_bgcolor='#FAEDF0'\n",
        ")\n",
        "\n",
        "# Creating a bar chart for top 20 fighters not currently fighting\n",
        "fig_not_fighting = go.Figure(data=[go.Bar(\n",
        "    x=top_20_Retired['Name'],\n",
        "    y=top_20_Retired['Division Body_Wins'],\n",
        "    marker_color='#E23E57'\n",
        ")])\n",
        "fig_not_fighting.update_layout(\n",
        "    title=\"Top 20 Retired Fighters with Most Wins\",\n",
        "    xaxis_title=\"Fighter Name\",\n",
        "    yaxis_title=\"Number of Wins\",\n",
        "    title_x=0.5,\n",
        "    yaxis=dict(showgrid=False),\n",
        "    plot_bgcolor='#FAEDF0'\n",
        ")\n",
        "\n",
        "fig_active.show()"
      ],
      "metadata": {
        "colab": {
          "base_uri": "https://localhost:8080/",
          "height": 542
        },
        "id": "4wUsQL2Zn85u",
        "outputId": "62b57992-0506-47da-ff4b-f1ff75620962"
      },
      "execution_count": 17,
      "outputs": [
        {
          "output_type": "display_data",
          "data": {
            "text/html": [
              "<html>\n",
              "<head><meta charset=\"utf-8\" /></head>\n",
              "<body>\n",
              "    <div>            <script src=\"https://cdnjs.cloudflare.com/ajax/libs/mathjax/2.7.5/MathJax.js?config=TeX-AMS-MML_SVG\"></script><script type=\"text/javascript\">if (window.MathJax && window.MathJax.Hub && window.MathJax.Hub.Config) {window.MathJax.Hub.Config({SVG: {font: \"STIX-Web\"}});}</script>                <script type=\"text/javascript\">window.PlotlyConfig = {MathJaxConfig: 'local'};</script>\n",
              "        <script src=\"https://cdn.plot.ly/plotly-2.18.2.min.js\"></script>                <div id=\"00a6ab8c-c22c-420b-8c82-dd41c6f1d20b\" class=\"plotly-graph-div\" style=\"height:525px; width:100%;\"></div>            <script type=\"text/javascript\">                                    window.PLOTLYENV=window.PLOTLYENV || {};                                    if (document.getElementById(\"00a6ab8c-c22c-420b-8c82-dd41c6f1d20b\")) {                    Plotly.newPlot(                        \"00a6ab8c-c22c-420b-8c82-dd41c6f1d20b\",                        [{\"marker\":{\"color\":\"#19A7CE\"},\"x\":[\"Shayilan Nuerdanbieke\",\"Clay Guida\",\"Anthony Smith\",\"Alexander Volkov\",\"Urijah Faber\",\"Jorge Masvidal\",\"Gerald Meerschaert\",\"Jim Miller\",\"Andrei Arlovski\",\"Charles Oliveira\",\"Tim Means\",\"Rafael Dos Anjos\",\"Maxim Grishin\",\"Chris Curtis\",\"Nikita Krylov\",\"Santiago Ponzinibbio\",\"Jan Bachowicz\",\"Douglas Silva de Andrade\",\"Ji Prochzka\",\"Dustin Poirier\"],\"y\":[39.0,38.0,36.0,36.0,35.0,35.0,35.0,35.0,34.0,33.0,32.0,32.0,32.0,30.0,30.0,30.0,29.0,29.0,29.0,29.0],\"type\":\"bar\"}],                        {\"template\":{\"data\":{\"histogram2dcontour\":[{\"type\":\"histogram2dcontour\",\"colorbar\":{\"outlinewidth\":0,\"ticks\":\"\"},\"colorscale\":[[0.0,\"#0d0887\"],[0.1111111111111111,\"#46039f\"],[0.2222222222222222,\"#7201a8\"],[0.3333333333333333,\"#9c179e\"],[0.4444444444444444,\"#bd3786\"],[0.5555555555555556,\"#d8576b\"],[0.6666666666666666,\"#ed7953\"],[0.7777777777777778,\"#fb9f3a\"],[0.8888888888888888,\"#fdca26\"],[1.0,\"#f0f921\"]]}],\"choropleth\":[{\"type\":\"choropleth\",\"colorbar\":{\"outlinewidth\":0,\"ticks\":\"\"}}],\"histogram2d\":[{\"type\":\"histogram2d\",\"colorbar\":{\"outlinewidth\":0,\"ticks\":\"\"},\"colorscale\":[[0.0,\"#0d0887\"],[0.1111111111111111,\"#46039f\"],[0.2222222222222222,\"#7201a8\"],[0.3333333333333333,\"#9c179e\"],[0.4444444444444444,\"#bd3786\"],[0.5555555555555556,\"#d8576b\"],[0.6666666666666666,\"#ed7953\"],[0.7777777777777778,\"#fb9f3a\"],[0.8888888888888888,\"#fdca26\"],[1.0,\"#f0f921\"]]}],\"heatmap\":[{\"type\":\"heatmap\",\"colorbar\":{\"outlinewidth\":0,\"ticks\":\"\"},\"colorscale\":[[0.0,\"#0d0887\"],[0.1111111111111111,\"#46039f\"],[0.2222222222222222,\"#7201a8\"],[0.3333333333333333,\"#9c179e\"],[0.4444444444444444,\"#bd3786\"],[0.5555555555555556,\"#d8576b\"],[0.6666666666666666,\"#ed7953\"],[0.7777777777777778,\"#fb9f3a\"],[0.8888888888888888,\"#fdca26\"],[1.0,\"#f0f921\"]]}],\"heatmapgl\":[{\"type\":\"heatmapgl\",\"colorbar\":{\"outlinewidth\":0,\"ticks\":\"\"},\"colorscale\":[[0.0,\"#0d0887\"],[0.1111111111111111,\"#46039f\"],[0.2222222222222222,\"#7201a8\"],[0.3333333333333333,\"#9c179e\"],[0.4444444444444444,\"#bd3786\"],[0.5555555555555556,\"#d8576b\"],[0.6666666666666666,\"#ed7953\"],[0.7777777777777778,\"#fb9f3a\"],[0.8888888888888888,\"#fdca26\"],[1.0,\"#f0f921\"]]}],\"contourcarpet\":[{\"type\":\"contourcarpet\",\"colorbar\":{\"outlinewidth\":0,\"ticks\":\"\"}}],\"contour\":[{\"type\":\"contour\",\"colorbar\":{\"outlinewidth\":0,\"ticks\":\"\"},\"colorscale\":[[0.0,\"#0d0887\"],[0.1111111111111111,\"#46039f\"],[0.2222222222222222,\"#7201a8\"],[0.3333333333333333,\"#9c179e\"],[0.4444444444444444,\"#bd3786\"],[0.5555555555555556,\"#d8576b\"],[0.6666666666666666,\"#ed7953\"],[0.7777777777777778,\"#fb9f3a\"],[0.8888888888888888,\"#fdca26\"],[1.0,\"#f0f921\"]]}],\"surface\":[{\"type\":\"surface\",\"colorbar\":{\"outlinewidth\":0,\"ticks\":\"\"},\"colorscale\":[[0.0,\"#0d0887\"],[0.1111111111111111,\"#46039f\"],[0.2222222222222222,\"#7201a8\"],[0.3333333333333333,\"#9c179e\"],[0.4444444444444444,\"#bd3786\"],[0.5555555555555556,\"#d8576b\"],[0.6666666666666666,\"#ed7953\"],[0.7777777777777778,\"#fb9f3a\"],[0.8888888888888888,\"#fdca26\"],[1.0,\"#f0f921\"]]}],\"mesh3d\":[{\"type\":\"mesh3d\",\"colorbar\":{\"outlinewidth\":0,\"ticks\":\"\"}}],\"scatter\":[{\"fillpattern\":{\"fillmode\":\"overlay\",\"size\":10,\"solidity\":0.2},\"type\":\"scatter\"}],\"parcoords\":[{\"type\":\"parcoords\",\"line\":{\"colorbar\":{\"outlinewidth\":0,\"ticks\":\"\"}}}],\"scatterpolargl\":[{\"type\":\"scatterpolargl\",\"marker\":{\"colorbar\":{\"outlinewidth\":0,\"ticks\":\"\"}}}],\"bar\":[{\"error_x\":{\"color\":\"#2a3f5f\"},\"error_y\":{\"color\":\"#2a3f5f\"},\"marker\":{\"line\":{\"color\":\"#E5ECF6\",\"width\":0.5},\"pattern\":{\"fillmode\":\"overlay\",\"size\":10,\"solidity\":0.2}},\"type\":\"bar\"}],\"scattergeo\":[{\"type\":\"scattergeo\",\"marker\":{\"colorbar\":{\"outlinewidth\":0,\"ticks\":\"\"}}}],\"scatterpolar\":[{\"type\":\"scatterpolar\",\"marker\":{\"colorbar\":{\"outlinewidth\":0,\"ticks\":\"\"}}}],\"histogram\":[{\"marker\":{\"pattern\":{\"fillmode\":\"overlay\",\"size\":10,\"solidity\":0.2}},\"type\":\"histogram\"}],\"scattergl\":[{\"type\":\"scattergl\",\"marker\":{\"colorbar\":{\"outlinewidth\":0,\"ticks\":\"\"}}}],\"scatter3d\":[{\"type\":\"scatter3d\",\"line\":{\"colorbar\":{\"outlinewidth\":0,\"ticks\":\"\"}},\"marker\":{\"colorbar\":{\"outlinewidth\":0,\"ticks\":\"\"}}}],\"scattermapbox\":[{\"type\":\"scattermapbox\",\"marker\":{\"colorbar\":{\"outlinewidth\":0,\"ticks\":\"\"}}}],\"scatterternary\":[{\"type\":\"scatterternary\",\"marker\":{\"colorbar\":{\"outlinewidth\":0,\"ticks\":\"\"}}}],\"scattercarpet\":[{\"type\":\"scattercarpet\",\"marker\":{\"colorbar\":{\"outlinewidth\":0,\"ticks\":\"\"}}}],\"carpet\":[{\"aaxis\":{\"endlinecolor\":\"#2a3f5f\",\"gridcolor\":\"white\",\"linecolor\":\"white\",\"minorgridcolor\":\"white\",\"startlinecolor\":\"#2a3f5f\"},\"baxis\":{\"endlinecolor\":\"#2a3f5f\",\"gridcolor\":\"white\",\"linecolor\":\"white\",\"minorgridcolor\":\"white\",\"startlinecolor\":\"#2a3f5f\"},\"type\":\"carpet\"}],\"table\":[{\"cells\":{\"fill\":{\"color\":\"#EBF0F8\"},\"line\":{\"color\":\"white\"}},\"header\":{\"fill\":{\"color\":\"#C8D4E3\"},\"line\":{\"color\":\"white\"}},\"type\":\"table\"}],\"barpolar\":[{\"marker\":{\"line\":{\"color\":\"#E5ECF6\",\"width\":0.5},\"pattern\":{\"fillmode\":\"overlay\",\"size\":10,\"solidity\":0.2}},\"type\":\"barpolar\"}],\"pie\":[{\"automargin\":true,\"type\":\"pie\"}]},\"layout\":{\"autotypenumbers\":\"strict\",\"colorway\":[\"#636efa\",\"#EF553B\",\"#00cc96\",\"#ab63fa\",\"#FFA15A\",\"#19d3f3\",\"#FF6692\",\"#B6E880\",\"#FF97FF\",\"#FECB52\"],\"font\":{\"color\":\"#2a3f5f\"},\"hovermode\":\"closest\",\"hoverlabel\":{\"align\":\"left\"},\"paper_bgcolor\":\"white\",\"plot_bgcolor\":\"#E5ECF6\",\"polar\":{\"bgcolor\":\"#E5ECF6\",\"angularaxis\":{\"gridcolor\":\"white\",\"linecolor\":\"white\",\"ticks\":\"\"},\"radialaxis\":{\"gridcolor\":\"white\",\"linecolor\":\"white\",\"ticks\":\"\"}},\"ternary\":{\"bgcolor\":\"#E5ECF6\",\"aaxis\":{\"gridcolor\":\"white\",\"linecolor\":\"white\",\"ticks\":\"\"},\"baxis\":{\"gridcolor\":\"white\",\"linecolor\":\"white\",\"ticks\":\"\"},\"caxis\":{\"gridcolor\":\"white\",\"linecolor\":\"white\",\"ticks\":\"\"}},\"coloraxis\":{\"colorbar\":{\"outlinewidth\":0,\"ticks\":\"\"}},\"colorscale\":{\"sequential\":[[0.0,\"#0d0887\"],[0.1111111111111111,\"#46039f\"],[0.2222222222222222,\"#7201a8\"],[0.3333333333333333,\"#9c179e\"],[0.4444444444444444,\"#bd3786\"],[0.5555555555555556,\"#d8576b\"],[0.6666666666666666,\"#ed7953\"],[0.7777777777777778,\"#fb9f3a\"],[0.8888888888888888,\"#fdca26\"],[1.0,\"#f0f921\"]],\"sequentialminus\":[[0.0,\"#0d0887\"],[0.1111111111111111,\"#46039f\"],[0.2222222222222222,\"#7201a8\"],[0.3333333333333333,\"#9c179e\"],[0.4444444444444444,\"#bd3786\"],[0.5555555555555556,\"#d8576b\"],[0.6666666666666666,\"#ed7953\"],[0.7777777777777778,\"#fb9f3a\"],[0.8888888888888888,\"#fdca26\"],[1.0,\"#f0f921\"]],\"diverging\":[[0,\"#8e0152\"],[0.1,\"#c51b7d\"],[0.2,\"#de77ae\"],[0.3,\"#f1b6da\"],[0.4,\"#fde0ef\"],[0.5,\"#f7f7f7\"],[0.6,\"#e6f5d0\"],[0.7,\"#b8e186\"],[0.8,\"#7fbc41\"],[0.9,\"#4d9221\"],[1,\"#276419\"]]},\"xaxis\":{\"gridcolor\":\"white\",\"linecolor\":\"white\",\"ticks\":\"\",\"title\":{\"standoff\":15},\"zerolinecolor\":\"white\",\"automargin\":true,\"zerolinewidth\":2},\"yaxis\":{\"gridcolor\":\"white\",\"linecolor\":\"white\",\"ticks\":\"\",\"title\":{\"standoff\":15},\"zerolinecolor\":\"white\",\"automargin\":true,\"zerolinewidth\":2},\"scene\":{\"xaxis\":{\"backgroundcolor\":\"#E5ECF6\",\"gridcolor\":\"white\",\"linecolor\":\"white\",\"showbackground\":true,\"ticks\":\"\",\"zerolinecolor\":\"white\",\"gridwidth\":2},\"yaxis\":{\"backgroundcolor\":\"#E5ECF6\",\"gridcolor\":\"white\",\"linecolor\":\"white\",\"showbackground\":true,\"ticks\":\"\",\"zerolinecolor\":\"white\",\"gridwidth\":2},\"zaxis\":{\"backgroundcolor\":\"#E5ECF6\",\"gridcolor\":\"white\",\"linecolor\":\"white\",\"showbackground\":true,\"ticks\":\"\",\"zerolinecolor\":\"white\",\"gridwidth\":2}},\"shapedefaults\":{\"line\":{\"color\":\"#2a3f5f\"}},\"annotationdefaults\":{\"arrowcolor\":\"#2a3f5f\",\"arrowhead\":0,\"arrowwidth\":1},\"geo\":{\"bgcolor\":\"white\",\"landcolor\":\"#E5ECF6\",\"subunitcolor\":\"white\",\"showland\":true,\"showlakes\":true,\"lakecolor\":\"white\"},\"title\":{\"x\":0.05},\"mapbox\":{\"style\":\"light\"}}},\"title\":{\"text\":\"Top 20 Active Fighters with Most Wins\",\"x\":0.5},\"yaxis\":{\"title\":{\"text\":\"Number of Wins\"},\"showgrid\":false},\"xaxis\":{\"title\":{\"text\":\"Fighter Name\"}},\"plot_bgcolor\":\"#F2FFE9\"},                        {\"responsive\": true}                    ).then(function(){\n",
              "                            \n",
              "var gd = document.getElementById('00a6ab8c-c22c-420b-8c82-dd41c6f1d20b');\n",
              "var x = new MutationObserver(function (mutations, observer) {{\n",
              "        var display = window.getComputedStyle(gd).display;\n",
              "        if (!display || display === 'none') {{\n",
              "            console.log([gd, 'removed!']);\n",
              "            Plotly.purge(gd);\n",
              "            observer.disconnect();\n",
              "        }}\n",
              "}});\n",
              "\n",
              "// Listen for the removal of the full notebook cells\n",
              "var notebookContainer = gd.closest('#notebook-container');\n",
              "if (notebookContainer) {{\n",
              "    x.observe(notebookContainer, {childList: true});\n",
              "}}\n",
              "\n",
              "// Listen for the clearing of the current output cell\n",
              "var outputEl = gd.closest('.output');\n",
              "if (outputEl) {{\n",
              "    x.observe(outputEl, {childList: true});\n",
              "}}\n",
              "\n",
              "                        })                };                            </script>        </div>\n",
              "</body>\n",
              "</html>"
            ]
          },
          "metadata": {}
        }
      ]
    },
    {
      "cell_type": "code",
      "source": [
        "fig_inactive.show()"
      ],
      "metadata": {
        "colab": {
          "base_uri": "https://localhost:8080/",
          "height": 542
        },
        "id": "qssfa7uz10kt",
        "outputId": "959c553f-73f8-4847-e702-f1a8800d0806"
      },
      "execution_count": 18,
      "outputs": [
        {
          "output_type": "display_data",
          "data": {
            "text/html": [
              "<html>\n",
              "<head><meta charset=\"utf-8\" /></head>\n",
              "<body>\n",
              "    <div>            <script src=\"https://cdnjs.cloudflare.com/ajax/libs/mathjax/2.7.5/MathJax.js?config=TeX-AMS-MML_SVG\"></script><script type=\"text/javascript\">if (window.MathJax && window.MathJax.Hub && window.MathJax.Hub.Config) {window.MathJax.Hub.Config({SVG: {font: \"STIX-Web\"}});}</script>                <script type=\"text/javascript\">window.PlotlyConfig = {MathJaxConfig: 'local'};</script>\n",
              "        <script src=\"https://cdn.plot.ly/plotly-2.18.2.min.js\"></script>                <div id=\"08122436-36bb-4427-88e8-727153923388\" class=\"plotly-graph-div\" style=\"height:525px; width:100%;\"></div>            <script type=\"text/javascript\">                                    window.PLOTLYENV=window.PLOTLYENV || {};                                    if (document.getElementById(\"08122436-36bb-4427-88e8-727153923388\")) {                    Plotly.newPlot(                        \"08122436-36bb-4427-88e8-727153923388\",                        [{\"marker\":{\"color\":\"#A555EC\"},\"x\":[\"Jeremy Horn\",\"Shonie Carter\",\"Aleksei Oleinik\",\"Brian Ebersole\",\"Alistair Overeem\",\"Joe Doerksen\",\"Gegard Mousasi\",\"Joe Riggs\",\"Chris Lytle\",\"Rich Clementi\",\"Gleison Tibau\",\"Kristian Rothaermel\",\"Ben Rothwell\",\"Miguel Angel Torres\",\"Sean Sherk\",\"Nate Marquardt\",\"Joe Stevenson\",\"Renan Barao\",\"Amar Suloev\",\"Gilbert Yvel\"],\"y\":[88.0,66.0,60.0,51.0,47.0,45.0,42.0,41.0,41.0,40.0,40.0,40.0,39.0,39.0,38.0,38.0,36.0,36.0,36.0,36.0],\"type\":\"bar\"}],                        {\"template\":{\"data\":{\"histogram2dcontour\":[{\"type\":\"histogram2dcontour\",\"colorbar\":{\"outlinewidth\":0,\"ticks\":\"\"},\"colorscale\":[[0.0,\"#0d0887\"],[0.1111111111111111,\"#46039f\"],[0.2222222222222222,\"#7201a8\"],[0.3333333333333333,\"#9c179e\"],[0.4444444444444444,\"#bd3786\"],[0.5555555555555556,\"#d8576b\"],[0.6666666666666666,\"#ed7953\"],[0.7777777777777778,\"#fb9f3a\"],[0.8888888888888888,\"#fdca26\"],[1.0,\"#f0f921\"]]}],\"choropleth\":[{\"type\":\"choropleth\",\"colorbar\":{\"outlinewidth\":0,\"ticks\":\"\"}}],\"histogram2d\":[{\"type\":\"histogram2d\",\"colorbar\":{\"outlinewidth\":0,\"ticks\":\"\"},\"colorscale\":[[0.0,\"#0d0887\"],[0.1111111111111111,\"#46039f\"],[0.2222222222222222,\"#7201a8\"],[0.3333333333333333,\"#9c179e\"],[0.4444444444444444,\"#bd3786\"],[0.5555555555555556,\"#d8576b\"],[0.6666666666666666,\"#ed7953\"],[0.7777777777777778,\"#fb9f3a\"],[0.8888888888888888,\"#fdca26\"],[1.0,\"#f0f921\"]]}],\"heatmap\":[{\"type\":\"heatmap\",\"colorbar\":{\"outlinewidth\":0,\"ticks\":\"\"},\"colorscale\":[[0.0,\"#0d0887\"],[0.1111111111111111,\"#46039f\"],[0.2222222222222222,\"#7201a8\"],[0.3333333333333333,\"#9c179e\"],[0.4444444444444444,\"#bd3786\"],[0.5555555555555556,\"#d8576b\"],[0.6666666666666666,\"#ed7953\"],[0.7777777777777778,\"#fb9f3a\"],[0.8888888888888888,\"#fdca26\"],[1.0,\"#f0f921\"]]}],\"heatmapgl\":[{\"type\":\"heatmapgl\",\"colorbar\":{\"outlinewidth\":0,\"ticks\":\"\"},\"colorscale\":[[0.0,\"#0d0887\"],[0.1111111111111111,\"#46039f\"],[0.2222222222222222,\"#7201a8\"],[0.3333333333333333,\"#9c179e\"],[0.4444444444444444,\"#bd3786\"],[0.5555555555555556,\"#d8576b\"],[0.6666666666666666,\"#ed7953\"],[0.7777777777777778,\"#fb9f3a\"],[0.8888888888888888,\"#fdca26\"],[1.0,\"#f0f921\"]]}],\"contourcarpet\":[{\"type\":\"contourcarpet\",\"colorbar\":{\"outlinewidth\":0,\"ticks\":\"\"}}],\"contour\":[{\"type\":\"contour\",\"colorbar\":{\"outlinewidth\":0,\"ticks\":\"\"},\"colorscale\":[[0.0,\"#0d0887\"],[0.1111111111111111,\"#46039f\"],[0.2222222222222222,\"#7201a8\"],[0.3333333333333333,\"#9c179e\"],[0.4444444444444444,\"#bd3786\"],[0.5555555555555556,\"#d8576b\"],[0.6666666666666666,\"#ed7953\"],[0.7777777777777778,\"#fb9f3a\"],[0.8888888888888888,\"#fdca26\"],[1.0,\"#f0f921\"]]}],\"surface\":[{\"type\":\"surface\",\"colorbar\":{\"outlinewidth\":0,\"ticks\":\"\"},\"colorscale\":[[0.0,\"#0d0887\"],[0.1111111111111111,\"#46039f\"],[0.2222222222222222,\"#7201a8\"],[0.3333333333333333,\"#9c179e\"],[0.4444444444444444,\"#bd3786\"],[0.5555555555555556,\"#d8576b\"],[0.6666666666666666,\"#ed7953\"],[0.7777777777777778,\"#fb9f3a\"],[0.8888888888888888,\"#fdca26\"],[1.0,\"#f0f921\"]]}],\"mesh3d\":[{\"type\":\"mesh3d\",\"colorbar\":{\"outlinewidth\":0,\"ticks\":\"\"}}],\"scatter\":[{\"fillpattern\":{\"fillmode\":\"overlay\",\"size\":10,\"solidity\":0.2},\"type\":\"scatter\"}],\"parcoords\":[{\"type\":\"parcoords\",\"line\":{\"colorbar\":{\"outlinewidth\":0,\"ticks\":\"\"}}}],\"scatterpolargl\":[{\"type\":\"scatterpolargl\",\"marker\":{\"colorbar\":{\"outlinewidth\":0,\"ticks\":\"\"}}}],\"bar\":[{\"error_x\":{\"color\":\"#2a3f5f\"},\"error_y\":{\"color\":\"#2a3f5f\"},\"marker\":{\"line\":{\"color\":\"#E5ECF6\",\"width\":0.5},\"pattern\":{\"fillmode\":\"overlay\",\"size\":10,\"solidity\":0.2}},\"type\":\"bar\"}],\"scattergeo\":[{\"type\":\"scattergeo\",\"marker\":{\"colorbar\":{\"outlinewidth\":0,\"ticks\":\"\"}}}],\"scatterpolar\":[{\"type\":\"scatterpolar\",\"marker\":{\"colorbar\":{\"outlinewidth\":0,\"ticks\":\"\"}}}],\"histogram\":[{\"marker\":{\"pattern\":{\"fillmode\":\"overlay\",\"size\":10,\"solidity\":0.2}},\"type\":\"histogram\"}],\"scattergl\":[{\"type\":\"scattergl\",\"marker\":{\"colorbar\":{\"outlinewidth\":0,\"ticks\":\"\"}}}],\"scatter3d\":[{\"type\":\"scatter3d\",\"line\":{\"colorbar\":{\"outlinewidth\":0,\"ticks\":\"\"}},\"marker\":{\"colorbar\":{\"outlinewidth\":0,\"ticks\":\"\"}}}],\"scattermapbox\":[{\"type\":\"scattermapbox\",\"marker\":{\"colorbar\":{\"outlinewidth\":0,\"ticks\":\"\"}}}],\"scatterternary\":[{\"type\":\"scatterternary\",\"marker\":{\"colorbar\":{\"outlinewidth\":0,\"ticks\":\"\"}}}],\"scattercarpet\":[{\"type\":\"scattercarpet\",\"marker\":{\"colorbar\":{\"outlinewidth\":0,\"ticks\":\"\"}}}],\"carpet\":[{\"aaxis\":{\"endlinecolor\":\"#2a3f5f\",\"gridcolor\":\"white\",\"linecolor\":\"white\",\"minorgridcolor\":\"white\",\"startlinecolor\":\"#2a3f5f\"},\"baxis\":{\"endlinecolor\":\"#2a3f5f\",\"gridcolor\":\"white\",\"linecolor\":\"white\",\"minorgridcolor\":\"white\",\"startlinecolor\":\"#2a3f5f\"},\"type\":\"carpet\"}],\"table\":[{\"cells\":{\"fill\":{\"color\":\"#EBF0F8\"},\"line\":{\"color\":\"white\"}},\"header\":{\"fill\":{\"color\":\"#C8D4E3\"},\"line\":{\"color\":\"white\"}},\"type\":\"table\"}],\"barpolar\":[{\"marker\":{\"line\":{\"color\":\"#E5ECF6\",\"width\":0.5},\"pattern\":{\"fillmode\":\"overlay\",\"size\":10,\"solidity\":0.2}},\"type\":\"barpolar\"}],\"pie\":[{\"automargin\":true,\"type\":\"pie\"}]},\"layout\":{\"autotypenumbers\":\"strict\",\"colorway\":[\"#636efa\",\"#EF553B\",\"#00cc96\",\"#ab63fa\",\"#FFA15A\",\"#19d3f3\",\"#FF6692\",\"#B6E880\",\"#FF97FF\",\"#FECB52\"],\"font\":{\"color\":\"#2a3f5f\"},\"hovermode\":\"closest\",\"hoverlabel\":{\"align\":\"left\"},\"paper_bgcolor\":\"white\",\"plot_bgcolor\":\"#E5ECF6\",\"polar\":{\"bgcolor\":\"#E5ECF6\",\"angularaxis\":{\"gridcolor\":\"white\",\"linecolor\":\"white\",\"ticks\":\"\"},\"radialaxis\":{\"gridcolor\":\"white\",\"linecolor\":\"white\",\"ticks\":\"\"}},\"ternary\":{\"bgcolor\":\"#E5ECF6\",\"aaxis\":{\"gridcolor\":\"white\",\"linecolor\":\"white\",\"ticks\":\"\"},\"baxis\":{\"gridcolor\":\"white\",\"linecolor\":\"white\",\"ticks\":\"\"},\"caxis\":{\"gridcolor\":\"white\",\"linecolor\":\"white\",\"ticks\":\"\"}},\"coloraxis\":{\"colorbar\":{\"outlinewidth\":0,\"ticks\":\"\"}},\"colorscale\":{\"sequential\":[[0.0,\"#0d0887\"],[0.1111111111111111,\"#46039f\"],[0.2222222222222222,\"#7201a8\"],[0.3333333333333333,\"#9c179e\"],[0.4444444444444444,\"#bd3786\"],[0.5555555555555556,\"#d8576b\"],[0.6666666666666666,\"#ed7953\"],[0.7777777777777778,\"#fb9f3a\"],[0.8888888888888888,\"#fdca26\"],[1.0,\"#f0f921\"]],\"sequentialminus\":[[0.0,\"#0d0887\"],[0.1111111111111111,\"#46039f\"],[0.2222222222222222,\"#7201a8\"],[0.3333333333333333,\"#9c179e\"],[0.4444444444444444,\"#bd3786\"],[0.5555555555555556,\"#d8576b\"],[0.6666666666666666,\"#ed7953\"],[0.7777777777777778,\"#fb9f3a\"],[0.8888888888888888,\"#fdca26\"],[1.0,\"#f0f921\"]],\"diverging\":[[0,\"#8e0152\"],[0.1,\"#c51b7d\"],[0.2,\"#de77ae\"],[0.3,\"#f1b6da\"],[0.4,\"#fde0ef\"],[0.5,\"#f7f7f7\"],[0.6,\"#e6f5d0\"],[0.7,\"#b8e186\"],[0.8,\"#7fbc41\"],[0.9,\"#4d9221\"],[1,\"#276419\"]]},\"xaxis\":{\"gridcolor\":\"white\",\"linecolor\":\"white\",\"ticks\":\"\",\"title\":{\"standoff\":15},\"zerolinecolor\":\"white\",\"automargin\":true,\"zerolinewidth\":2},\"yaxis\":{\"gridcolor\":\"white\",\"linecolor\":\"white\",\"ticks\":\"\",\"title\":{\"standoff\":15},\"zerolinecolor\":\"white\",\"automargin\":true,\"zerolinewidth\":2},\"scene\":{\"xaxis\":{\"backgroundcolor\":\"#E5ECF6\",\"gridcolor\":\"white\",\"linecolor\":\"white\",\"showbackground\":true,\"ticks\":\"\",\"zerolinecolor\":\"white\",\"gridwidth\":2},\"yaxis\":{\"backgroundcolor\":\"#E5ECF6\",\"gridcolor\":\"white\",\"linecolor\":\"white\",\"showbackground\":true,\"ticks\":\"\",\"zerolinecolor\":\"white\",\"gridwidth\":2},\"zaxis\":{\"backgroundcolor\":\"#E5ECF6\",\"gridcolor\":\"white\",\"linecolor\":\"white\",\"showbackground\":true,\"ticks\":\"\",\"zerolinecolor\":\"white\",\"gridwidth\":2}},\"shapedefaults\":{\"line\":{\"color\":\"#2a3f5f\"}},\"annotationdefaults\":{\"arrowcolor\":\"#2a3f5f\",\"arrowhead\":0,\"arrowwidth\":1},\"geo\":{\"bgcolor\":\"white\",\"landcolor\":\"#E5ECF6\",\"subunitcolor\":\"white\",\"showland\":true,\"showlakes\":true,\"lakecolor\":\"white\"},\"title\":{\"x\":0.05},\"mapbox\":{\"style\":\"light\"}}},\"title\":{\"text\":\"Top 20 Inactive Fighters with Most Wins\",\"x\":0.5},\"yaxis\":{\"title\":{\"text\":\"Number of Wins\"},\"showgrid\":false},\"xaxis\":{\"title\":{\"text\":\"Fighter Name\"}},\"plot_bgcolor\":\"#FAEDF0\"},                        {\"responsive\": true}                    ).then(function(){\n",
              "                            \n",
              "var gd = document.getElementById('08122436-36bb-4427-88e8-727153923388');\n",
              "var x = new MutationObserver(function (mutations, observer) {{\n",
              "        var display = window.getComputedStyle(gd).display;\n",
              "        if (!display || display === 'none') {{\n",
              "            console.log([gd, 'removed!']);\n",
              "            Plotly.purge(gd);\n",
              "            observer.disconnect();\n",
              "        }}\n",
              "}});\n",
              "\n",
              "// Listen for the removal of the full notebook cells\n",
              "var notebookContainer = gd.closest('#notebook-container');\n",
              "if (notebookContainer) {{\n",
              "    x.observe(notebookContainer, {childList: true});\n",
              "}}\n",
              "\n",
              "// Listen for the clearing of the current output cell\n",
              "var outputEl = gd.closest('.output');\n",
              "if (outputEl) {{\n",
              "    x.observe(outputEl, {childList: true});\n",
              "}}\n",
              "\n",
              "                        })                };                            </script>        </div>\n",
              "</body>\n",
              "</html>"
            ]
          },
          "metadata": {}
        }
      ]
    },
    {
      "cell_type": "code",
      "source": [
        "fig_not_fighting.show()"
      ],
      "metadata": {
        "colab": {
          "base_uri": "https://localhost:8080/",
          "height": 542
        },
        "id": "tra5-23S8u0T",
        "outputId": "17e02e63-e08e-4a2f-9ec9-03862f540b2d"
      },
      "execution_count": 19,
      "outputs": [
        {
          "output_type": "display_data",
          "data": {
            "text/html": [
              "<html>\n",
              "<head><meta charset=\"utf-8\" /></head>\n",
              "<body>\n",
              "    <div>            <script src=\"https://cdnjs.cloudflare.com/ajax/libs/mathjax/2.7.5/MathJax.js?config=TeX-AMS-MML_SVG\"></script><script type=\"text/javascript\">if (window.MathJax && window.MathJax.Hub && window.MathJax.Hub.Config) {window.MathJax.Hub.Config({SVG: {font: \"STIX-Web\"}});}</script>                <script type=\"text/javascript\">window.PlotlyConfig = {MathJaxConfig: 'local'};</script>\n",
              "        <script src=\"https://cdn.plot.ly/plotly-2.18.2.min.js\"></script>                <div id=\"2f1b2c5e-bba5-4987-84a1-7b8109767813\" class=\"plotly-graph-div\" style=\"height:525px; width:100%;\"></div>            <script type=\"text/javascript\">                                    window.PLOTLYENV=window.PLOTLYENV || {};                                    if (document.getElementById(\"2f1b2c5e-bba5-4987-84a1-7b8109767813\")) {                    Plotly.newPlot(                        \"2f1b2c5e-bba5-4987-84a1-7b8109767813\",                        [{\"marker\":{\"color\":\"#E23E57\"},\"x\":[\"Matt Hughes\",\"Guy Mezger\",\"Yves Edwards\",\"Donald Cerrone\",\"Dave Menne\",\"Josh Barnett\",\"Minotauro Nogueira\",\"Anderson Silva\",\"Stefan Struve\",\"Glover Teixeira\",\"Carlos Condit\",\"Dan Henderson\",\"Jake Ellenberger\",\"Michael Bisping\",\"Jos Aldo\",\"Khabib Nurmagomedov\",\"Joseph Benavidez\",\"Georges St-Pierre\",\"Brad Pickett\",\"Patrick Cote\"],\"y\":[46.0,44.0,42.0,36.0,35.0,35.0,34.0,34.0,33.0,33.0,32.0,32.0,31.0,31.0,31.0,29.0,28.0,26.0,26.0,24.0],\"type\":\"bar\"}],                        {\"template\":{\"data\":{\"histogram2dcontour\":[{\"type\":\"histogram2dcontour\",\"colorbar\":{\"outlinewidth\":0,\"ticks\":\"\"},\"colorscale\":[[0.0,\"#0d0887\"],[0.1111111111111111,\"#46039f\"],[0.2222222222222222,\"#7201a8\"],[0.3333333333333333,\"#9c179e\"],[0.4444444444444444,\"#bd3786\"],[0.5555555555555556,\"#d8576b\"],[0.6666666666666666,\"#ed7953\"],[0.7777777777777778,\"#fb9f3a\"],[0.8888888888888888,\"#fdca26\"],[1.0,\"#f0f921\"]]}],\"choropleth\":[{\"type\":\"choropleth\",\"colorbar\":{\"outlinewidth\":0,\"ticks\":\"\"}}],\"histogram2d\":[{\"type\":\"histogram2d\",\"colorbar\":{\"outlinewidth\":0,\"ticks\":\"\"},\"colorscale\":[[0.0,\"#0d0887\"],[0.1111111111111111,\"#46039f\"],[0.2222222222222222,\"#7201a8\"],[0.3333333333333333,\"#9c179e\"],[0.4444444444444444,\"#bd3786\"],[0.5555555555555556,\"#d8576b\"],[0.6666666666666666,\"#ed7953\"],[0.7777777777777778,\"#fb9f3a\"],[0.8888888888888888,\"#fdca26\"],[1.0,\"#f0f921\"]]}],\"heatmap\":[{\"type\":\"heatmap\",\"colorbar\":{\"outlinewidth\":0,\"ticks\":\"\"},\"colorscale\":[[0.0,\"#0d0887\"],[0.1111111111111111,\"#46039f\"],[0.2222222222222222,\"#7201a8\"],[0.3333333333333333,\"#9c179e\"],[0.4444444444444444,\"#bd3786\"],[0.5555555555555556,\"#d8576b\"],[0.6666666666666666,\"#ed7953\"],[0.7777777777777778,\"#fb9f3a\"],[0.8888888888888888,\"#fdca26\"],[1.0,\"#f0f921\"]]}],\"heatmapgl\":[{\"type\":\"heatmapgl\",\"colorbar\":{\"outlinewidth\":0,\"ticks\":\"\"},\"colorscale\":[[0.0,\"#0d0887\"],[0.1111111111111111,\"#46039f\"],[0.2222222222222222,\"#7201a8\"],[0.3333333333333333,\"#9c179e\"],[0.4444444444444444,\"#bd3786\"],[0.5555555555555556,\"#d8576b\"],[0.6666666666666666,\"#ed7953\"],[0.7777777777777778,\"#fb9f3a\"],[0.8888888888888888,\"#fdca26\"],[1.0,\"#f0f921\"]]}],\"contourcarpet\":[{\"type\":\"contourcarpet\",\"colorbar\":{\"outlinewidth\":0,\"ticks\":\"\"}}],\"contour\":[{\"type\":\"contour\",\"colorbar\":{\"outlinewidth\":0,\"ticks\":\"\"},\"colorscale\":[[0.0,\"#0d0887\"],[0.1111111111111111,\"#46039f\"],[0.2222222222222222,\"#7201a8\"],[0.3333333333333333,\"#9c179e\"],[0.4444444444444444,\"#bd3786\"],[0.5555555555555556,\"#d8576b\"],[0.6666666666666666,\"#ed7953\"],[0.7777777777777778,\"#fb9f3a\"],[0.8888888888888888,\"#fdca26\"],[1.0,\"#f0f921\"]]}],\"surface\":[{\"type\":\"surface\",\"colorbar\":{\"outlinewidth\":0,\"ticks\":\"\"},\"colorscale\":[[0.0,\"#0d0887\"],[0.1111111111111111,\"#46039f\"],[0.2222222222222222,\"#7201a8\"],[0.3333333333333333,\"#9c179e\"],[0.4444444444444444,\"#bd3786\"],[0.5555555555555556,\"#d8576b\"],[0.6666666666666666,\"#ed7953\"],[0.7777777777777778,\"#fb9f3a\"],[0.8888888888888888,\"#fdca26\"],[1.0,\"#f0f921\"]]}],\"mesh3d\":[{\"type\":\"mesh3d\",\"colorbar\":{\"outlinewidth\":0,\"ticks\":\"\"}}],\"scatter\":[{\"fillpattern\":{\"fillmode\":\"overlay\",\"size\":10,\"solidity\":0.2},\"type\":\"scatter\"}],\"parcoords\":[{\"type\":\"parcoords\",\"line\":{\"colorbar\":{\"outlinewidth\":0,\"ticks\":\"\"}}}],\"scatterpolargl\":[{\"type\":\"scatterpolargl\",\"marker\":{\"colorbar\":{\"outlinewidth\":0,\"ticks\":\"\"}}}],\"bar\":[{\"error_x\":{\"color\":\"#2a3f5f\"},\"error_y\":{\"color\":\"#2a3f5f\"},\"marker\":{\"line\":{\"color\":\"#E5ECF6\",\"width\":0.5},\"pattern\":{\"fillmode\":\"overlay\",\"size\":10,\"solidity\":0.2}},\"type\":\"bar\"}],\"scattergeo\":[{\"type\":\"scattergeo\",\"marker\":{\"colorbar\":{\"outlinewidth\":0,\"ticks\":\"\"}}}],\"scatterpolar\":[{\"type\":\"scatterpolar\",\"marker\":{\"colorbar\":{\"outlinewidth\":0,\"ticks\":\"\"}}}],\"histogram\":[{\"marker\":{\"pattern\":{\"fillmode\":\"overlay\",\"size\":10,\"solidity\":0.2}},\"type\":\"histogram\"}],\"scattergl\":[{\"type\":\"scattergl\",\"marker\":{\"colorbar\":{\"outlinewidth\":0,\"ticks\":\"\"}}}],\"scatter3d\":[{\"type\":\"scatter3d\",\"line\":{\"colorbar\":{\"outlinewidth\":0,\"ticks\":\"\"}},\"marker\":{\"colorbar\":{\"outlinewidth\":0,\"ticks\":\"\"}}}],\"scattermapbox\":[{\"type\":\"scattermapbox\",\"marker\":{\"colorbar\":{\"outlinewidth\":0,\"ticks\":\"\"}}}],\"scatterternary\":[{\"type\":\"scatterternary\",\"marker\":{\"colorbar\":{\"outlinewidth\":0,\"ticks\":\"\"}}}],\"scattercarpet\":[{\"type\":\"scattercarpet\",\"marker\":{\"colorbar\":{\"outlinewidth\":0,\"ticks\":\"\"}}}],\"carpet\":[{\"aaxis\":{\"endlinecolor\":\"#2a3f5f\",\"gridcolor\":\"white\",\"linecolor\":\"white\",\"minorgridcolor\":\"white\",\"startlinecolor\":\"#2a3f5f\"},\"baxis\":{\"endlinecolor\":\"#2a3f5f\",\"gridcolor\":\"white\",\"linecolor\":\"white\",\"minorgridcolor\":\"white\",\"startlinecolor\":\"#2a3f5f\"},\"type\":\"carpet\"}],\"table\":[{\"cells\":{\"fill\":{\"color\":\"#EBF0F8\"},\"line\":{\"color\":\"white\"}},\"header\":{\"fill\":{\"color\":\"#C8D4E3\"},\"line\":{\"color\":\"white\"}},\"type\":\"table\"}],\"barpolar\":[{\"marker\":{\"line\":{\"color\":\"#E5ECF6\",\"width\":0.5},\"pattern\":{\"fillmode\":\"overlay\",\"size\":10,\"solidity\":0.2}},\"type\":\"barpolar\"}],\"pie\":[{\"automargin\":true,\"type\":\"pie\"}]},\"layout\":{\"autotypenumbers\":\"strict\",\"colorway\":[\"#636efa\",\"#EF553B\",\"#00cc96\",\"#ab63fa\",\"#FFA15A\",\"#19d3f3\",\"#FF6692\",\"#B6E880\",\"#FF97FF\",\"#FECB52\"],\"font\":{\"color\":\"#2a3f5f\"},\"hovermode\":\"closest\",\"hoverlabel\":{\"align\":\"left\"},\"paper_bgcolor\":\"white\",\"plot_bgcolor\":\"#E5ECF6\",\"polar\":{\"bgcolor\":\"#E5ECF6\",\"angularaxis\":{\"gridcolor\":\"white\",\"linecolor\":\"white\",\"ticks\":\"\"},\"radialaxis\":{\"gridcolor\":\"white\",\"linecolor\":\"white\",\"ticks\":\"\"}},\"ternary\":{\"bgcolor\":\"#E5ECF6\",\"aaxis\":{\"gridcolor\":\"white\",\"linecolor\":\"white\",\"ticks\":\"\"},\"baxis\":{\"gridcolor\":\"white\",\"linecolor\":\"white\",\"ticks\":\"\"},\"caxis\":{\"gridcolor\":\"white\",\"linecolor\":\"white\",\"ticks\":\"\"}},\"coloraxis\":{\"colorbar\":{\"outlinewidth\":0,\"ticks\":\"\"}},\"colorscale\":{\"sequential\":[[0.0,\"#0d0887\"],[0.1111111111111111,\"#46039f\"],[0.2222222222222222,\"#7201a8\"],[0.3333333333333333,\"#9c179e\"],[0.4444444444444444,\"#bd3786\"],[0.5555555555555556,\"#d8576b\"],[0.6666666666666666,\"#ed7953\"],[0.7777777777777778,\"#fb9f3a\"],[0.8888888888888888,\"#fdca26\"],[1.0,\"#f0f921\"]],\"sequentialminus\":[[0.0,\"#0d0887\"],[0.1111111111111111,\"#46039f\"],[0.2222222222222222,\"#7201a8\"],[0.3333333333333333,\"#9c179e\"],[0.4444444444444444,\"#bd3786\"],[0.5555555555555556,\"#d8576b\"],[0.6666666666666666,\"#ed7953\"],[0.7777777777777778,\"#fb9f3a\"],[0.8888888888888888,\"#fdca26\"],[1.0,\"#f0f921\"]],\"diverging\":[[0,\"#8e0152\"],[0.1,\"#c51b7d\"],[0.2,\"#de77ae\"],[0.3,\"#f1b6da\"],[0.4,\"#fde0ef\"],[0.5,\"#f7f7f7\"],[0.6,\"#e6f5d0\"],[0.7,\"#b8e186\"],[0.8,\"#7fbc41\"],[0.9,\"#4d9221\"],[1,\"#276419\"]]},\"xaxis\":{\"gridcolor\":\"white\",\"linecolor\":\"white\",\"ticks\":\"\",\"title\":{\"standoff\":15},\"zerolinecolor\":\"white\",\"automargin\":true,\"zerolinewidth\":2},\"yaxis\":{\"gridcolor\":\"white\",\"linecolor\":\"white\",\"ticks\":\"\",\"title\":{\"standoff\":15},\"zerolinecolor\":\"white\",\"automargin\":true,\"zerolinewidth\":2},\"scene\":{\"xaxis\":{\"backgroundcolor\":\"#E5ECF6\",\"gridcolor\":\"white\",\"linecolor\":\"white\",\"showbackground\":true,\"ticks\":\"\",\"zerolinecolor\":\"white\",\"gridwidth\":2},\"yaxis\":{\"backgroundcolor\":\"#E5ECF6\",\"gridcolor\":\"white\",\"linecolor\":\"white\",\"showbackground\":true,\"ticks\":\"\",\"zerolinecolor\":\"white\",\"gridwidth\":2},\"zaxis\":{\"backgroundcolor\":\"#E5ECF6\",\"gridcolor\":\"white\",\"linecolor\":\"white\",\"showbackground\":true,\"ticks\":\"\",\"zerolinecolor\":\"white\",\"gridwidth\":2}},\"shapedefaults\":{\"line\":{\"color\":\"#2a3f5f\"}},\"annotationdefaults\":{\"arrowcolor\":\"#2a3f5f\",\"arrowhead\":0,\"arrowwidth\":1},\"geo\":{\"bgcolor\":\"white\",\"landcolor\":\"#E5ECF6\",\"subunitcolor\":\"white\",\"showland\":true,\"showlakes\":true,\"lakecolor\":\"white\"},\"title\":{\"x\":0.05},\"mapbox\":{\"style\":\"light\"}}},\"title\":{\"text\":\"Top 20 Retired Fighters with Most Wins\",\"x\":0.5},\"yaxis\":{\"title\":{\"text\":\"Number of Wins\"},\"showgrid\":false},\"xaxis\":{\"title\":{\"text\":\"Fighter Name\"}},\"plot_bgcolor\":\"#FAEDF0\"},                        {\"responsive\": true}                    ).then(function(){\n",
              "                            \n",
              "var gd = document.getElementById('2f1b2c5e-bba5-4987-84a1-7b8109767813');\n",
              "var x = new MutationObserver(function (mutations, observer) {{\n",
              "        var display = window.getComputedStyle(gd).display;\n",
              "        if (!display || display === 'none') {{\n",
              "            console.log([gd, 'removed!']);\n",
              "            Plotly.purge(gd);\n",
              "            observer.disconnect();\n",
              "        }}\n",
              "}});\n",
              "\n",
              "// Listen for the removal of the full notebook cells\n",
              "var notebookContainer = gd.closest('#notebook-container');\n",
              "if (notebookContainer) {{\n",
              "    x.observe(notebookContainer, {childList: true});\n",
              "}}\n",
              "\n",
              "// Listen for the clearing of the current output cell\n",
              "var outputEl = gd.closest('.output');\n",
              "if (outputEl) {{\n",
              "    x.observe(outputEl, {childList: true});\n",
              "}}\n",
              "\n",
              "                        })                };                            </script>        </div>\n",
              "</body>\n",
              "</html>"
            ]
          },
          "metadata": {}
        }
      ]
    },
    {
      "cell_type": "markdown",
      "source": [
        "---"
      ],
      "metadata": {
        "id": "eFg4fFmc5HUd"
      }
    },
    {
      "cell_type": "markdown",
      "source": [
        "## Fighters By style."
      ],
      "metadata": {
        "id": "n7AEt5q79uSe"
      }
    },
    {
      "cell_type": "code",
      "source": [
        "count_values = df.groupby('Bio Data_Fighting style')[\"Name\"].count().reset_index()\n",
        "\n",
        "fig = go.Figure(data=[go.Pie(labels=count_values['Bio Data_Fighting style'], values=count_values['Name'])])\n",
        "\n",
        "# Customize the layout\n",
        "fig.update_layout(\n",
        "    title=\" Fighting Style Distribution\",\n",
        "    showlegend=True,\n",
        "    title_x=0.5,\n",
        "    plot_bgcolor ='#FAEDF0'\n",
        ")\n",
        "\n",
        "# Show the plot\n",
        "fig.show()\n"
      ],
      "metadata": {
        "colab": {
          "base_uri": "https://localhost:8080/",
          "height": 542
        },
        "id": "GpIZ-650_h18",
        "outputId": "00675a3d-cc55-4070-ddb1-837acace95b1"
      },
      "execution_count": 20,
      "outputs": [
        {
          "output_type": "display_data",
          "data": {
            "text/html": [
              "<html>\n",
              "<head><meta charset=\"utf-8\" /></head>\n",
              "<body>\n",
              "    <div>            <script src=\"https://cdnjs.cloudflare.com/ajax/libs/mathjax/2.7.5/MathJax.js?config=TeX-AMS-MML_SVG\"></script><script type=\"text/javascript\">if (window.MathJax && window.MathJax.Hub && window.MathJax.Hub.Config) {window.MathJax.Hub.Config({SVG: {font: \"STIX-Web\"}});}</script>                <script type=\"text/javascript\">window.PlotlyConfig = {MathJaxConfig: 'local'};</script>\n",
              "        <script src=\"https://cdn.plot.ly/plotly-2.18.2.min.js\"></script>                <div id=\"3a54347f-6341-4fe3-9279-58b21d0017d4\" class=\"plotly-graph-div\" style=\"height:525px; width:100%;\"></div>            <script type=\"text/javascript\">                                    window.PLOTLYENV=window.PLOTLYENV || {};                                    if (document.getElementById(\"3a54347f-6341-4fe3-9279-58b21d0017d4\")) {                    Plotly.newPlot(                        \"3a54347f-6341-4fe3-9279-58b21d0017d4\",                        [{\"labels\":[\"Boxing\",\"Brawler\",\"Freestyle\",\"Jiu-Jitsu\",\"Judo\",\"Karate\",\"Kickboxer\",\"Kung Fu\",\"MMA\",\"Muay Thai\",\"Sambo\",\"Striker\",\"Taekwondo\",\"Wrestling\"],\"values\":[54,7,125,117,9,12,33,6,250,58,6,109,2,36],\"type\":\"pie\"}],                        {\"template\":{\"data\":{\"histogram2dcontour\":[{\"type\":\"histogram2dcontour\",\"colorbar\":{\"outlinewidth\":0,\"ticks\":\"\"},\"colorscale\":[[0.0,\"#0d0887\"],[0.1111111111111111,\"#46039f\"],[0.2222222222222222,\"#7201a8\"],[0.3333333333333333,\"#9c179e\"],[0.4444444444444444,\"#bd3786\"],[0.5555555555555556,\"#d8576b\"],[0.6666666666666666,\"#ed7953\"],[0.7777777777777778,\"#fb9f3a\"],[0.8888888888888888,\"#fdca26\"],[1.0,\"#f0f921\"]]}],\"choropleth\":[{\"type\":\"choropleth\",\"colorbar\":{\"outlinewidth\":0,\"ticks\":\"\"}}],\"histogram2d\":[{\"type\":\"histogram2d\",\"colorbar\":{\"outlinewidth\":0,\"ticks\":\"\"},\"colorscale\":[[0.0,\"#0d0887\"],[0.1111111111111111,\"#46039f\"],[0.2222222222222222,\"#7201a8\"],[0.3333333333333333,\"#9c179e\"],[0.4444444444444444,\"#bd3786\"],[0.5555555555555556,\"#d8576b\"],[0.6666666666666666,\"#ed7953\"],[0.7777777777777778,\"#fb9f3a\"],[0.8888888888888888,\"#fdca26\"],[1.0,\"#f0f921\"]]}],\"heatmap\":[{\"type\":\"heatmap\",\"colorbar\":{\"outlinewidth\":0,\"ticks\":\"\"},\"colorscale\":[[0.0,\"#0d0887\"],[0.1111111111111111,\"#46039f\"],[0.2222222222222222,\"#7201a8\"],[0.3333333333333333,\"#9c179e\"],[0.4444444444444444,\"#bd3786\"],[0.5555555555555556,\"#d8576b\"],[0.6666666666666666,\"#ed7953\"],[0.7777777777777778,\"#fb9f3a\"],[0.8888888888888888,\"#fdca26\"],[1.0,\"#f0f921\"]]}],\"heatmapgl\":[{\"type\":\"heatmapgl\",\"colorbar\":{\"outlinewidth\":0,\"ticks\":\"\"},\"colorscale\":[[0.0,\"#0d0887\"],[0.1111111111111111,\"#46039f\"],[0.2222222222222222,\"#7201a8\"],[0.3333333333333333,\"#9c179e\"],[0.4444444444444444,\"#bd3786\"],[0.5555555555555556,\"#d8576b\"],[0.6666666666666666,\"#ed7953\"],[0.7777777777777778,\"#fb9f3a\"],[0.8888888888888888,\"#fdca26\"],[1.0,\"#f0f921\"]]}],\"contourcarpet\":[{\"type\":\"contourcarpet\",\"colorbar\":{\"outlinewidth\":0,\"ticks\":\"\"}}],\"contour\":[{\"type\":\"contour\",\"colorbar\":{\"outlinewidth\":0,\"ticks\":\"\"},\"colorscale\":[[0.0,\"#0d0887\"],[0.1111111111111111,\"#46039f\"],[0.2222222222222222,\"#7201a8\"],[0.3333333333333333,\"#9c179e\"],[0.4444444444444444,\"#bd3786\"],[0.5555555555555556,\"#d8576b\"],[0.6666666666666666,\"#ed7953\"],[0.7777777777777778,\"#fb9f3a\"],[0.8888888888888888,\"#fdca26\"],[1.0,\"#f0f921\"]]}],\"surface\":[{\"type\":\"surface\",\"colorbar\":{\"outlinewidth\":0,\"ticks\":\"\"},\"colorscale\":[[0.0,\"#0d0887\"],[0.1111111111111111,\"#46039f\"],[0.2222222222222222,\"#7201a8\"],[0.3333333333333333,\"#9c179e\"],[0.4444444444444444,\"#bd3786\"],[0.5555555555555556,\"#d8576b\"],[0.6666666666666666,\"#ed7953\"],[0.7777777777777778,\"#fb9f3a\"],[0.8888888888888888,\"#fdca26\"],[1.0,\"#f0f921\"]]}],\"mesh3d\":[{\"type\":\"mesh3d\",\"colorbar\":{\"outlinewidth\":0,\"ticks\":\"\"}}],\"scatter\":[{\"fillpattern\":{\"fillmode\":\"overlay\",\"size\":10,\"solidity\":0.2},\"type\":\"scatter\"}],\"parcoords\":[{\"type\":\"parcoords\",\"line\":{\"colorbar\":{\"outlinewidth\":0,\"ticks\":\"\"}}}],\"scatterpolargl\":[{\"type\":\"scatterpolargl\",\"marker\":{\"colorbar\":{\"outlinewidth\":0,\"ticks\":\"\"}}}],\"bar\":[{\"error_x\":{\"color\":\"#2a3f5f\"},\"error_y\":{\"color\":\"#2a3f5f\"},\"marker\":{\"line\":{\"color\":\"#E5ECF6\",\"width\":0.5},\"pattern\":{\"fillmode\":\"overlay\",\"size\":10,\"solidity\":0.2}},\"type\":\"bar\"}],\"scattergeo\":[{\"type\":\"scattergeo\",\"marker\":{\"colorbar\":{\"outlinewidth\":0,\"ticks\":\"\"}}}],\"scatterpolar\":[{\"type\":\"scatterpolar\",\"marker\":{\"colorbar\":{\"outlinewidth\":0,\"ticks\":\"\"}}}],\"histogram\":[{\"marker\":{\"pattern\":{\"fillmode\":\"overlay\",\"size\":10,\"solidity\":0.2}},\"type\":\"histogram\"}],\"scattergl\":[{\"type\":\"scattergl\",\"marker\":{\"colorbar\":{\"outlinewidth\":0,\"ticks\":\"\"}}}],\"scatter3d\":[{\"type\":\"scatter3d\",\"line\":{\"colorbar\":{\"outlinewidth\":0,\"ticks\":\"\"}},\"marker\":{\"colorbar\":{\"outlinewidth\":0,\"ticks\":\"\"}}}],\"scattermapbox\":[{\"type\":\"scattermapbox\",\"marker\":{\"colorbar\":{\"outlinewidth\":0,\"ticks\":\"\"}}}],\"scatterternary\":[{\"type\":\"scatterternary\",\"marker\":{\"colorbar\":{\"outlinewidth\":0,\"ticks\":\"\"}}}],\"scattercarpet\":[{\"type\":\"scattercarpet\",\"marker\":{\"colorbar\":{\"outlinewidth\":0,\"ticks\":\"\"}}}],\"carpet\":[{\"aaxis\":{\"endlinecolor\":\"#2a3f5f\",\"gridcolor\":\"white\",\"linecolor\":\"white\",\"minorgridcolor\":\"white\",\"startlinecolor\":\"#2a3f5f\"},\"baxis\":{\"endlinecolor\":\"#2a3f5f\",\"gridcolor\":\"white\",\"linecolor\":\"white\",\"minorgridcolor\":\"white\",\"startlinecolor\":\"#2a3f5f\"},\"type\":\"carpet\"}],\"table\":[{\"cells\":{\"fill\":{\"color\":\"#EBF0F8\"},\"line\":{\"color\":\"white\"}},\"header\":{\"fill\":{\"color\":\"#C8D4E3\"},\"line\":{\"color\":\"white\"}},\"type\":\"table\"}],\"barpolar\":[{\"marker\":{\"line\":{\"color\":\"#E5ECF6\",\"width\":0.5},\"pattern\":{\"fillmode\":\"overlay\",\"size\":10,\"solidity\":0.2}},\"type\":\"barpolar\"}],\"pie\":[{\"automargin\":true,\"type\":\"pie\"}]},\"layout\":{\"autotypenumbers\":\"strict\",\"colorway\":[\"#636efa\",\"#EF553B\",\"#00cc96\",\"#ab63fa\",\"#FFA15A\",\"#19d3f3\",\"#FF6692\",\"#B6E880\",\"#FF97FF\",\"#FECB52\"],\"font\":{\"color\":\"#2a3f5f\"},\"hovermode\":\"closest\",\"hoverlabel\":{\"align\":\"left\"},\"paper_bgcolor\":\"white\",\"plot_bgcolor\":\"#E5ECF6\",\"polar\":{\"bgcolor\":\"#E5ECF6\",\"angularaxis\":{\"gridcolor\":\"white\",\"linecolor\":\"white\",\"ticks\":\"\"},\"radialaxis\":{\"gridcolor\":\"white\",\"linecolor\":\"white\",\"ticks\":\"\"}},\"ternary\":{\"bgcolor\":\"#E5ECF6\",\"aaxis\":{\"gridcolor\":\"white\",\"linecolor\":\"white\",\"ticks\":\"\"},\"baxis\":{\"gridcolor\":\"white\",\"linecolor\":\"white\",\"ticks\":\"\"},\"caxis\":{\"gridcolor\":\"white\",\"linecolor\":\"white\",\"ticks\":\"\"}},\"coloraxis\":{\"colorbar\":{\"outlinewidth\":0,\"ticks\":\"\"}},\"colorscale\":{\"sequential\":[[0.0,\"#0d0887\"],[0.1111111111111111,\"#46039f\"],[0.2222222222222222,\"#7201a8\"],[0.3333333333333333,\"#9c179e\"],[0.4444444444444444,\"#bd3786\"],[0.5555555555555556,\"#d8576b\"],[0.6666666666666666,\"#ed7953\"],[0.7777777777777778,\"#fb9f3a\"],[0.8888888888888888,\"#fdca26\"],[1.0,\"#f0f921\"]],\"sequentialminus\":[[0.0,\"#0d0887\"],[0.1111111111111111,\"#46039f\"],[0.2222222222222222,\"#7201a8\"],[0.3333333333333333,\"#9c179e\"],[0.4444444444444444,\"#bd3786\"],[0.5555555555555556,\"#d8576b\"],[0.6666666666666666,\"#ed7953\"],[0.7777777777777778,\"#fb9f3a\"],[0.8888888888888888,\"#fdca26\"],[1.0,\"#f0f921\"]],\"diverging\":[[0,\"#8e0152\"],[0.1,\"#c51b7d\"],[0.2,\"#de77ae\"],[0.3,\"#f1b6da\"],[0.4,\"#fde0ef\"],[0.5,\"#f7f7f7\"],[0.6,\"#e6f5d0\"],[0.7,\"#b8e186\"],[0.8,\"#7fbc41\"],[0.9,\"#4d9221\"],[1,\"#276419\"]]},\"xaxis\":{\"gridcolor\":\"white\",\"linecolor\":\"white\",\"ticks\":\"\",\"title\":{\"standoff\":15},\"zerolinecolor\":\"white\",\"automargin\":true,\"zerolinewidth\":2},\"yaxis\":{\"gridcolor\":\"white\",\"linecolor\":\"white\",\"ticks\":\"\",\"title\":{\"standoff\":15},\"zerolinecolor\":\"white\",\"automargin\":true,\"zerolinewidth\":2},\"scene\":{\"xaxis\":{\"backgroundcolor\":\"#E5ECF6\",\"gridcolor\":\"white\",\"linecolor\":\"white\",\"showbackground\":true,\"ticks\":\"\",\"zerolinecolor\":\"white\",\"gridwidth\":2},\"yaxis\":{\"backgroundcolor\":\"#E5ECF6\",\"gridcolor\":\"white\",\"linecolor\":\"white\",\"showbackground\":true,\"ticks\":\"\",\"zerolinecolor\":\"white\",\"gridwidth\":2},\"zaxis\":{\"backgroundcolor\":\"#E5ECF6\",\"gridcolor\":\"white\",\"linecolor\":\"white\",\"showbackground\":true,\"ticks\":\"\",\"zerolinecolor\":\"white\",\"gridwidth\":2}},\"shapedefaults\":{\"line\":{\"color\":\"#2a3f5f\"}},\"annotationdefaults\":{\"arrowcolor\":\"#2a3f5f\",\"arrowhead\":0,\"arrowwidth\":1},\"geo\":{\"bgcolor\":\"white\",\"landcolor\":\"#E5ECF6\",\"subunitcolor\":\"white\",\"showland\":true,\"showlakes\":true,\"lakecolor\":\"white\"},\"title\":{\"x\":0.05},\"mapbox\":{\"style\":\"light\"}}},\"title\":{\"text\":\" Fighting Style Distribution\",\"x\":0.5},\"showlegend\":true,\"plot_bgcolor\":\"#FAEDF0\"},                        {\"responsive\": true}                    ).then(function(){\n",
              "                            \n",
              "var gd = document.getElementById('3a54347f-6341-4fe3-9279-58b21d0017d4');\n",
              "var x = new MutationObserver(function (mutations, observer) {{\n",
              "        var display = window.getComputedStyle(gd).display;\n",
              "        if (!display || display === 'none') {{\n",
              "            console.log([gd, 'removed!']);\n",
              "            Plotly.purge(gd);\n",
              "            observer.disconnect();\n",
              "        }}\n",
              "}});\n",
              "\n",
              "// Listen for the removal of the full notebook cells\n",
              "var notebookContainer = gd.closest('#notebook-container');\n",
              "if (notebookContainer) {{\n",
              "    x.observe(notebookContainer, {childList: true});\n",
              "}}\n",
              "\n",
              "// Listen for the clearing of the current output cell\n",
              "var outputEl = gd.closest('.output');\n",
              "if (outputEl) {{\n",
              "    x.observe(outputEl, {childList: true});\n",
              "}}\n",
              "\n",
              "                        })                };                            </script>        </div>\n",
              "</body>\n",
              "</html>"
            ]
          },
          "metadata": {}
        }
      ]
    },
    {
      "cell_type": "markdown",
      "source": [
        "---"
      ],
      "metadata": {
        "id": "m8CPi5C05EAS"
      }
    },
    {
      "cell_type": "markdown",
      "source": [
        "## Fighters in Divisions."
      ],
      "metadata": {
        "id": "dnf_ACmJF0Jv"
      }
    },
    {
      "cell_type": "code",
      "source": [
        "divisions = df.groupby('Division Title')['Name'].count().reset_index().sort_values('Name',ascending= False)\n",
        "knockout_by_division = df.groupby('Division Title')['Records_Wins by Knockout'].sum().reset_index().sort_values('Records_Wins by Knockout',ascending= False)\n",
        "\n",
        "fig = go.Figure()\n",
        "\n",
        "fig.add_trace(go.Bar(\n",
        "    x=divisions['Division Title'],\n",
        "    y=divisions['Name'],\n",
        "    name='Fighters'\n",
        "))\n",
        "\n",
        "fig.add_trace(go.Bar(\n",
        "    x=knockout_by_division['Division Title'],\n",
        "    y=knockout_by_division['Records_Wins by Knockout'],\n",
        "    name='Knockouts'\n",
        "))\n",
        "\n",
        "fig.update_layout(\n",
        "    title=\"Fighters and Knockouts by Division\",\n",
        "    xaxis_title=\"Division\",\n",
        "    yaxis_title=\"Count\",\n",
        "    barmode='group',\n",
        "    title_x=0.5,\n",
        "    plot_bgcolor ='#FAEDF0',\n",
        "    yaxis = dict(showgrid=False)\n",
        ")\n",
        "fig.show()"
      ],
      "metadata": {
        "colab": {
          "base_uri": "https://localhost:8080/",
          "height": 542
        },
        "id": "SPh4I_qLHKH1",
        "outputId": "0514356a-a7bd-4f95-b073-54d50096e615"
      },
      "execution_count": 21,
      "outputs": [
        {
          "output_type": "display_data",
          "data": {
            "text/html": [
              "<html>\n",
              "<head><meta charset=\"utf-8\" /></head>\n",
              "<body>\n",
              "    <div>            <script src=\"https://cdnjs.cloudflare.com/ajax/libs/mathjax/2.7.5/MathJax.js?config=TeX-AMS-MML_SVG\"></script><script type=\"text/javascript\">if (window.MathJax && window.MathJax.Hub && window.MathJax.Hub.Config) {window.MathJax.Hub.Config({SVG: {font: \"STIX-Web\"}});}</script>                <script type=\"text/javascript\">window.PlotlyConfig = {MathJaxConfig: 'local'};</script>\n",
              "        <script src=\"https://cdn.plot.ly/plotly-2.18.2.min.js\"></script>                <div id=\"ef4dc6b7-dc86-496e-9f41-e5c6749c19a6\" class=\"plotly-graph-div\" style=\"height:525px; width:100%;\"></div>            <script type=\"text/javascript\">                                    window.PLOTLYENV=window.PLOTLYENV || {};                                    if (document.getElementById(\"ef4dc6b7-dc86-496e-9f41-e5c6749c19a6\")) {                    Plotly.newPlot(                        \"ef4dc6b7-dc86-496e-9f41-e5c6749c19a6\",                        [{\"name\":\"Fighters\",\"x\":[\"Welterweight\",\"Lightweight\",\"Middleweight\",\"Featherweight\",\"Bantamweight\",\"Heavyweight\",\"Light Heavyweight\",\"Flyweight\",\"Women's Strawweight\",\"Women's Flyweight\",\"Women's Bantamweight\",\"Null\",\"Women's Featherweight\",\"\"],\"y\":[412,410,337,250,249,235,210,153,100,82,58,42,14,12],\"type\":\"bar\"},{\"name\":\"Knockouts\",\"x\":[\"Welterweight\",\"Lightweight\",\"Bantamweight\",\"Middleweight\",\"Featherweight\",\"Heavyweight\",\"Light Heavyweight\",\"Flyweight\",\"Women's Flyweight\",\"Women's Strawweight\",\"Women's Bantamweight\",\"Women's Featherweight\",\"\",\"Null\"],\"y\":[1012.0,955.0,730.0,718.0,649.0,633.0,590.0,283.0,194.0,188.0,122.0,63.0,0.0,0.0],\"type\":\"bar\"}],                        {\"template\":{\"data\":{\"histogram2dcontour\":[{\"type\":\"histogram2dcontour\",\"colorbar\":{\"outlinewidth\":0,\"ticks\":\"\"},\"colorscale\":[[0.0,\"#0d0887\"],[0.1111111111111111,\"#46039f\"],[0.2222222222222222,\"#7201a8\"],[0.3333333333333333,\"#9c179e\"],[0.4444444444444444,\"#bd3786\"],[0.5555555555555556,\"#d8576b\"],[0.6666666666666666,\"#ed7953\"],[0.7777777777777778,\"#fb9f3a\"],[0.8888888888888888,\"#fdca26\"],[1.0,\"#f0f921\"]]}],\"choropleth\":[{\"type\":\"choropleth\",\"colorbar\":{\"outlinewidth\":0,\"ticks\":\"\"}}],\"histogram2d\":[{\"type\":\"histogram2d\",\"colorbar\":{\"outlinewidth\":0,\"ticks\":\"\"},\"colorscale\":[[0.0,\"#0d0887\"],[0.1111111111111111,\"#46039f\"],[0.2222222222222222,\"#7201a8\"],[0.3333333333333333,\"#9c179e\"],[0.4444444444444444,\"#bd3786\"],[0.5555555555555556,\"#d8576b\"],[0.6666666666666666,\"#ed7953\"],[0.7777777777777778,\"#fb9f3a\"],[0.8888888888888888,\"#fdca26\"],[1.0,\"#f0f921\"]]}],\"heatmap\":[{\"type\":\"heatmap\",\"colorbar\":{\"outlinewidth\":0,\"ticks\":\"\"},\"colorscale\":[[0.0,\"#0d0887\"],[0.1111111111111111,\"#46039f\"],[0.2222222222222222,\"#7201a8\"],[0.3333333333333333,\"#9c179e\"],[0.4444444444444444,\"#bd3786\"],[0.5555555555555556,\"#d8576b\"],[0.6666666666666666,\"#ed7953\"],[0.7777777777777778,\"#fb9f3a\"],[0.8888888888888888,\"#fdca26\"],[1.0,\"#f0f921\"]]}],\"heatmapgl\":[{\"type\":\"heatmapgl\",\"colorbar\":{\"outlinewidth\":0,\"ticks\":\"\"},\"colorscale\":[[0.0,\"#0d0887\"],[0.1111111111111111,\"#46039f\"],[0.2222222222222222,\"#7201a8\"],[0.3333333333333333,\"#9c179e\"],[0.4444444444444444,\"#bd3786\"],[0.5555555555555556,\"#d8576b\"],[0.6666666666666666,\"#ed7953\"],[0.7777777777777778,\"#fb9f3a\"],[0.8888888888888888,\"#fdca26\"],[1.0,\"#f0f921\"]]}],\"contourcarpet\":[{\"type\":\"contourcarpet\",\"colorbar\":{\"outlinewidth\":0,\"ticks\":\"\"}}],\"contour\":[{\"type\":\"contour\",\"colorbar\":{\"outlinewidth\":0,\"ticks\":\"\"},\"colorscale\":[[0.0,\"#0d0887\"],[0.1111111111111111,\"#46039f\"],[0.2222222222222222,\"#7201a8\"],[0.3333333333333333,\"#9c179e\"],[0.4444444444444444,\"#bd3786\"],[0.5555555555555556,\"#d8576b\"],[0.6666666666666666,\"#ed7953\"],[0.7777777777777778,\"#fb9f3a\"],[0.8888888888888888,\"#fdca26\"],[1.0,\"#f0f921\"]]}],\"surface\":[{\"type\":\"surface\",\"colorbar\":{\"outlinewidth\":0,\"ticks\":\"\"},\"colorscale\":[[0.0,\"#0d0887\"],[0.1111111111111111,\"#46039f\"],[0.2222222222222222,\"#7201a8\"],[0.3333333333333333,\"#9c179e\"],[0.4444444444444444,\"#bd3786\"],[0.5555555555555556,\"#d8576b\"],[0.6666666666666666,\"#ed7953\"],[0.7777777777777778,\"#fb9f3a\"],[0.8888888888888888,\"#fdca26\"],[1.0,\"#f0f921\"]]}],\"mesh3d\":[{\"type\":\"mesh3d\",\"colorbar\":{\"outlinewidth\":0,\"ticks\":\"\"}}],\"scatter\":[{\"fillpattern\":{\"fillmode\":\"overlay\",\"size\":10,\"solidity\":0.2},\"type\":\"scatter\"}],\"parcoords\":[{\"type\":\"parcoords\",\"line\":{\"colorbar\":{\"outlinewidth\":0,\"ticks\":\"\"}}}],\"scatterpolargl\":[{\"type\":\"scatterpolargl\",\"marker\":{\"colorbar\":{\"outlinewidth\":0,\"ticks\":\"\"}}}],\"bar\":[{\"error_x\":{\"color\":\"#2a3f5f\"},\"error_y\":{\"color\":\"#2a3f5f\"},\"marker\":{\"line\":{\"color\":\"#E5ECF6\",\"width\":0.5},\"pattern\":{\"fillmode\":\"overlay\",\"size\":10,\"solidity\":0.2}},\"type\":\"bar\"}],\"scattergeo\":[{\"type\":\"scattergeo\",\"marker\":{\"colorbar\":{\"outlinewidth\":0,\"ticks\":\"\"}}}],\"scatterpolar\":[{\"type\":\"scatterpolar\",\"marker\":{\"colorbar\":{\"outlinewidth\":0,\"ticks\":\"\"}}}],\"histogram\":[{\"marker\":{\"pattern\":{\"fillmode\":\"overlay\",\"size\":10,\"solidity\":0.2}},\"type\":\"histogram\"}],\"scattergl\":[{\"type\":\"scattergl\",\"marker\":{\"colorbar\":{\"outlinewidth\":0,\"ticks\":\"\"}}}],\"scatter3d\":[{\"type\":\"scatter3d\",\"line\":{\"colorbar\":{\"outlinewidth\":0,\"ticks\":\"\"}},\"marker\":{\"colorbar\":{\"outlinewidth\":0,\"ticks\":\"\"}}}],\"scattermapbox\":[{\"type\":\"scattermapbox\",\"marker\":{\"colorbar\":{\"outlinewidth\":0,\"ticks\":\"\"}}}],\"scatterternary\":[{\"type\":\"scatterternary\",\"marker\":{\"colorbar\":{\"outlinewidth\":0,\"ticks\":\"\"}}}],\"scattercarpet\":[{\"type\":\"scattercarpet\",\"marker\":{\"colorbar\":{\"outlinewidth\":0,\"ticks\":\"\"}}}],\"carpet\":[{\"aaxis\":{\"endlinecolor\":\"#2a3f5f\",\"gridcolor\":\"white\",\"linecolor\":\"white\",\"minorgridcolor\":\"white\",\"startlinecolor\":\"#2a3f5f\"},\"baxis\":{\"endlinecolor\":\"#2a3f5f\",\"gridcolor\":\"white\",\"linecolor\":\"white\",\"minorgridcolor\":\"white\",\"startlinecolor\":\"#2a3f5f\"},\"type\":\"carpet\"}],\"table\":[{\"cells\":{\"fill\":{\"color\":\"#EBF0F8\"},\"line\":{\"color\":\"white\"}},\"header\":{\"fill\":{\"color\":\"#C8D4E3\"},\"line\":{\"color\":\"white\"}},\"type\":\"table\"}],\"barpolar\":[{\"marker\":{\"line\":{\"color\":\"#E5ECF6\",\"width\":0.5},\"pattern\":{\"fillmode\":\"overlay\",\"size\":10,\"solidity\":0.2}},\"type\":\"barpolar\"}],\"pie\":[{\"automargin\":true,\"type\":\"pie\"}]},\"layout\":{\"autotypenumbers\":\"strict\",\"colorway\":[\"#636efa\",\"#EF553B\",\"#00cc96\",\"#ab63fa\",\"#FFA15A\",\"#19d3f3\",\"#FF6692\",\"#B6E880\",\"#FF97FF\",\"#FECB52\"],\"font\":{\"color\":\"#2a3f5f\"},\"hovermode\":\"closest\",\"hoverlabel\":{\"align\":\"left\"},\"paper_bgcolor\":\"white\",\"plot_bgcolor\":\"#E5ECF6\",\"polar\":{\"bgcolor\":\"#E5ECF6\",\"angularaxis\":{\"gridcolor\":\"white\",\"linecolor\":\"white\",\"ticks\":\"\"},\"radialaxis\":{\"gridcolor\":\"white\",\"linecolor\":\"white\",\"ticks\":\"\"}},\"ternary\":{\"bgcolor\":\"#E5ECF6\",\"aaxis\":{\"gridcolor\":\"white\",\"linecolor\":\"white\",\"ticks\":\"\"},\"baxis\":{\"gridcolor\":\"white\",\"linecolor\":\"white\",\"ticks\":\"\"},\"caxis\":{\"gridcolor\":\"white\",\"linecolor\":\"white\",\"ticks\":\"\"}},\"coloraxis\":{\"colorbar\":{\"outlinewidth\":0,\"ticks\":\"\"}},\"colorscale\":{\"sequential\":[[0.0,\"#0d0887\"],[0.1111111111111111,\"#46039f\"],[0.2222222222222222,\"#7201a8\"],[0.3333333333333333,\"#9c179e\"],[0.4444444444444444,\"#bd3786\"],[0.5555555555555556,\"#d8576b\"],[0.6666666666666666,\"#ed7953\"],[0.7777777777777778,\"#fb9f3a\"],[0.8888888888888888,\"#fdca26\"],[1.0,\"#f0f921\"]],\"sequentialminus\":[[0.0,\"#0d0887\"],[0.1111111111111111,\"#46039f\"],[0.2222222222222222,\"#7201a8\"],[0.3333333333333333,\"#9c179e\"],[0.4444444444444444,\"#bd3786\"],[0.5555555555555556,\"#d8576b\"],[0.6666666666666666,\"#ed7953\"],[0.7777777777777778,\"#fb9f3a\"],[0.8888888888888888,\"#fdca26\"],[1.0,\"#f0f921\"]],\"diverging\":[[0,\"#8e0152\"],[0.1,\"#c51b7d\"],[0.2,\"#de77ae\"],[0.3,\"#f1b6da\"],[0.4,\"#fde0ef\"],[0.5,\"#f7f7f7\"],[0.6,\"#e6f5d0\"],[0.7,\"#b8e186\"],[0.8,\"#7fbc41\"],[0.9,\"#4d9221\"],[1,\"#276419\"]]},\"xaxis\":{\"gridcolor\":\"white\",\"linecolor\":\"white\",\"ticks\":\"\",\"title\":{\"standoff\":15},\"zerolinecolor\":\"white\",\"automargin\":true,\"zerolinewidth\":2},\"yaxis\":{\"gridcolor\":\"white\",\"linecolor\":\"white\",\"ticks\":\"\",\"title\":{\"standoff\":15},\"zerolinecolor\":\"white\",\"automargin\":true,\"zerolinewidth\":2},\"scene\":{\"xaxis\":{\"backgroundcolor\":\"#E5ECF6\",\"gridcolor\":\"white\",\"linecolor\":\"white\",\"showbackground\":true,\"ticks\":\"\",\"zerolinecolor\":\"white\",\"gridwidth\":2},\"yaxis\":{\"backgroundcolor\":\"#E5ECF6\",\"gridcolor\":\"white\",\"linecolor\":\"white\",\"showbackground\":true,\"ticks\":\"\",\"zerolinecolor\":\"white\",\"gridwidth\":2},\"zaxis\":{\"backgroundcolor\":\"#E5ECF6\",\"gridcolor\":\"white\",\"linecolor\":\"white\",\"showbackground\":true,\"ticks\":\"\",\"zerolinecolor\":\"white\",\"gridwidth\":2}},\"shapedefaults\":{\"line\":{\"color\":\"#2a3f5f\"}},\"annotationdefaults\":{\"arrowcolor\":\"#2a3f5f\",\"arrowhead\":0,\"arrowwidth\":1},\"geo\":{\"bgcolor\":\"white\",\"landcolor\":\"#E5ECF6\",\"subunitcolor\":\"white\",\"showland\":true,\"showlakes\":true,\"lakecolor\":\"white\"},\"title\":{\"x\":0.05},\"mapbox\":{\"style\":\"light\"}}},\"title\":{\"text\":\"Fighters and Knockouts by Division\",\"x\":0.5},\"yaxis\":{\"title\":{\"text\":\"Count\"},\"showgrid\":false},\"xaxis\":{\"title\":{\"text\":\"Division\"}},\"barmode\":\"group\",\"plot_bgcolor\":\"#FAEDF0\"},                        {\"responsive\": true}                    ).then(function(){\n",
              "                            \n",
              "var gd = document.getElementById('ef4dc6b7-dc86-496e-9f41-e5c6749c19a6');\n",
              "var x = new MutationObserver(function (mutations, observer) {{\n",
              "        var display = window.getComputedStyle(gd).display;\n",
              "        if (!display || display === 'none') {{\n",
              "            console.log([gd, 'removed!']);\n",
              "            Plotly.purge(gd);\n",
              "            observer.disconnect();\n",
              "        }}\n",
              "}});\n",
              "\n",
              "// Listen for the removal of the full notebook cells\n",
              "var notebookContainer = gd.closest('#notebook-container');\n",
              "if (notebookContainer) {{\n",
              "    x.observe(notebookContainer, {childList: true});\n",
              "}}\n",
              "\n",
              "// Listen for the clearing of the current output cell\n",
              "var outputEl = gd.closest('.output');\n",
              "if (outputEl) {{\n",
              "    x.observe(outputEl, {childList: true});\n",
              "}}\n",
              "\n",
              "                        })                };                            </script>        </div>\n",
              "</body>\n",
              "</html>"
            ]
          },
          "metadata": {}
        }
      ]
    },
    {
      "cell_type": "markdown",
      "source": [
        "---"
      ],
      "metadata": {
        "id": "EB8VlmdA5AWj"
      }
    },
    {
      "cell_type": "code",
      "source": [
        "most_knockouts = df.sort_values('Records_Wins by Knockout',ascending=False).iloc[:,[0,2,3,4,5,6,8,26,27]]\n",
        "most_submissions = df.sort_values('Records_Wins by Submission',ascending=False).iloc[:,[0,2,3,4,5,6,8,26,27]]"
      ],
      "metadata": {
        "id": "WOurW5_dU-5h"
      },
      "execution_count": 22,
      "outputs": []
    },
    {
      "cell_type": "code",
      "source": [
        "# Data for scatter plot\n",
        "y = df['Records_Wins by Knockout']\n",
        "x = df['Records_Wins by Submission']\n",
        "names = df['Name']\n",
        "\n",
        "# Create scatter plot\n",
        "fig = go.Figure(data=go.Scatter(\n",
        "    x=x,\n",
        "    y=y,\n",
        "    mode='markers',\n",
        "    text=names,\n",
        "    marker=dict(\n",
        "        size=7,\n",
        "        line=dict(width=1, color='black'),\n",
        "        symbol='circle',\n",
        "        color = '#9336B4'\n",
        "    )\n",
        "))\n",
        "\n",
        "fig.update_layout(\n",
        "    title='Fighters: Wins by Submission vs. Wins by Knockout',\n",
        "    xaxis_title='Wins by Submission',\n",
        "    yaxis_title='Wins by Knockout',\n",
        "    hovermode='closest',\n",
        "    title_x=0.5,\n",
        "    plot_bgcolor='#FFF6F4',\n",
        "    xaxis=dict(showgrid=False),\n",
        "    yaxis=dict(showgrid=False)\n",
        ")\n",
        "\n",
        "fig.show()\n"
      ],
      "metadata": {
        "colab": {
          "base_uri": "https://localhost:8080/",
          "height": 542
        },
        "id": "DWp4JDBhY19g",
        "outputId": "553a3f24-3f7e-4e17-efa4-f83dab0c021f"
      },
      "execution_count": 23,
      "outputs": [
        {
          "output_type": "display_data",
          "data": {
            "text/html": [
              "<html>\n",
              "<head><meta charset=\"utf-8\" /></head>\n",
              "<body>\n",
              "    <div>            <script src=\"https://cdnjs.cloudflare.com/ajax/libs/mathjax/2.7.5/MathJax.js?config=TeX-AMS-MML_SVG\"></script><script type=\"text/javascript\">if (window.MathJax && window.MathJax.Hub && window.MathJax.Hub.Config) {window.MathJax.Hub.Config({SVG: {font: \"STIX-Web\"}});}</script>                <script type=\"text/javascript\">window.PlotlyConfig = {MathJaxConfig: 'local'};</script>\n",
              "        <script src=\"https://cdn.plot.ly/plotly-2.18.2.min.js\"></script>                <div id=\"39ec8659-8d79-4b3d-b962-9cede97263ed\" class=\"plotly-graph-div\" style=\"height:525px; width:100%;\"></div>            <script type=\"text/javascript\">                                    window.PLOTLYENV=window.PLOTLYENV || {};                                    if (document.getElementById(\"39ec8659-8d79-4b3d-b962-9cede97263ed\")) {                    Plotly.newPlot(                        \"39ec8659-8d79-4b3d-b962-9cede97263ed\",                        [{\"marker\":{\"color\":\"#9336B4\",\"line\":{\"color\":\"black\",\"width\":1},\"size\":7,\"symbol\":\"circle\"},\"mode\":\"markers\",\"text\":[\"Francisco Prado\",\"Jos Henrique\",\"Rei Tsuruya\",\"Takeru Uchida\",\"Yamato Nishikawa\",\"Damien Dibbell\",\"Iasmin Lucindo\",\"Jinnosuke Kashimura\",\"Joshua Van\",\"Tereza Bleda\",\"Andrew Fields\",\"Cameron Saaiman\",\"Eduardo Neves\",\"Jesus Gaspar Diaz\",\"Muhammad Mokaev\",\"Nurullo Aliev\",\"Peter Danesoe\",\"Shimon Smotritsky\",\"Sho Patrick Usami\",\"Yusaku Kinoshita\",\"Brady Hiestand\",\"Chase Hooper\",\"Cory McKenna\",\"Daniel Zellhuber\",\"Darius Mata-Varona\",\"Denise Gomes\",\"Emanuel Muniz\",\"Erin Blanchfield\",\"Kay Hansen\",\"Luis Rodriguez\",\"Maheshate\",\"Michael Morales\",\"Rong Zhu\",\"Samandar Murodov\",\"Tatsuro Taira\",\"Yazmin Jauregui\",\"Billy Goff\",\"Chelsea Hackett\",\"Francis Marshall\",\"Joseph Landman\",\"Mateus Mendona\",\"Maycee Barber\",\"Mitch Raposo\",\"Tamires Vidal\",\"Toby Misech\",\"Viktoriia Dudakova\",\"Xiao Long\",\"Xie Bin\",\"Zhang Mingyang\",\"AJ Fletcher\",\"Amiran Gogoladze\",\"Anthony Romero\",\"Bahatebole Batebolati\",\"Brandon Lewis\",\"Bryan Dozier\",\"Canaan Kawaihae\",\"Carlo Pedersoli\",\"Casey O'Neill\",\"Chanmi Jeon\",\"Christian Rodriguez\",\"Dennis Buzukja\",\"Dorian Perez\",\"Edmen Shahbazyan\",\"Elves Brener\",\"Evan Elder\",\"Farid Basharat\",\"Fars Ziam\",\"Freddy Emiliano Linares\",\"Gabriel Bonfim\",\"Ian Machado Garry\",\"Ignacio Bahamondes\",\"Jeffrey Molina\",\"Julia Polastri\",\"Justin Burlinson\",\"Liang Na\",\"Mando Gutierrez\",\"Manuel Gaxhja\",\"Mariya Agapova\",\"Mark Climaco\",\"Melissa Martinez\",\"Miranda Maverick\",\"Naoki Inoue\",\"Nick Fiore\",\"Nick Maximov\",\"Qiu Lun\",\"Rana Rudra Pratap Singh\",\"Sabina Mazo\",\"Shohei Nose\",\"Song Yadong\",\"TJ Laramie\",\"Toshiomi Kazama\",\"Vitor Petrino\",\"William Gomis\",\"Yuma Horiuchi\",\"Ahmad Hassanzada\",\"Anton Turkalj\",\"Arman Tsarukyan\",\"Bruno Souza\",\"Carlos Huachin\",\"Carls John De Tomas\",\"Claudia Leite\",\"Claudio Puelles\",\"Clayton Carpenter\",\"Cristian Quionez\",\"Daniel Lacerda\",\"Desmond Torres\",\"Diana Belbita\",\"Drako Rodriguez\",\"Duda Santana\",\"Esteban Ribovics\",\"Fernando Padilla\",\"Gabriel Santos\",\"Garrett Armfield\",\"Ibo Aslan\",\"Ihor Potieria\",\"Ilia Topuria\",\"Isaac Dulgarian\",\"Ismail Naurdiev\",\"JP Buys\",\"Jack Della Maddalena\",\"Jake Hadley\",\"Jesus Aguilar\",\"Jesus Pinedo\",\"Jimmy Crute\",\"Joe Pyfer\",\"Juliana Miller\",\"Junior Tafa\",\"Kaleio Romero\",\"Malik Lewis\",\"Mana Martinez\",\"Maria Oliveira\",\"Mario Sousa\",\"Matj Pez\",\"Melissa Gatto\",\"Melquizael Costa\",\"Michal Figlak\",\"Mitchell Sipe\",\"Nair Nelikyan\",\"Nasrat Haqparast\",\"Natalia Silva\",\"Paul Capaldo\",\"Pete Rodriguez\",\"Qihui Yan\",\"Rafael Estevam\",\"Ramazan Kuramagomedov\",\"Rolando Bedoya\",\"Roshan Mainam\",\"Sage Northcutt\",\"Sam Patterson\",\"SeungGuk Choi\",\"Solomon Renfro\",\"Steven Koslow\",\"Valesca Machado\",\"Vik Grujic\",\"Vinicius Salvador\",\"Waylon Frost\",\"Wellington Turman\",\"Wu Yanan\",\"Yi Zha\",\"Youssef Zalal\",\"Zach Borrego\",\"Aleksa Camur\",\"Alessandro Costa\",\"Alex Asbury\",\"Alex da Silva\",\"Allan Begosso\",\"Aspen Ladd\",\"Austin Turpin\",\"Benot Saint-Denis\",\"Bo Nickal\",\"Brendan Allen\",\"Carlos Mota\",\"Charles Jourdain\",\"Charlie Campbell\",\"Cheyanne Vlismas\",\"Christian Leroy Duncan\",\"Christian Ocon\",\"Devin Smyth\",\"Edgar Chairez\",\"Gilbert Urbina\",\"Gillian Robertson\",\"Gloria de Paula\",\"Hu Yaozong\",\"HyunSung Park\",\"Ismael Bonfim\",\"Jacob Kilburn\",\"Jacob Malkoun\",\"Jacob Rosales\",\"Jalin Turner\",\"Jamal Pogues\",\"Jansey Silva\",\"Jaqueline Amorim\",\"Javid Basharat\",\"JeongYeong Lee\",\"Jerome Rivera\",\"Joe Giannetti\",\"Jordan Leavitt\",\"Jose Johnson\",\"Josefine Knutsson\",\"Joselyne Edwards\",\"Joseph Holmes\",\"Juan Andres Luna\",\"Kelly Velasco\",\"Khadis Ibragimov\",\"Kleydson Rodrigues\",\"Koya Kanda\",\"Kyler Phillips\",\"Landon Quinones\",\"Lara Procopio\",\"Leon Shahbazyan\",\"Li Kaiwen\",\"Liana Jojua\",\"Loma Lookboonmee\",\"Louis Cosce\",\"Lucas Alexander\",\"Luigi Vendramini\",\"Marcos Brigagao\",\"Maria Silva\",\"Mason Jones\",\"Matt Dixon\",\"Mick Parkin\",\"Nadia Kassem\",\"Nassourdine Imavov\",\"Nate Smith\",\"Nick Aguirre\",\"Oumar Sy\",\"Preston Parsons\",\"Raulian Paiva\",\"Rayanne Amanda\",\"Rhys McKee\",\"Ricardo Ramos\",\"Rinya Nakamura\",\"Rodolfo Bellato\",\"Roybert Echeverria\",\"Saidyokub Kakhramonov\",\"Sedriques Dumas\",\"Stephen Erceg\",\"Sumudaerji\",\"Thiago Moises\",\"Timo Feucht\",\"Umar Nurmagomedov\",\"Veronica Hardy\",\"Vinicius Cenci\",\"Yanal Ashmouz\",\"Yoshinori Horie\",\"Ailin Perez\",\"Alton Meeks\",\"Anshul Jubli\",\"Anthony Hintz\",\"Ashiek Ajim\",\"Askar Askar\",\"Askar Mozharov\",\"Austin Lingo\",\"Azat Maksum\",\"Benito Lopez\",\"Bryan Battle\",\"Bryce Mitchell\",\"Caio Machado\",\"Carlos Felipe\",\"Cheyden Leialoha\",\"Chibwikem Onyenegecha\",\"Christian Lohsen\",\"Cody Brundage\",\"Collin Huckbody\",\"Cristina Stanciu\",\"Da'Mon Blackshear\",\"Dakota Bush\",\"Daniel Santos\",\"Danilo Belluardo\",\"Darrius Flowers\",\"David Onama\",\"Diego Lopes\",\"Duko Todorovi\",\"Dylan Potter\",\"Fabio Cherant\",\"Felipe Colares\",\"Gabriel Silva\",\"Gian Siqueira\",\"Grant Dawson\",\"Humberto Bandenay\",\"JR Coughran\",\"Jack Cartwright\",\"Jack Shore\",\"Jake Matthews\",\"James Santamaria\",\"Jamie Mullarkey\",\"Janay Harding\",\"Jarno Errens\",\"Jeka Saragih\",\"Joanderson Brito\",\"Joao Elias\",\"Jonathan Martinez\",\"Joseph Morales\",\"Josh Culibao\",\"Josh Wick\",\"Joshua Weems\",\"Juancamilo Ronderos\",\"Kai Kamaka\",\"Kailan Hill\",\"Karol Rosa\",\"Karolina Wojcik\",\"Keisuke Sasu\",\"Kenneth Cross\",\"Kevin Szaflarski\",\"Khamzat Chimaev\",\"Khusein Askhabov\",\"Kyle Driscoll\",\"Larissa Pacheco\",\"Lu Kai\",\"Lucie Pudilova\",\"Ludovit Klein\",\"Luis Gomez\",\"Mads Burnell\",\"Manel Kape\",\"Manny Bermudez\",\"Manuel Torres\",\"Mark De La Rosa\",\"Matt Sayles\",\"Max Rohskopf\",\"Michal Oleksiejczuk\",\"Miles Johns\",\"Mizuki Inoue\",\"Montana De La Rosa\",\"Muhammadjon Naimov\",\"Nazim Sadykhov\",\"Nicolae Negumereanu\",\"Nohelin Hernandez\",\"Orion Cosce\",\"Paddy Pimblett\",\"Paige VanZant\",\"Rafa Garcia\",\"Randy Costa\",\"Sandra Lavado\",\"Santo Curatolo\",\"Sean O'Malley\",\"Serghei Spivac\",\"Shara Magomedov\",\"Shavkat Rakhmonov\",\"Shayilan Nuerdanbieke\",\"Tabatha Ricci\",\"Tafon Nchukwi\",\"Terrance McKinney\",\"Theo Rlayang\",\"Thomas Paull\",\"Tiffany Masters\",\"Tresean Gore\",\"Trevor Peek\",\"Trey Waters\",\"Tucker Lutz\",\"Adrian Yanez\",\"Al Matavao\",\"Alexa Grasso\",\"Alton Cunningham\",\"Amanda Ribas\",\"Amir Albazi\",\"Andre Fialho\",\"Ange Loosa\",\"Angelo Trevino\",\"Anthony Hernandez\",\"Aoriqileng\",\"Ariane Carnelossi\",\"Ariane Lipski\",\"Arnold Allen\",\"Assu Almabayev\",\"Azael Rodriguez\",\"Brandon Moreno\",\"Brianna Fortino\",\"Bruna Brasil\",\"Cameron VanCamp\",\"Carlos Hernandez\",\"Carlton Minus\",\"Chris Duncan\",\"Clay Collard\",\"Cody Cox\",\"Collin Anglin\",\"Da Woon Jung\",\"Dan Argueta\",\"Daniel Marcos\",\"Danny Sabatello\",\"Darian Weeks\",\"Devonte Smith\",\"Dricus Du Plessis\",\"Duane Crespo\",\"Elias Urbina\",\"Emily Ducote\",\"Felix Klinkhammer\",\"Gabriella Fernandes\",\"Gadzhi Omargadzhiev\",\"Impa Kasanganay\",\"Ion Cutelaba\",\"Jack Jenkins\",\"Jafel Filho\",\"Jared Gooden\",\"Jarred Brooks\",\"Jay Perrin\",\"Jin Soo Son\",\"Joao Zaiden\",\"Joaquin Buckley\",\"Joe Gigliotti\",\"Joe Solecki\",\"Joel lvarez\",\"John Allan\",\"Josh Fremd\",\"Josiane Nunes\",\"Justin Tafa\",\"Kai Kara-France\",\"Kamuela Kirk\",\"Kanako Murata\",\"Karine Silva\",\"Kathryn Paprocki\",\"Kevin Natividad\",\"Kevin Syler\",\"Khalid Murtazaliev\",\"Khaos Williams\",\"Kolton Englund\",\"Kyle Daukaus\",\"Kyron Bowen\",\"Lance Lawrence\",\"Laureano Staropoli\",\"Loopy Godinez\",\"Luan Chagas\",\"Luana Carolina\",\"Luis Henrique\",\"Luis Pena\",\"Lukasz Sudolski\",\"Lv Zhenhong\",\"Mabelly Lima\",\"Mallory Martin\",\"Manny Vazquez\",\"Marc Diakiese\",\"Mario Bautista\",\"Marnic Mann\",\"Martin Bravo\",\"Marvin Vettori\",\"Michel Pereira\",\"MinWoo Kim\",\"Modestas Bukauskas\",\"Movsar Evloev\",\"Nariman Abbassov\",\"Nathaniel Wood\",\"Olivier Murad\",\"Patrik White\",\"Paulo Renato Jr.\",\"Ray Borg\",\"Richard Jacobi\",\"Ricky Turcios\",\"Roosevelt Roberts\",\"Ryan MacDonald\",\"Sangwook Kim\",\"Sergio Pettis\",\"Shane Young\",\"Shaun Etchell\",\"Sherrard Blackledge\",\"Sodiq Yusuff\",\"Spike Carlyle\",\"Steven Nguyen\",\"Tai Tuivasa\",\"Taila Santos\",\"Taylor Moore\",\"Tom Aspinall\",\"Tom Duquesnoy\",\"Tracy Cortez\",\"Ty Flores\",\"Uro Medi\",\"Viviane Pereira\",\"Wallen Del Rosario\",\"Aaron Jeffery\",\"Alex Gilpin\",\"Alexander Hernandez\",\"Alexander Poppeck\",\"Allan Zuniga\",\"Askar Askarov\",\"Brady Huang\",\"Brandon Royval\",\"Brett Johns\",\"Brunno Ferreira\",\"Bruno Assis\",\"Caio Borralho\",\"Chris Avila\",\"Chris Fishgold\",\"Claudio Ribeiro\",\"Connor Matthews\",\"Cory Sandhagen\",\"Darren Till\",\"David Dvorak\",\"Dean Barry\",\"Denys Bondar\",\"Dylan Lockard\",\"Edivan Santos\",\"Elias Garcia\",\"Elise Reed\",\"Fernie Garcia\",\"Filip Pejic\",\"Gabe Green\",\"Gaetano Pirrello\",\"Gaston Bolanos\",\"Hamdy Abdelwahab\",\"Hannah Cifers\",\"Hannah Goldy\",\"Hilarie Rose\",\"Hugo Cunha\",\"Hunter Azure\",\"Ikram Aliskerov\",\"Isi Fitikefu\",\"Istela Nunes\",\"Ivan Valenzuela\",\"JJ Aldrich\",\"James Wallace\",\"Jamey Simmons\",\"Jared Vanderaa\",\"Jason Knight\",\"Jeremy Kennedy\",\"Jesse Murray\",\"Jessin Ayari\",\"Ji Prochzka\",\"John Davis\",\"Johnny Munoz\",\"Jonathan Pearce\",\"Jose Augusto\",\"Jose Torres\",\"Josh Quinlan\",\"Joshua Wang-Kim\",\"Julija Stoliarenko\",\"Justin Scoggins\",\"Kaloyan Kolev\",\"Kennedy Nzechukwu\",\"Kevin Holland\",\"Kevin Lee\",\"Klidson Abreu\",\"Koyomi Matsushima\",\"Kris Moutinho\",\"Leah Letson\",\"Leonardo De Oliveira\",\"Leonardo Morales\",\"Luan Lacerda\",\"Luana Pinheiro\",\"Lucrezia Ria\",\"Lukasz Brzeski\",\"Mackenzie Dern\",\"Magomed Ankalaev\",\"Marcelo Golm\",\"Marilia Santos\",\"Marlon Vera\",\"Mateusz Rbecki\",\"Matheus Nicolau\",\"Matheus Scheffel\",\"Matthew Semelsberger\",\"Miguel Baeza\",\"Mike Davis\",\"Miranda Granger\",\"Mo Miller\",\"Montel Jackson\",\"Montserrat Ruiz\",\"Nate Maness\",\"Niklas Stolze\",\"Nikolas Motta\",\"Pannie Kianzad\",\"Pedro Falcao\",\"Petr Yan\",\"Phil Caracappa\",\"Piera Rodriguez\",\"Pingyuan Liu\",\"Polyana Viana\",\"Punahele Soriano\",\"Rafael Fiziev\",\"Ramiz Brahimaj\",\"Reyes Cortez\",\"Richie Santiago\",\"Ricky Camp\",\"Ricky Simon\",\"Rizvan Kuniev\",\"Rob Wilkinson\",\"Robert Trujillo\",\"Rodrigo Nascimento\",\"Rodrigo de Lima\",\"Rogerio Bontorin\",\"Roman Kopylov\",\"Ronnie Lawrence\",\"Rose Namajunas\",\"Russell Rivero\",\"Said Nurmagomedov\",\"Sam Hughes\",\"Sean Brady\",\"Sean Woodson\",\"Sergei Pavlovich\",\"Sergey Khandozhko\",\"Seungwoo Choi\",\"Sidney Outlaw\",\"Sovannahry Em\",\"Steve Garcia\",\"Suman Mokhtarian\",\"Sung Bin Jo\",\"Taylor Lapilus\",\"Thomas Gifford\",\"Top Noi Kiwram\",\"Trevin Giles\",\"Vernon Ramos\",\"Victor Rodriguez\",\"Wesley Drain\",\"Yair Rodriguez\",\"Yazan Hajeh\",\"YeDam Seo\",\"Yohan Lainesse\",\"Zarrukh Adashev\",\"AJ Dobson\",\"Abdul-Kerim Edilov\",\"Acacio dos Santos\",\"Achilles Estremadura\",\"Adam Wieczorek\",\"Alatengheili\",\"Albert Morales\",\"Albert Tumenov\",\"Alejandro Flores\",\"Aleksandar Raki\",\"Alex Perez\",\"Alexander Morgan\",\"Allan Nascimento\",\"Amanda Cooper\",\"Andre Petroski\",\"Andy Enz\",\"Arman Ashimov\",\"Artem Frolov\",\"Augusto Sakai\",\"Austin Arnett\",\"Austin Hubbard\",\"Bea Malecki\",\"Bevon Lewis\",\"Brad Katona\",\"Brad Riddell\",\"Brandon Jenkins\",\"Brian Camozzi\",\"Brian Ortega\",\"Brok Weaver\",\"Bruno Korea\",\"CJ Vergara\",\"Caio Bittencourt\",\"Carlos Candelario\",\"Casey Kenney\",\"Charlie Ontiveros\",\"Chris Gutierrez\",\"Christapher Thomas\",\"Christian Aguilera\",\"Cody Garbrandt\",\"Daichi Abe\",\"Dan Ige\",\"Danilo Suzart\",\"Darko Stosic\",\"Diego Rivas\",\"Don'Tale Mayes\",\"Dooho Choi\",\"Dustin Stoltzfus\",\"Edson Gomez\",\"Emily Whitmire\",\"Erick Gonzalez\",\"Erisson Ferreira\",\"Genaro Valdez\",\"Geraldo de Freitas Jr.\",\"Glaico Franca\",\"Gregory Rodrigues\",\"Guram Kutateladze\",\"Hailey Cowan\",\"Hakeem Dawodu\",\"Herdem Alacabek\",\"Isabela De Padua\",\"Isaih Quinones\",\"Islam Makhachev\",\"Izabela Badurek\",\"Jailton Almeida\",\"Jamahal Hill\",\"Jeremia Siregar\",\"Jeremy Kimball\",\"Jesse Strader\",\"Jessica Andrade\",\"Jimmy Lawson\",\"Joby Sanchez\",\"John Adajar\",\"John Castaneda\",\"Johnny Walker\",\"Jonny Parsons\",\"Jordan Wright\",\"Jose Alday\",\"Juan Adams\",\"Julius Anglickas\",\"Junior Albini\",\"Justin Gonzales\",\"KB Bhullar\",\"Kailin Curran\",\"Kelvin Gastelum\",\"Ketlen Vieira\",\"Khalid Taha\",\"KyeongPyo Kim\",\"Kyle Nelson\",\"Lando Vannata\",\"Lauren Mueller\",\"Leon Edwards\",\"Lerone Murphy\",\"Liliya Shakirova\",\"Louis Smolka\",\"Macy Chiasson\",\"Maimaitituoheti Keremuaili\",\"Marcin Held\",\"Martin Buday\",\"Martin Sano\",\"Maryna Moroz\",\"Max Holloway\",\"Mayra Bueno Silva\",\"Melsik Baghdasaryan\",\"Michael Trizano\",\"Mickey Gall\",\"Mike Malott\",\"Mike Perry\",\"Nasrudin Nasrudinov\",\"Natan Levy\",\"Nikita Krylov\",\"Ode' Osbourne\",\"Oliver Enkamp\",\"Paulo Costa\",\"Rachael Ostovich\",\"Rama Supandhi\",\"Richie Smullen\",\"Rinat Fakhretdinov\",\"Rostem Akman\",\"Ryan Spann\",\"Saimon Oliveira\",\"Sarah Alpar\",\"Sean Strickland\",\"Shaheen Santana\",\"Shane Burgos\",\"Shanna Young\",\"Shawn Teed\",\"Simon Biyong\",\"Stefan Sekulic\",\"Steve Regman\",\"Tagir Ulanbekov\",\"Tanner Boser\",\"Teruto Ishihara\",\"Thomas Almeida\",\"Tom Breese\",\"Tony Gravely\",\"Tyler Diamond\",\"Tyson Pedro\",\"Viacheslav Borshchev\",\"Vicente Luque\",\"Victor Martinez\",\"Vince Murdock\",\"Waldo Cortes Acosta\",\"Wang Anying\",\"William Macario\",\"William Marcario\",\"Yuri Villefort\",\"Zabit Magomedsharipov\",\"Zviad Lazishvili\",\"Abus Magomedov\",\"Alex Morono\",\"Alex Nicholson\",\"Alexander Munoz\",\"Alexandr Romanov\",\"Alexandra Albu\",\"Alexandre Pantoja\",\"Ali Al-Qaisi\",\"Aliaskhab Khizriev\",\"Alvaro Herrera\",\"Andre Fili\",\"Ante Delija\",\"Anthony Blackburn\",\"Antonio Carlos Junior\",\"Antonio Trocoli\",\"Ariel Beck\",\"Armen Petrosyan\",\"Austin Tweedy\",\"Austin Vanderford\",\"Azamat Gashimov\",\"Blake Bilder\",\"Bobby Moffett\",\"Bobby Nash\",\"Boston Salmon\",\"Brandon Davis\",\"Bruno Silva\",\"Cameron Church\",\"Carlos Ulberg\",\"Cesar Arzamendia\",\"Charles Johnson\",\"Chelsea Chandler\",\"Ciryl Gane\",\"Cody Durden\",\"Cody Pfister\",\"Craig White\",\"Curtis Blaydes\",\"Damian Stasiak\",\"Damir Ismagulov\",\"Daniel Pereira\",\"Daniel Spitz\",\"Daniel Swain\",\"Darren Stewart\",\"Darrick Minner\",\"David Zawada\",\"Dayana da Silva Santos\",\"Don Madge\",\"Don Shainis\",\"Emiliano Sordi\",\"Eric Shelton\",\"Felicia Spencer\",\"Gabriel Miranda\",\"Geane Herrera\",\"Geoff Neal\",\"Gugun Gusman\",\"HanSeul Kim\",\"Horacio Gutierrez\",\"Irina Alekseeva\",\"JJ Okanovich\",\"Jason Gonzalez\",\"Jason Jackson\",\"Jhonoven Pati\",\"Jimmy Flick\",\"John Lineker\",\"Jonas Bilharinho\",\"Jordan Griffin\",\"Jordan Williams\",\"Jose Quinonez\",\"Julian Marquez\",\"JunYoung Hong\",\"Junyong Park\",\"Justin Lawrence\",\"Karl Roberson\",\"Khalil Rountree Jr.\",\"Kyoji Horiguchi\",\"Leonardo Damiani\",\"Loik Radzhabov\",\"Lucas Almeida\",\"Luis Saldana\",\"Lukasz Sajewski\",\"Maki Pitolo\",\"Malcolm Gordon\",\"Martin Buschkamp\",\"Mateusz Gamrot\",\"Matt Frevola\",\"Merab Dvalishvili\",\"Michael Graves\",\"Michael Lombardo\",\"Michael McDonald\",\"Michal Martinek\",\"Michinori Tanaka\",\"Mirsad Bektic\",\"Molly McCann\",\"Nayara Maia\",\"Norma Dumont\",\"Oleksandr Doskalchuk\",\"Ottman Azaitar\",\"Ozzy Diaz\",\"Pat Sabatini\",\"Peter Petties\",\"Phil Rowe\",\"Rafael Alves\",\"Randy Brown\",\"Ricardo Prasel\",\"Robert Whittaker\",\"Rolando Dy\",\"Roldan Sangcha-an\",\"Roman Bogatov\",\"Ron Bata\",\"Sasha Palatnikov\",\"Sean Lally\",\"Shamil Gamzatov\",\"Sheymon Moraes\",\"Stephanie Frausto\",\"Steve Montgomery\",\"Steven Peterson\",\"Stevie Ray\",\"TJ Brown\",\"Tainara Lisboa\",\"Takashi Sato\",\"Tatiana Suarez\",\"Taylor Johnson\",\"Te Edwards\",\"Themba Gorimbo\",\"Trevin Jones\",\"Tuco Tokkos\",\"Victor Altamirano\",\"Viktor Pesta\",\"Vince Morales\",\"Warlley Alves\",\"Will Chope\",\"WonBin Ki\",\"Yao Zhikui\",\"Zhang Lipeng\",\"Zubaira Tukhugov\",\"Aalon Cruz\",\"Aaron Phillips\",\"Abubakar Nurmagomedov\",\"Adli Edwards\",\"Alejandro Prez\",\"Alessio Di Chirico\",\"Aljamain Sterling\",\"Allen Crowder\",\"Andre Muniz\",\"Anthony Ivy\",\"Anthony Rocco Martin\",\"Anton Berzin\",\"Antonio Arroyo\",\"Armando Villarreal\",\"Batgerel Danaa\",\"Ben Sosoli\",\"Ben Wall\",\"Beneil Dariush\",\"Bill Algeo\",\"Bradley Scott\",\"Brendan Loughnane\",\"Brogan Walker\",\"Bruno Silva\",\"Bryan Barberena\",\"Cameron Olson\",\"Carl Deaton\",\"Carrese Archer\",\"Charles Oliveira\",\"Chase Gibson\",\"Chase Sherman\",\"Chris Daukaus\",\"Christos Giagos\",\"Cody Stamann\",\"Cole Smith\",\"Corey Anderson\",\"Dan Hooker\",\"Danielle Taylor\",\"David Teymur\",\"Deron Winn\",\"Desmond Green\",\"Devin Clark\",\"Dmitry Sosnovskiy\",\"Domingo Pilarte\",\"Dominic Waters\",\"Dominick Reyes\",\"Donavan Beard\",\"Dustin Kimura\",\"Dwight Joseph\",\"Enrique Barzola\",\"Ericka Almeida\",\"Erik Perez\",\"Francisco Figueiredo\",\"Frank Camacho\",\"Frankie Perez\",\"Giacomo Lemos\",\"Gustavo Lopez\",\"Hashem Arkhagha\",\"Henrique Shiguemoto\",\"Henrique da Silva\",\"Israel Adesanya\",\"J.C. Cottrell\",\"Jack Marshman\",\"Jamall Emmers\",\"Jamey-Lyn Horth\",\"Jamie Moyle\",\"Jasmine Jasudavicius\",\"Jay Rivera\",\"Jesse Nutting\",\"Ji Yeon Kim\",\"Jimmie Rivera\",\"Joey Gomez\",\"Johnny Case\",\"Jonavin Webb\",\"Jordan Espinosa\",\"Jordan Mein\",\"Joseph Lowry\",\"Josh Parisian\",\"Juan Puig\",\"Julian Erosa\",\"Julianna Pea\",\"Julio Arce\",\"Justin Frazier\",\"Justin Jaynes\",\"Justin Sumter\",\"Karine Gevorgyan\",\"Karl Williams\",\"Kenneth Bergh\",\"Krzysztof Jotko\",\"Kwan Ho Kwak\",\"Kyle Noblitt\",\"Kyle Prepolec\",\"Lazar Stojadinovic\",\"Leon Aliu\",\"Leonardo Mafra\",\"Liudvik Sholinian\",\"Lorenzo Hood\",\"Luiz Garagorri\",\"Makhmud Muradov\",\"Mandy Bhm\",\"Manon Fiorot\",\"Marc-Andre Barriault\",\"Marcio Alexandre\",\"Mariusz Ksiazkiewicz\",\"Matt Dwyer\",\"Matt Schnell\",\"Megan Anderson\",\"Michael Cora\",\"Michael Kuiper\",\"Mike Breeden\",\"Mike Santiago\",\"Nah-Shon Burrell\",\"Niklas Backstrom\",\"Niko Price\",\"Nikolay Veretennikov\",\"Olivier Aubin-Mercier\",\"Oskar Piechota\",\"Phil Hawes\",\"Randall Wallace\",\"Raphael Pessoa Nunes\",\"Renato Moicano\",\"Rich Franklin\",\"Rico Farrington\",\"Rodolfo Vieira\",\"Rodrigo Lidio\",\"Ronaldo Candido\",\"Rory MacDonald\",\"Ryan Benoit\",\"Salim Touahri\",\"Sang Hoon Yoo\",\"Saul Rogers\",\"Sean Soriano\",\"Sergey Morozov\",\"Shana Dobson\",\"Shannon Ross\",\"Sheila Gaff\",\"Sirwan Kakai\",\"Song Kenan\",\"Taneisha Tennant\",\"Tecia Torres\",\"Teddy Ash\",\"Timur Valiev\",\"Trey Ogden\",\"Ulka Sasaki\",\"Victoria Leonardo\",\"Vince Cachero\",\"Vinicius Moreira\",\"Volkan Oezdemir\",\"Wuliji Buren\",\"Yan Xiaonan\",\"Yana Santos\",\"Yusuke Kasuya\",\"Zach Zane\",\"Zhang Weili\",\"Adam Fugitt\",\"Adam Yandiev\",\"Alan Omer\",\"Albert Duraev\",\"Alen Amedovski\",\"Alex Caceres\",\"Alex Oliveira\",\"Alex White\",\"Alexander Volkanovski\",\"Alexander Volkov\",\"Alfred Khashakyan\",\"Alptekin Ozkilic\",\"Amanda Nunes\",\"Andre Soukhamthath\",\"Andrea Lee\",\"Andreas Michailidis\",\"Andreas Stahl\",\"Andrew Sanchez\",\"Andy Ogle\",\"Angga -\",\"Anistavio Medeiros\",\"Anthony Smith\",\"Antonio dos Santos\",\"Anvar Boynazarov\",\"Asikeerbai Jinensibieke\",\"Azamat Murzakanov\",\"Bec Rawlings\",\"Belal Muhammad\",\"Ben Nguyen\",\"Billy Quarantillo\",\"Bojan Velickovic\",\"Braxton Smith\",\"Brian Jackson\",\"Calen Born\",\"Calvin Kattar\",\"Chidi Njokuani\",\"Claudia Gadelha\",\"Cody East\",\"Colby Covington\",\"Conor McGregor\",\"Cory Hendricks\",\"Damon Jackson\",\"Dan Lauzon\",\"Daniel Barez\",\"Daniel Teymur\",\"Danny Henry\",\"Dashawn Boatwright\",\"David Michaud\",\"Denis Tiuliulin\",\"Devin Powell\",\"Dhiego Lima\",\"Dinis Paiva\",\"Dong Hyun Ma\",\"Drakkar Klose\",\"Drew Dober\",\"Dustin Ortiz\",\"Dustin Poirier\",\"Elias Theodorou\",\"Emil Meek\",\"Erik Koch\",\"Estefani Almeida\",\"Everett Sims\",\"Frank Holland\",\"Gabriel Benitez\",\"Garrett Gross\",\"Giga Chikadze\",\"Gina Mazany\",\"Gleidson Cutis\",\"Greg Hardy\",\"Gunnar Nelson\",\"Harry Hunsucker\",\"Hector Aldana\",\"Ian Heinisch\",\"Irwin Rivera\",\"Ivan Shtyrkov\",\"Jack Hermansson\",\"Jacob Silva\",\"Jai Herbert\",\"Jaime Alvarez\",\"Jake Collier\",\"James Bochnovic\",\"James Moontasri\",\"James Mulheron\",\"Jamie Pickett\",\"Jared Gordon\",\"Jeff Hughes\",\"Jenel Lausa\",\"Jennifer Maia\",\"Jianping Yang\",\"Joaquim Silva\",\"Joe Duffy\",\"Joey Gambino\",\"Jordan Johnson\",\"Jorge Lopez\",\"Josh Ferguson\",\"Josh Grispi\",\"Josh Samman\",\"Journey Newson\",\"Julia Avila\",\"Justin Gaethje\",\"Justin Ledet\",\"Justine Kish\",\"Karl Reed\",\"Katlyn Chookagian\",\"Kevin Aguilar\",\"Khabib Nurmagomedov\",\"Khadzhimurat Bestaev\",\"Korey Kuppe\",\"Kron Gracie\",\"Kyle Stewart\",\"Lance Benoist\",\"Levan Makashvili\",\"Li Jingliang\",\"Livinha Souza\",\"Lucas Martins\",\"Luke Barnatt\",\"Luke Flores\",\"Magomed Bibulatov\",\"Magomed Mustafaev\",\"Mairbek Taisumov\",\"Makwan Amirkhani\",\"Marcelo Rojo\",\"Marcin Prachnio\",\"Mark Striegl\",\"Markus Perez\",\"Marlon Moraes\",\"Martin Day\",\"Mike Diamond\",\"Mike Rodriguez\",\"Mohammed Usman\",\"Myles Jury\",\"Nate Landwehr\",\"Nicco Montano\",\"Nolan Ticman\",\"Paddy Holohan\",\"Pat Schilling\",\"Patrick Walsh\",\"Paul Sass\",\"Paul Teague\",\"Pauline Macias\",\"Pawel Pawlak\",\"Poliana Botelho\",\"Priscila Cachoeira\",\"Ramona Pascual\",\"Ramsey Nijem\",\"Raquel Pennington\",\"Rich Walsh\",\"Ricky Glenn\",\"Ricky Steele\",\"Roman Dolidze\",\"Roman Salazar\",\"Sabah Homasi\",\"Sarah Moras\",\"Scott Askham\",\"Stefan Struve\",\"Stephanie Egger\",\"Syuri Kondo\",\"TJ Waldburger\",\"Tebaris Gordon\",\"Timothy Thomas\",\"Tina Lahdemaki\",\"Tommy Hayden\",\"Valentina Shevchenko\",\"Vanessa Demopoulos\",\"Vanessa Melo\",\"Virna Jandiroba\",\"William Knight\",\"Zhalgas Zhumagulov\",\"Adam Milstead\",\"Adrian Diaz\",\"Aiemann Zahabi\",\"Aisling Daly\",\"Al Iaquinta\",\"Alan Baudot\",\"Alex Enlund\",\"Alex Garcia\",\"Alex Pereira\",\"Alonzo Menifield\",\"Amanda Lemos\",\"Andre Ewell\",\"Andrew Provost\",\"Andrew Todhunter\",\"Anthony Adams\",\"Anthony Christodoulou\",\"Anthony Leone\",\"Anton Zafir\",\"Antonio Braga Neto\",\"Ashlee Evans-Smith\",\"Ashley Yoder\",\"Austen Lane\",\"Austin Springer\",\"Bharat Kandare\",\"Bilyal Makhov\",\"Brad Tavares\",\"Brendan O'Reilly\",\"Brian Houston\",\"Bruno Santos\",\"Caio Magalhaes\",\"Cameron Dollar\",\"Cameron Else\",\"Carla Esparza\",\"Carlston Harris\",\"Cathal Pendred\",\"Chan Sung Jung\",\"Chris Birchler\",\"Chris Curtis\",\"Chris Dempsey\",\"Chris Heatherly\",\"Chris Holdsworth\",\"Chris Indich\",\"Chris Spang\",\"Chris Wade\",\"Cody Gibson\",\"Cody McKenzie\",\"Colton Smith\",\"Cortney Casey\",\"Curtis Millender\",\"Cynthia Calvillo\",\"Dalcha Lungiambula\",\"Danny Chavez\",\"Danny Roberts\",\"Darrell Horcher\",\"Darrell Montague\",\"Dashon Johnson\",\"Deiveson Figueiredo\",\"Demetrious Johnson\",\"Derrick Krantz\",\"Diego Brandao\",\"Dominique Steele\",\"Dustin Jacoby\",\"Erik Silva\",\"Eryk Anders\",\"Fabio Agu\",\"Felipe Arantes\",\"Gerald Meerschaert\",\"Hector Urbina\",\"Herbert Burns\",\"Irene Aldana\",\"Jairzinho Rozenstruik\",\"Jamelle Jones\",\"James Gray\",\"James Vick\",\"Jessica-Rose Clark\",\"Jimy Hettes\",\"Joanna Jdrzejczyk\",\"Joe Soto\",\"John Hathaway\",\"Jon Delos Reyes\",\"Jon Jones\",\"Jonathan Meunier\",\"Jonathan Wilson\",\"Jordan Rinaldi\",\"Juan Puerta\",\"Justin Jones\",\"Justin Willis\",\"Justin Wren\",\"Kamaru Usman\",\"Kevin Croom\",\"Kyung Ho Kang\",\"Lewis Gonzalez\",\"Luke Jumeau\",\"Marcin Wrzosek\",\"Maurice Mitchell\",\"Max Mustaki\",\"Melinda Fbin\",\"Michael Chiesa\",\"Micheal Gillmore\",\"Micol Di Segni\",\"Mike Grundy\",\"Mounir Lazzez\",\"Nad Narimani\",\"Neil Magny\",\"Nick Roehrick\",\"Oluwale Bamgbose\",\"Omari Akhmedov\",\"Pascal Krauss\",\"Paul Craig\",\"Piotr Hallmann\",\"Ramazan Emeev\",\"Raoni Barcelos\",\"Ray Rodriguez\",\"Rick Palacios\",\"Riley Dutro\",\"Rob Font\",\"Rocky Lee\",\"Sarah Frota\",\"Sean Spencer\",\"Seohee Ham\",\"Talita Bernardo\",\"Teemu Packalen\",\"Thiago Perptuo\",\"Thibault Gouti\",\"Tiago Trator\",\"Tim Caron\",\"Victor Henry\",\"Willamy Freire\",\"Yancy Medeiros\",\"Zac Pauga\",\"Abu Azaitar\",\"Adlan Amagov\",\"Alex Reyes\",\"Alexander Gustafsson\",\"Anthony Birchak\",\"Anthony Pettis\",\"Arjan Singh Bhullar\",\"Artem Lobov\",\"Bartosz Fabinski\",\"Blagoy Ivanov\",\"Bobby Green\",\"Brian Kelleher\",\"C.J. Keith\",\"CJ Hamilton\",\"Cale Yarbrough\",\"Chad Anheliger\",\"Chad Johnson\",\"Chad Laprise\",\"Chance Rencountre\",\"Charles Rosa\",\"Chase Waldon\",\"Chris Barnett\",\"Chris Camozzi\",\"Chris Gruetzemacher\",\"Chris Saunders\",\"Christian Morecraft\",\"Clint Hester\",\"Cory Corbin\",\"Damir Hadzovic\",\"Dan Downes\",\"Dan Moret\",\"Daniel Rodriguez\",\"Danny Mitchell\",\"Davi Ramos\",\"Dennis Bermudez\",\"Dequan Townsend\",\"Diego Henrique da Silva\",\"Dustin Hazelett\",\"Dustin Neace\",\"Elias Silverio\",\"Elizabeth Phillips\",\"Elizeu dos Santos\",\"Elvis Mutapcic\",\"Enrique Marin\",\"Eric Spicely\",\"Francis Ngannou\",\"Gabriel Checco\",\"Gadzhimurad Antigulov\",\"Gavin Tucker\",\"Gilbert Burns\",\"Greg Soto\",\"Gregor Gillespie\",\"Guto Inocente\",\"Harvey Park\",\"Hector Sandoval\",\"Henry Cejudo\",\"Ian Entwistle\",\"Jake Lindsey\",\"James Krause\",\"Jared Rosholt\",\"Jason Witt\",\"Jay Cucciniello\",\"Jennifer Gonzalez\",\"Jeremiah Wells\",\"Jeremy Stephens\",\"Jessamyn Duke\",\"Jessica Eye\",\"Jim Alers\",\"Jimmy Quinlan\",\"Jodie Esquibel\",\"Joey Gomez\",\"John Albert\",\"John Maguire\",\"John Teixeira\",\"Jon Manley\",\"Jos Aldo\",\"Joseph Sandoval\",\"Jumabieke Tuerxun\",\"Junior Hernandez\",\"Kalindra Faria\",\"Khama Worthy\",\"Kurt Holobaugh\",\"Kyle Bochniak\",\"Lorenz Larkin\",\"Mara Romero Borella\",\"Marco Beltran\",\"Marcos Rosa\",\"Marina Rodriguez\",\"Mark Cherico\",\"Masio Fullen\",\"Matt Hobar\",\"Matt Van Buren\",\"Matthew Lopez\",\"Maurice Greene\",\"Michael Chandler\",\"Michael Johnson\",\"Michael McBride\",\"Miesha Tate\",\"Mike De La Torre\",\"Misha Cirkunov\",\"Nick Newell\",\"Nico Musoke\",\"Norman Parke\",\"Pat Audinwood\",\"Paul Redmond\",\"Pawan Maan\",\"Pearl Gonzalez\",\"Pedro Munhoz\",\"Peter Barrett\",\"Peter Sobotta\",\"Phil De Fries\",\"Renan Barao\",\"Rico DiSciullo\",\"Rin Nakai\",\"Robbie Peralta\",\"Roberto Sanchez\",\"Rodolfo Rubio\",\"Roger Zapata\",\"Ronda Rousey\",\"Roque Martinez\",\"Royston Wee\",\"Ruslan Magomedov\",\"Russell Doane\",\"Rustam Khabilov\",\"Ryan McGilivray\",\"Sam Alvey\",\"Santiago Ponzinibbio\",\"Saparbeg Safarov\",\"Shane Campbell\",\"Shang Zhifa\",\"Shonte Barnes\",\"Steve Cantwell\",\"Steven Siler\",\"TJ O'Brien\",\"Tamdan McCrory\",\"Tarec Saffiedine\",\"Terrion Ware\",\"Tim Elliott\",\"Tim Williams\",\"Tom Gallicchio\",\"Tony Kelley\",\"Victor Reyna\",\"Viviane Arajo\",\"Wagner Silva\",\"Wang Guan\",\"Will Brooks\",\"Willian Souza\",\"Willie Gates\",\"Yorgan De Castro\",\"Zak Ottow\",\"Abdul Razak Alhassan\",\"Adam Cella\",\"Ali Bagautinov\",\"Anderson dos Santos\",\"Andrew Craig\",\"Andrew Holbrook\",\"Angel De Anda\",\"Antonio Jones\",\"Ashkan Mokhtarian\",\"Besam Yousef\",\"Brandon Thatch\",\"Brock Jardine\",\"Bubba Bush\",\"Chad Mendes\",\"Chas Skelly\",\"Chris Beal\",\"Christina Marks\",\"Cris Cyborg\",\"Cyril Asker\",\"Dan Cramer\",\"Daniel Pineda\",\"Danilo Marques\",\"Danny Martinez\",\"Daron Cruickshank\",\"Darrill Schoonover\",\"Davey Grant\",\"Dennis Bryant\",\"Dmitry Poberezhets\",\"Dominick Cruz\",\"Douglas Silva de Andrade\",\"Dustin Joynson\",\"Edson Barboza\",\"Efrain Escudero\",\"Erick Montano\",\"Felipe Olivieri\",\"Gegard Mousasi\",\"Gian Villante\",\"Henrique Da Silva Lopes\",\"Hernani Perpetuo\",\"Jake Ellenberger\",\"Jamie Colleen\",\"Jason Saggo\",\"Jinh Yu Frey\",\"Joanne Wood\",\"Jocelyn Jones-Lybarger\",\"Joe Ellenberger\",\"Joe Proctor\",\"John Gunther\",\"John Makdessi\",\"John Phillips\",\"John Salter\",\"Josh Emmett\",\"Jussier Formiga\",\"Karlos Vemola\",\"Karolina Kowalkiewicz\",\"Kazula Vargas\",\"Keith Berish\",\"Kevin Gray\",\"Leandro Silva\",\"Luke Sanders\",\"Lyman Good\",\"Manuel Rodriguez\",\"Marcel Fortuna\",\"Marcin Tybura\",\"Marcos Rogerio de Lima\",\"Marcus Brimage\",\"Mark Eddiva\",\"Mark Holst\",\"Martin Svensson\",\"Matthew Riddle\",\"Max Griffin\",\"Mehdi Baghdad\",\"Michael Smith\",\"Michelle Waterson-Gomez\",\"Mike Jackson\",\"Mikey Gonzalez\",\"Mitch Clarke\",\"Nate Diaz\",\"Nick Urso\",\"Nina Nunes\",\"Omar Morales\",\"Pedro Nobre\",\"Philipe Lins\",\"Randa Markos\",\"Ryan Hall\",\"Sam Sicilia\",\"Sarah Kaufman\",\"Sergio Moraes\",\"Shelton Graves\",\"Shinsho Anzai\",\"Sijara Eubanks\",\"TJ Dillashaw\",\"Takenori Sato\",\"Tateki Matsuda\",\"Terry Etim\",\"Thanh Le\",\"Timothy Johnson\",\"Todd Duffee\",\"Tony Sims\",\"Tristan Connelly\",\"Valmir Lazaro\",\"Wang Sai\",\"Adam Khaliev\",\"Alan Belcher\",\"Albert Cheng\",\"Alberto Pereira\",\"Aleksei Kunchenko\",\"Alexander Yakovlev\",\"Alexis Davis\",\"Amir Aliakbari\",\"Angela Hill\",\"Anna Elmose\",\"Anthony Johnson\",\"Anthony Morrison\",\"Anton Kuivanen\",\"Antonina Shevchenko\",\"Augusto Montano\",\"Ben Askren\",\"Brian Foster\",\"Bruno Oliveira\",\"Bryan Caraway\",\"Callan Potter\",\"Carlos Condit\",\"Cezar Ferreira\",\"Chico Camus\",\"Chris Weidman\",\"Cindy Dandois\",\"Cole Miller\",\"Court McGee\",\"Damien Brown\",\"Daniel Jolly\",\"Daniel Spohn\",\"Darren Elkins\",\"Dave Herman\",\"DeAnna Bennett\",\"Derrick Lewis\",\"Diego Ferreira\",\"Dileno Lopes\",\"Donavon Frelow\",\"Dongi Yang\",\"Dwight Grant\",\"Eddie Wineland\",\"Edgar Garcia\",\"Ednaldo Oliveira\",\"Edward Faaloloto\",\"Edwin Figueroa\",\"Eric Wisely\",\"Erick Silva\",\"Felice Herrig\",\"Felipe Silva\",\"Frank Lester\",\"Germaine de Randamie\",\"Grigory Popov\",\"Hacran Dias\",\"Humberto Brown\",\"Hyun Gyu Lim\",\"Ian McCall\",\"Ike Villanueva\",\"Issei Tamura\",\"Jaimee Nievera\",\"Jake O'Brien\",\"Jamie Varner\",\"Jared Cannonier\",\"Jens Pulver\",\"Jeremy Larsen\",\"Jesse Forbes\",\"Jesse Ronson\",\"Jewel Scott\",\"Jimmy Wallhead\",\"Joe Lauzon\",\"Joe Merritt\",\"John Cofer\",\"John Dodson\",\"John Moraga\",\"Jon Tuck\",\"Jorge Gonzalez\",\"Jorge Masvidal\",\"Joseph Benavidez\",\"Josh Sampo\",\"Joshua Stansbury\",\"Junie Browning\",\"Kajan Johnson\",\"Kali Robbins\",\"Keita Nakamura\",\"Kelly Faszholz\",\"Kevin Souza\",\"Liz Carmouche\",\"Logan Clark\",\"Louis Gaudinot\",\"Luke Rockhold\",\"Marco Polo Reyes\",\"Mark Madsen\",\"Matt Bessette\",\"Michel Batista\",\"Michel Quinones\",\"Mitch Gagnon\",\"Muslim Salikhov\",\"Nick Hein\",\"Nick Osipczak\",\"Nicolas Dalby\",\"Nik Lentz\",\"Noad Lahat\",\"Oron Kahlon\",\"Oscar Cota\",\"Parker Porter\",\"Paul Felder\",\"Paul Kelly\",\"Phil Davis\",\"Quinn Mulhern\",\"Rafael Dos Anjos\",\"Rameau Sokoudjou\",\"Rani Yahya\",\"Rashid Magomedov\",\"Ricardo Abreu\",\"Richardson Moreira\",\"Rick Story\",\"Rony Jason\",\"Ross Pearson\",\"Ryan Thomas\",\"Sam Stout\",\"Sean Santella\",\"Shane Nelson\",\"Shane Primm\",\"Shawn Jordan\",\"Sheldon Westcott\",\"Shunichi Shimizu\",\"Silvana Gomez Juarez\",\"Simeon Thoresen\",\"Siyar Bahadurzada\",\"Steve Lopez\",\"Sultan Aliev\",\"TJ Grant\",\"Thiago Tavares\",\"Tommy Speer\",\"Tyson Griffin\",\"Uriah Hall\",\"Vernon Cathey\",\"Vinny Magalhaes\",\"Viscardi Andrade\",\"Walel Watson\",\"Wilson Reis\",\"Zak Cummings\",\"Aaron Rosa\",\"Abel Trujillo\",\"Adam Hunter\",\"Alan Patrick\",\"Alex Soto\",\"Angela Magana\",\"Augusto Mendes\",\"Ben Saunders\",\"Benson Henderson\",\"Bethe Correia\",\"Brandon Melendez\",\"Brendan Schaub\",\"Bubba McDaniel\",\"Byron Bloodworth\",\"CB Dollaway\",\"Caros Fodor\",\"Charles Byrd\",\"Chi Lewis-Parry\",\"Chris Cope\",\"Cole Williams\",\"Cub Swanson\",\"Danillo Villefort\",\"Danny Abbadi\",\"Danyelle Wolf\",\"Derek Brunson\",\"Donald Cerrone\",\"Eddie Alvarez\",\"Eddie Gordon\",\"Eddie Mendez\",\"Gleison Tibau\",\"Gokhan Saki\",\"Hatsu Hioki\",\"Ian Loveland\",\"Jake Hecht\",\"James Hammortree\",\"James Head\",\"Jamie Yager\",\"Jan Bachowicz\",\"Jarjis Danho\",\"Jim Miller\",\"Joe Brammer\",\"John Cholish\",\"John Howard\",\"Johny Hendricks\",\"Josh Appelt\",\"Josh Neer\",\"Junior Dos Santos\",\"Justin Buchholz\",\"Kenny Robertson\",\"Lauren Murphy\",\"Leandro Issa\",\"Leo Kuntz\",\"Marcelo Guimaraes\",\"Mark Godbeer\",\"Mats Nilsson\",\"Matt Wiman\",\"Maxim Grishin\",\"Maximo Blanco\",\"Nate Mohr\",\"Nick Denis\",\"Nick Diaz\",\"Ovince Saint Preux\",\"Pablo Garza\",\"Pat Healy\",\"Paul Bradley\",\"Paul Daley\",\"Phil Harris\",\"Phillipe Nover\",\"Rafael de Freitas\",\"Reuben Duran\",\"Richie Vaculik\",\"Ricky Rainey\",\"Rob Broughton\",\"Rob Whiteford\",\"Roger Huerta\",\"Roger Narvaez\",\"Roland Delorme\",\"Ryan Bader\",\"Ryan LaFlare\",\"Scott Holtzman\",\"Scott McAfee\",\"Sean O'Connell\",\"Shane Del Rosario\",\"Shane Howell\",\"Steven Kennedy\",\"Tae Hyun Bang\",\"Takeya Mizugaki\",\"Thiago Alves\",\"Thiago Santos\",\"Tim Gorman\",\"Tim Hague\",\"Tim Means\",\"Tom Lawlor\",\"Tony Ferguson\",\"Tony Johnson\",\"Tyler Toner\",\"Tyson Nam\",\"Ulysses Gomez\",\"Valerie Letourneau\",\"Vinicius Queiroz\",\"Walt Harris\",\"Yan Cabral\",\"Yoislandy Izquierdo\",\"Zach Makovsky\",\"Zarah Fairn\",\"Abner Lloveras\",\"Adriano Martins\",\"Akbarh Arreola\",\"Akira Corassani\",\"Alberto Mina\",\"Alessandro Ricci\",\"Alvin Robinson\",\"Bentley Syler\",\"Brian Melancon\",\"Bristol Marunde\",\"Buddy Roberts\",\"Cain Velasquez\",\"Cat Zingano\",\"Che Mills\",\"Chris Price\",\"Claudio Silva\",\"Colin Fletcher\",\"DaMarques Johnson\",\"Dan Hardy\",\"Daniel Omielanczuk\",\"Diego Nunes\",\"Diego Saraiva\",\"Dmitrii Smoliakov\",\"Eddie Sanchez\",\"Edilberto Crocota\",\"Edwin Dewees\",\"Estevan Payan\",\"Galore Bofando\",\"Gasan Umalatov\",\"Gilbert Melendez\",\"Gina Carano\",\"Greg Rebello\",\"Hayder Hassan\",\"Hugo Viana\",\"Ildemar Alcantara\",\"Ilir Latifi\",\"Ivan Menjivar\",\"James Barnes\",\"Jared Hamman\",\"Jeremy Jackson\",\"Jesse Lennox\",\"Jesse Taylor\",\"Jessica Aguilar\",\"Jessica Penne\",\"Joe Riggs\",\"Joe Stevenson\",\"Johnny Bedford\",\"Johnny Rees\",\"Josh Copeland\",\"Juliana Lima\",\"Justin Edwards\",\"Justin Salas\",\"KJ Noons\",\"Karo Parisyan\",\"Ken Stone\",\"Kendall Grove\",\"Konstantin Erokhin\",\"Kyle Bradley\",\"Kyle Kingsbury\",\"Leonardo Augusto Leleco\",\"Leslie Smith\",\"Lina Lansberg\",\"Lisa Ellis\",\"Luiz Dutra\",\"Magnus Cedenblad\",\"Maia Stevenson\",\"Marcos Conrado Junior\",\"Marcus LeVesseur\",\"Mark Hominick\",\"Martin Kampmann\",\"Masanori Kanehara\",\"Matt Arroyo\",\"Paul Georgieff\",\"Pete Sell\",\"Rafael Natal\",\"Raphael Assuno\",\"Razak Al-Hassan\",\"Reginaldo Vieira\",\"Ricardo Lamas\",\"Ricky Calatayud\",\"Robbie Lawler\",\"Roger Bowling\",\"Ron Stallings\",\"Rory Markham\",\"Roxanne Modafferi\",\"Ryan Couture\",\"Scott Jorgensen\",\"Sean Loeffler\",\"Shamar Bailey\",\"Stephen Bass\",\"Stephen Thompson\",\"Stipe Miocic\",\"Tim McKenzie\",\"Tom DeBlass\",\"Tom Niinimaki\",\"Tom Watson\",\"Tor Troeng\",\"Travis Browne\",\"Tyron Woodley\",\"Vagner Rocha\",\"Vaughan Lee\",\"Vinc Pichel\",\"Wendell Oliveira\",\"Will Santiago\",\"Xavier Foupa-Pokam\",\"Aaron Riley\",\"Adam Antolin\",\"Alan Jouban\",\"Alessio Sakara\",\"Andre Winner\",\"Antonio Mendes\",\"Ben Rothwell\",\"Benny Alloway\",\"Bernardo Magalhaes\",\"Brandon Sayles\",\"Carlo Prater\",\"Chad Reiner\",\"Chris Cariaso\",\"Chris Kelades\",\"Clay Guida\",\"Clifford Starks\",\"Cody Donovan\",\"Cole Escovedo\",\"Dan Miller\",\"David Branch\",\"Diego Sanchez\",\"Dong Hyun Kim\",\"Emily Peters Kagan\",\"Evan Dunham\",\"Francis Carmont\",\"Francisco Rivera\",\"Francisco Trevino\",\"Frankie Edgar\",\"Garreth McLellan\",\"George Roop\",\"George Sullivan\",\"Georges St-Pierre\",\"Gilbert Smith\",\"Holly Holm\",\"Jake Rosholt\",\"James Te Huna\",\"James Terry\",\"Jason Day\",\"Jason High\",\"Jason Tan\",\"Joey Beltran\",\"John Polakowski\",\"Jon Koppenhaver\",\"Josh Clopton\",\"Katsunori Kikuno\",\"Keith Wisniewski\",\"Kevin Casey\",\"Kiichi Kunimoto\",\"Kris McCray\",\"Luke Zachrich\",\"Maiquel Falcao\",\"Manny Gamburyan\",\"Mark Bocek\",\"Matt Grice\",\"Matt Veach\",\"Mauricio Rua\",\"Mayana Kellem\",\"Michel Prazeres\",\"Mike Rio\",\"Mike Whitehead\",\"Mizuto Hirota\",\"Nick Catone\",\"Nick Thompson\",\"Ning Guangyou\",\"Nissen Osterneck\",\"Nordine Taleb\",\"Patrick Williams\",\"Rafaello Oliveira\",\"Rashad Coulter\",\"Rob Emerson\",\"Robert Drysdale\",\"Rodney Wallace\",\"Roger Gracie\",\"Rolando Delgado\",\"Ryan Janes\",\"Ryan Jimmo\",\"Sammy Morgan\",\"Seth Baczynski\",\"Shamil Abdurakhimov\",\"Shannon Gugerty\",\"Stanislav Nedkov\",\"Steve Bosse\",\"Steve Bruno\",\"Steve Steinbeiss\",\"Thales Leites\",\"Tomasz Drwal\",\"Tonya Evinger\",\"Travis Aragon\",\"Wagner Campos\",\"Yui Chul Nam\",\"Yushin Okami\",\"Zu Anyanwu\",\"Akitoshi Tamura\",\"Alex Serdyukov\",\"Alistair Overeem\",\"Amir Sadollah\",\"Anthony Hamilton\",\"Anthony Njokuani\",\"Bibiano Fernandes\",\"Bojan Mihajlovic\",\"Brian Ebersole\",\"Brian Geraghty\",\"Brian Stann\",\"Brodie Farber\",\"Carmelo Marrero\",\"Charles McCarthy\",\"Charlie Brenneman\",\"Charlie Ward\",\"Chris Leben\",\"Claude Patrick\",\"Clay Harvison\",\"Damian Grabowski\",\"Dan Barrera\",\"Dan Stittgen\",\"Daniel Roberts\",\"Derek Downey\",\"Doug Evans\",\"Ed Herman\",\"Eliot Marshall\",\"Fabio Maldonado\",\"Francimar Barroso\",\"Frankie Saenz\",\"Garett Whiteley\",\"Geronimo dos Santos\",\"Gisele Moreira\",\"Heather Jo Clark\",\"Henry Briones\",\"Icho Larenas\",\"Igor Araujo\",\"Iliarde Santos\",\"Iuri Alcantara\",\"Ivan Jorge\",\"Jacob Volkmann\",\"James McSweeney\",\"Jason Dent\",\"Jason Miller\",\"Jesse Bongfeldt\",\"Jimi Manuwa\",\"Jorge Santiago\",\"Josh Bryant\",\"Josh Janousek\",\"Josh Raferty\",\"Josh Schockman\",\"Joshua Burkman\",\"Juan Espino\",\"Justin Levens\",\"Kevin Burns\",\"Kyle Noke\",\"Luigi Fioravanti\",\"Luis Ramos\",\"Luke Caudillo\",\"Luke Cummo\",\"Mackens Semerzier\",\"Matt Brown\",\"Miguel Angel Torres\",\"Mike Kyle\",\"Nate Loughran\",\"Patrick Cote\",\"Patrick Cummins\",\"Paulo Thiago\",\"Rafael Cavalcante\",\"Ricardo Funch\",\"Riki Fukuda\",\"Rob Kimmons\",\"Rob Yundt\",\"Ross Pointon\",\"Sam Hoger\",\"Sara McMann\",\"Shayna Baszler\",\"Terry Martin\",\"Tim Boetsch\",\"Trevor Smith\",\"Waylon Lowe\",\"Yaotzin Meza\",\"Alexandre Dantas\",\"Alexandre Ferreira\",\"Amilcar Alves\",\"Andrei Arlovski\",\"Anthony Lapsley\",\"Antonio Banuelos\",\"Antonio Carvalho\",\"Antonio Silva\",\"Barb Honchak\",\"Benji Radach\",\"Bobby Voelker\",\"Brad Morris\",\"Chris De La Rocha\",\"Christian Colombo\",\"Costas Philippou\",\"Dale Hartt\",\"Daniel Cormier\",\"Danny Castillo\",\"Darren Uyenoyama\",\"Dave Kaplan\",\"David Bielkheden\",\"David Loiseau\",\"Denis Stojnic\",\"Donny Walker\",\"Dylan Andrews\",\"Eddie Yagin\",\"Frank Mir\",\"Fredy Serrano\",\"Gabriel Gonzaga\",\"Gerald Harris\",\"Gerald Strebendt\",\"Glover Teixeira\",\"Gray Maynard\",\"Guido Cannetti\",\"Jason Novelli\",\"Jerrod Sanders\",\"John Alessio\",\"Jon Madsen\",\"Jonathan Goulet\",\"Jorge de Oliveira\",\"Justin Wilcox\",\"Kazuhiro Nakamura\",\"Kurt Pellegrino\",\"Kyle Jensen\",\"Kyle Watson\",\"Leonard Garcia\",\"Leonardo Santos\",\"Mac Danzig\",\"Marcos Vinicius\",\"Mario Miranda\",\"Michael Bisping\",\"Mike Ciesnolevicz\",\"Nate Marquardt\",\"Neil Seery\",\"Oli Thompson\",\"Pat Barry\",\"Paul Taylor\",\"Peggy Morgan\",\"Phillip Miller\",\"Rashad Evans\",\"Ricco Rodriguez\",\"Richard Crunkilton Jr.\",\"Rodrigo Damm\",\"Ron Faircloth\",\"Ronaldo Souza\",\"Scott Smith\",\"Seth Petruzelli\",\"Shane Roller\",\"Tim Kennedy\",\"Troy Mandaloniz\",\"Urijah Faber\",\"Vitor Miranda\",\"Wes Sims\",\"Yves Jabouin\",\"Alex Chambers\",\"Alex Schoenauer\",\"Amar Suloev\",\"Andreas Spang\",\"Andrei Semenov\",\"Antwain Britt\",\"BJ Penn\",\"Billy Miles\",\"Brad Pickett\",\"CM Punk\",\"Chris Brennan\",\"Corey Hill\",\"Daiju Takase\",\"Dennis Siver\",\"Derrick Noble\",\"Din Thomas\",\"Dion Staring\",\"Drew McFedries\",\"Duane Ludwig\",\"Fabricio Camoes\",\"Francisco Trinaldo\",\"Genki Sudo\",\"Heath Herring\",\"Igor Pokrajac\",\"Isaac Vallie-Flagg\",\"Jake Shields\",\"James Irvin\",\"James Wilks\",\"Jeff Hougland\",\"Joachim Christensen\",\"John Gunderson\",\"Johnny Eduardo\",\"Jon Fitch\",\"Josh Thomson\",\"Justin Eilers\",\"Lyoto Machida\",\"Marcio Cruz\",\"Matt Horwich\",\"Matt Mitrione\",\"Nathan Coy\",\"Nick Agallar\",\"Nick Ring\",\"Nick Serra\",\"Papy Abedi\",\"Rampage Jackson\",\"Reza Madadi\",\"Ricardo Romero\",\"Roan Carneiro\",\"Rob MacDonald\",\"Roger Hollett\",\"Rolles Gracie\",\"Roman Mitichyan\",\"Scott Junk\",\"Takanori Gomi\",\"Tatsuya Kawajiri\",\"Tiequan Zhang\",\"Travis Wiuff\",\"Wesley Correira\",\"Wilson Gouveia\",\"Aleksei Oleinik\",\"Alexandre Nogueira\",\"Andre Gusmao\",\"Andy Wang\",\"Brad Blackburn\",\"Brad Imes\",\"Brandon Vera\",\"Brock Larson\",\"Brock Lesnar\",\"CJ Fernandes\",\"Chael Sonnen\",\"Chris Wilson\",\"Cristiano Marcello\",\"Daniel Kelly\",\"David Terrell\",\"Delson Heleno\",\"Demian Maia\",\"Denis Kang\",\"Dorian Price\",\"Eric Schafer\",\"Fabricio Werdum\",\"Forrest Griffin\",\"Gabe Ruediger\",\"George Sotiropoulos\",\"Gilbert Aldana\",\"Hector Lombard\",\"James Giboo\",\"James Zikic\",\"Javier Vazquez\",\"Jeff Curran\",\"Jessica Rakoczy\",\"Joe Doerksen\",\"Joe Slick\",\"Joe Veres\",\"Jonathan Wiezorek\",\"Josh Barnett\",\"Josh Haynes\",\"Josh Koscheck\",\"Jules Bruchez\",\"Kamal Shalorus\",\"Kelly Dullanty\",\"Kit Cope\",\"Koji Oishi\",\"Krzysztof Soszynski\",\"Lavar Johnson\",\"Lee Murray\",\"Marion Reneau\",\"Mark Munoz\",\"Mike Wessel\",\"Norifumi Yamamoto\",\"Phil Baroni\",\"Rich Attonito\",\"Rodrigo Ruas\",\"Romie Aram\",\"Rosi Sexton\",\"Ruan Potts\",\"Ryan Jensen\",\"Sean Salmon\",\"Soa Palelei\",\"Stephan Bonnar\",\"Steve Vigneault\",\"Tiki Ghosn\",\"Tim Credeur\",\"Travis Fulton\",\"Vitor Belfort\",\"Yoel Romero\",\"Alberto Crane\",\"Alex Steibling\",\"Antonio Rogerio Nogueira\",\"Ariel Gandulla\",\"Carlos Newton\",\"Floyd Sword\",\"Gan McGee\",\"Gilbert Yvel\",\"Hector Ramirez\",\"Jared Rollins\",\"Jay Hieron\",\"Jordan Radev\",\"Jorge Gurgel\",\"Josh Hendricks\",\"Justin James\",\"Justin McCully\",\"Kazuo Misaki\",\"Kenichi Yamamoto\",\"Kenny Florian\",\"Kuniyoshi Hironaka\",\"Matt Hamill\",\"Minotauro Nogueira\",\"Ricardo Almeida\",\"Rich Clementi\",\"Rory Singer\",\"Roy Nelson\",\"Ryo Chonan\",\"Sean McCorkle\",\"Sean Pierson\",\"Spencer Fisher\",\"Tim Sylvia\",\"Todd Brown\",\"Wanderlei Silva\",\"Yasuhiro Urushitani\",\"Yuki Sasaki\",\"Yves Edwards\",\"Anderson Silva\",\"Antoni Hardonk\",\"Brandon Wolff\",\"Cheick Kongo\",\"Chris Clements\",\"Christian Wellisch\",\"Crafton Wallace\",\"David Heath\",\"David Roberts\",\"Dean Lister\",\"Doug Marshall\",\"Eiji Mitsuoka\",\"Forrest Petz\",\"Hayato Sakurai\",\"Ikuhisa Minowa\",\"Jason Brilz\",\"Jason Lambert\",\"Jason MacDonald\",\"Jason Thacker\",\"Jason Von Flue\",\"Jeff Joslin\",\"Jeremy Horn\",\"Julio Paulino\",\"Keith Jardine\",\"Leigh Remedios\",\"Masutatsu Yano\",\"Mike Brown\",\"Mike Pyle\",\"Nandor Guelmino\",\"Paul Rodriguez\",\"Pete Williams\",\"Renato Sobral\",\"Richard Odoms\",\"Ronys Torres\",\"Samy Schiavo\",\"Sean Daughtery\",\"Wagnney Fabiano\",\"Yoshihiro Akiyama\",\"Yuki Kondo\",\"Aaron Brink\",\"Aaron Simpson\",\"Akihiro Gono\",\"Alex Andrade\",\"Allen Berube\",\"Assuerio Silva\",\"Charlie Valencia\",\"Chris Lytle\",\"Christophe Midoux\",\"Dan Evensen\",\"Dante Rivera\",\"Dave Menne\",\"Falaniko Vitale\",\"Hermes Franca\",\"John Kolosci\",\"Jorgen Kruth\",\"Kalib Starnes\",\"Mark Hunt\",\"Matt Serra\",\"Mike Guymon\",\"Mikey Burnett\",\"Olaf Alfonso\",\"Pedro Rizzo\",\"Richie Hightower\",\"Shane Carwin\",\"Tito Ortiz\",\"Tom Murphy\",\"Tony DeSouza\",\"Wade Shipp\",\"Branden Lee Hinkle\",\"Curtis Stout\",\"Cyrille Diabate\",\"David Dodd\",\"Gideon Ray\",\"James Lee\",\"Jerry Bohlander\",\"Jorge Patino\",\"Kimbo Slice\",\"Laverne Clark\",\"Lodune Sincaid\",\"Lucio Linhares\",\"Marcus Aurelio\",\"Marcus Davis\",\"Marcus Jones\",\"Mark Hughes\",\"Matt Hughes\",\"Mostapha Al Turk\",\"Paul Buentello\",\"Reese Andy\",\"Renato Verissimo\",\"Sean Sherk\",\"Steve Berger\",\"Travis Lutter\",\"Wes Combs\",\"Zach Light\",\"Anthony Perosh\",\"Art Santore\",\"Brian Gassaway\",\"Cung Le\",\"Dan Christison\",\"David Baron\",\"Dokonjonosuke Mishima\",\"Fabiano Scherner\",\"Frank Shamrock\",\"Frank Trigg\",\"Houston Alexander\",\"Jason Black\",\"John Halverson\",\"Jorge Rivera\",\"Katsuhisa Fuji\",\"Keichiro Yamamiya\",\"Nate Quarry\",\"Shonie Carter\",\"Solomon Hutcherson\",\"Trevor Prangley\",\"Anthony Fryklund\",\"Homer Moore\",\"Joao Pierini\",\"Joao Roque\",\"Kerry Schall\",\"Kristian Rothaermel\",\"Marvin Eastman\",\"Matt Andersen\",\"Mike Nickels\",\"Sean Alvarez\",\"Sinae Kikuta\",\"Vernon White\",\"Alfonso Alcarez\",\"Anthony Macias\",\"Antonio McKee\",\"Dan Henderson\",\"Elvis Sinosic\",\"Evan Tanner\",\"Fabiano Iha\",\"Ivan Salaverry\",\"Jeff Monson\",\"Joe Son\",\"Joey Gilbert\",\"John Marsh\",\"Jutaro Nakao\",\"Kevin Jordan\",\"Lance Gibson\",\"Matt Lindland\",\"Neil Grove\",\"Paul Creighton\",\"Pete Spratt\",\"Ronald Jhun\",\"Tsuyoshi Kosaka\",\"Vladimir Matyushenko\",\"Amaury Bitetti\",\"Bobby Southworth\",\"Chris Haseman\",\"Chuck Liddell\",\"Daniel Bobish\",\"Dave Strasser\",\"Ebenezer Braga\",\"Eugene Jackson\",\"Jason DeLucia\",\"Jason Reinhardt\",\"Kazushi Sakuraba\",\"Mark David Robinson\",\"Melton Bowen\",\"Phil Johns\",\"Tedd Williams\",\"Teila Tuli\",\"Yoshiki Takahashi\",\"Chris Sanford\",\"Colin Robinson\",\"Hugo Duarte\",\"James Toney\",\"Jeff Cox\",\"John Lober\",\"Mark Kerr\",\"Roberto Traven\",\"Satoshi Honma\",\"Wallid Ismail\",\"Andre Pederneiras\",\"Eddie Ruiz\",\"Enson Inoue\",\"Guy Mezger\",\"Kimo Leopoldo\",\"Mark Weir\",\"Oleg Taktarov\",\"Renzo Gracie\",\"Sherman Pendergarst\",\"Yoji Anjo\",\"Bill Mahood\",\"Bobby Hoffman\",\"Ian Freeman\",\"Jeff Newton\",\"Murilo Bustamante\",\"Pat Miletich\",\"Royce Gracie\",\"Andre Roberts\",\"Bas Rutten\",\"Don Frye\",\"Gary Goodridge\",\"Keith Rockel\",\"Mike Van Arsdale\",\"Ron Waterman\",\"Sam Adkins\",\"Scott Ferrozzo\",\"Tim Lajcik\",\"Andy Anderson\",\"Brad Kohler\",\"Eldo Xavier Dias\",\"Mark Coleman\",\"Tra Telligman\",\"Adrian Serrano\",\"Art Jimmerson\",\"Ken Shamrock\",\"Koji Kitao\",\"Patrick Smith\",\"Paul Jones\",\"Randy Couture\",\"Marco Ruas\",\"Tony Halme\"],\"x\":[6.0,null,null,null,null,null,2.0,null,null,2.0,null,1.0,null,null,5.0,null,null,null,null,2.0,2.0,5.0,2.0,2.0,null,null,null,4.0,4.0,null,null,null,4.0,null,7.0,null,null,null,4.0,null,4.0,2.0,null,2.0,null,null,null,null,null,4.0,null,null,null,null,null,null,4.0,2.0,null,4.0,null,null,1.0,11.0,1.0,5.0,4.0,null,11.0,1.0,1.0,4.0,null,null,10.0,null,null,5.0,null,null,7.0,null,4.0,3.0,null,null,1.0,null,3.0,null,5.0,null,1.0,null,null,2.0,5.0,2.0,2.0,null,null,7.0,2.0,3.0,6.0,null,4.0,4.0,null,5.0,8.0,4.0,3.0,null,6.0,8.0,2.0,null,5.0,2.0,5.0,6.0,4.0,4.0,2.0,3.0,null,null,null,null,1.0,null,null,4.0,6.0,null,null,null,null,7.0,null,null,null,null,null,3.0,null,null,5.0,null,null,6.0,null,null,1.0,null,7.0,5.0,10.0,5.0,null,null,6.0,null,7.0,null,1.0,null,8.0,4.0,12.0,null,4.0,null,null,1.0,null,null,null,2.0,9.0,null,1.0,4.0,4.0,2.0,null,null,4.0,1.0,null,5.0,6.0,3.0,6.0,null,6.0,2.0,null,null,6.0,null,null,3.0,1.0,null,2.0,null,2.0,null,null,6.0,null,2.0,null,4.0,null,null,3.0,null,1.0,null,4.0,null,4.0,null,9.0,3.0,null,3.0,7.0,1.0,null,null,4.0,2.0,null,null,7.0,null,7.0,2.0,null,2.0,null,1.0,null,1.0,null,null,null,6.0,2.0,null,2.0,5.0,9.0,null,null,null,null,null,3.0,null,null,8.0,4.0,2.0,3.0,1.0,4.0,11.0,3.0,null,5.0,5.0,1.0,null,13.0,6.0,null,null,9.0,6.0,null,3.0,null,5.0,4.0,6.0,null,2.0,null,null,null,8.0,2.0,1.0,null,2.0,null,null,null,null,5.0,10.0,null,null,null,2.0,8.0,null,null,5.0,11.0,6.0,6.0,1.0,5.0,1.0,2.0,9.0,8.0,null,1.0,3.0,0.0,1.0,9.0,3.0,9.0,null,null,null,null,6.0,null,9.0,10.0,3.0,null,8.0,null,null,null,2.0,null,3.0,2.0,2.0,null,null,null,4.0,9.0,1.0,1.0,null,7.0,2.0,2.0,3.0,4.0,null,null,11.0,3.0,2.0,9.0,4.0,1.0,1.0,3.0,null,null,2.0,4.0,null,null,1.0,null,10.0,null,null,4.0,null,2.0,3.0,2.0,2.0,3.0,8.0,6.0,null,4.0,2.0,null,null,null,8.0,16.0,3.0,4.0,null,null,null,6.0,4.0,6.0,null,1.0,null,null,1.0,null,9.0,null,null,2.0,1.0,null,1.0,null,4.0,null,null,null,2.0,null,1.0,6.0,null,5.0,9.0,7.0,null,2.0,4.0,null,5.0,null,null,null,6.0,null,1.0,5.0,3.0,null,3.0,4.0,null,null,null,3.0,null,null,3.0,null,3.0,null,1.0,null,2.0,null,null,null,null,2.0,null,null,7.0,null,9.0,6.0,3.0,null,3.0,null,13.0,null,null,3.0,2.0,8.0,null,9.0,null,null,3.0,null,1.0,null,6.0,3.0,null,null,null,1.0,null,null,1.0,5.0,null,null,null,null,null,1.0,3.0,13.0,null,null,8.0,null,null,7.0,2.0,null,null,2.0,null,9.0,null,null,null,6.0,8.0,10.0,null,1.0,null,null,null,10.0,5.0,null,1.0,7.0,null,1.0,null,8.0,6.0,5.0,null,1.0,null,1.0,5.0,null,1.0,2.0,3.0,5.0,null,null,null,1.0,null,null,4.0,8.0,2.0,1.0,10.0,null,null,null,4.0,null,null,null,6.0,null,11.0,null,null,6.0,null,5.0,3.0,4.0,1.0,null,7.0,null,null,null,null,6.0,null,null,13.0,null,5.0,null,null,null,3.0,null,null,null,null,2.0,null,null,null,6.0,3.0,null,null,null,1.0,7.0,null,13.0,null,4.0,null,null,null,null,5.0,2.0,2.0,null,3.0,null,null,null,7.0,3.0,null,null,null,3.0,5.0,2.0,null,null,null,null,null,5.0,null,1.0,null,null,1.0,5.0,null,1.0,1.0,null,3.0,5.0,null,3.0,null,2.0,null,null,null,null,11.0,null,12.0,null,null,null,null,8.0,null,null,null,6.0,2.0,null,5.0,null,0.0,null,6.0,null,2.0,null,4.0,4.0,2.0,null,4.0,5.0,null,3.0,null,null,7.0,2.0,null,null,1.0,3.0,6.0,2.0,7.0,null,2.0,6.0,5.0,null,null,3.0,16.0,4.0,null,1.0,2.0,null,null,5.0,1.0,12.0,11.0,2.0,4.0,null,5.0,2.0,null,null,6.0,null,7.0,2.0,null,4.0,6.0,3.0,null,5.0,null,8.0,null,1.0,1.0,null,null,null,null,7.0,9.0,6.0,6.0,null,1.0,9.0,2.0,10.0,4.0,5.0,null,3.0,6.0,null,9.0,null,null,null,null,null,null,4.0,9.0,null,null,4.0,4.0,null,1.0,null,3.0,1.0,3.0,5.0,null,null,null,null,1.0,null,3.0,null,1.0,22.0,4.0,null,3.0,2.0,null,5.0,4.0,15.0,null,2.0,null,null,null,1.0,null,7.0,null,null,14.0,4.0,null,9.0,1.0,1.0,3.0,null,5.0,null,4.0,null,null,null,null,5.0,5.0,null,3.0,6.0,null,5.0,3.0,1.0,null,null,null,null,null,2.0,null,null,2.0,4.0,2.0,null,10.0,null,4.0,8.0,5.0,null,5.0,null,null,5.0,null,null,null,5.0,0.0,null,null,7.0,8.0,9.0,2.0,null,5.0,null,null,6.0,4.0,null,4.0,null,2.0,7.0,null,null,null,null,1.0,2.0,2.0,4.0,null,6.0,4.0,8.0,3.0,15.0,3.0,9.0,null,4.0,null,2.0,null,null,8.0,7.0,null,null,1.0,null,2.0,null,9.0,null,21.0,null,null,null,4.0,2.0,3.0,null,7.0,null,null,null,1.0,1.0,null,4.0,null,2.0,null,null,null,4.0,null,null,8.0,2.0,null,null,5.0,null,null,null,null,null,null,3.0,2.0,null,null,null,null,3.0,2.0,null,null,null,7.0,null,null,2.0,null,12.0,6.0,5.0,null,5.0,null,null,null,null,1.0,null,null,3.0,null,null,null,3.0,null,6.0,3.0,2.0,null,1.0,null,null,null,9.0,3.0,null,null,null,null,null,null,3.0,null,9.0,5.0,2.0,null,1.0,10.0,null,null,8.0,null,null,null,1.0,2.0,null,null,4.0,3.0,null,1.0,null,null,7.0,null,1.0,null,2.0,11.0,11.0,4.0,2.0,8.0,1.0,4.0,null,1.0,null,null,8.0,3.0,null,null,9.0,null,7.0,5.0,5.0,3.0,3.0,null,null,4.0,3.0,5.0,4.0,null,2.0,null,null,null,14.0,null,null,null,null,null,1.0,5.0,5.0,null,null,null,4.0,2.0,1.0,7.0,null,4.0,1.0,null,15.0,null,null,3.0,5.0,null,null,null,3.0,5.0,null,null,null,5.0,3.0,6.0,null,1.0,null,null,null,null,10.0,null,1.0,1.0,null,null,13.0,4.0,1.0,2.0,1.0,5.0,6.0,null,1.0,null,4.0,null,null,null,null,2.0,1.0,null,5.0,null,3.0,10.0,null,null,null,null,null,null,3.0,2.0,null,5.0,2.0,null,1.0,2.0,11.0,null,null,5.0,3.0,null,null,4.0,8.0,null,null,null,5.0,4.0,null,12.0,6.0,null,14.0,6.0,6.0,2.0,1.0,2.0,2.0,3.0,2.0,0.0,null,null,null,null,null,null,null,null,null,null,1.0,null,4.0,null,3.0,null,3.0,null,null,2.0,null,18.0,4.0,null,null,null,null,null,null,7.0,4.0,2.0,13.0,null,1.0,2.0,null,2.0,null,1.0,null,null,6.0,null,2.0,3.0,4.0,null,null,null,null,null,null,null,null,4.0,null,null,null,null,2.0,null,null,null,null,null,4.0,4.0,5.0,null,8.0,null,1.0,null,null,null,null,null,null,null,null,null,4.0,null,3.0,1.0,null,5.0,1.0,null,null,8.0,11.0,11.0,null,null,null,4.0,1.0,null,null,27.0,null,8.0,3.0,null,null,null,5.0,2.0,null,1.0,null,null,null,7.0,null,null,null,null,null,3.0,null,1.0,10.0,11.0,null,4.0,null,null,null,null,11.0,null,null,8.0,null,5.0,4.0,null,null,6.0,null,13.0,null,7.0,2.0,8.0,null,null,4.0,null,5.0,null,null,4.0,null,null,6.0,null,null,8.0,null,4.0,null,1.0,null,null,3.0,8.0,7.0,null,2.0,null,6.0,8.0,10.0,null,null,null,3.0,null,1.0,3.0,8.0,null,null,null,3.0,null,null,null,null,3.0,null,7.0,4.0,null,7.0,4.0,5.0,null,null,null,null,null,3.0,null,null,null,4.0,null,15.0,6.0,9.0,null,5.0,null,null,null,null,null,null,14.0,null,8.0,null,null,4.0,2.0,null,1.0,null,null,null,null,null,null,null,null,1.0,null,null,null,null,3.0,9.0,2.0,null,4.0,null,1.0,1.0,null,null,null,null,3.0,5.0,7.0,2.0,null,7.0,null,8.0,null,null,null,null,null,null,null,8.0,2.0,10.0,null,15.0,null,null,null,null,null,null,null,3.0,null,null,null,5.0,null,3.0,6.0,2.0,null,null,null,null,null,null,null,null,null,6.0,null,null,3.0,null,4.0,null,null,null,null,null,null,9.0,null,null,null,12.0,null,null,null,null,null,null,null,null,null,null,10.0,null,null,null,null,null,19.0,5.0,null,null,null,9.0,null,null,1.0,2.0,null,null,null,null,null,null,2.0,null,null,null,null,null,2.0,1.0,null,null,null,null,null,2.0,null,2.0,10.0,null,3.0,3.0,null,null,null,1.0,3.0,null,null,6.0,3.0,null,null,null,null,null,2.0,null,null,9.0,null,null,null,13.0,null,2.0,4.0,null,4.0,4.0,3.0,null,null,8.0,null,null,null,3.0,null,null,null,null,null,null,null,9.0,null,null,null,null,null,null,1.0,9.0,8.0,null,null,null,null,null,null,1.0,null,6.0,null,null,16.0,null,13.0,4.0,null,4.0,null,null,6.0,null,null,null,5.0,null,null,null,7.0,null,null,null,null,4.0,null,null,null,null,null,null,4.0,null,null,0.0,3.0,null,null,null,null,null,null,null,null,null,2.0,null,null,null,7.0,null,null,17.0,null,null,2.0,8.0,null,4.0,2.0,9.0,null,null,null,null,null,16.0,null,null,2.0,null,null,8.0,1.0,3.0,null,null,null,10.0,null,4.0,null,4.0,8.0,null,null,null,3.0,1.0,null,null,null,11.0,null,21.0,null,null,null,null,null,4.0,null,null,null,null,null,null,null,null,2.0,null,6.0,null,0.0,null,null,null,null,1.0,null,null,null,null,10.0,12.0,null,null,null,2.0,null,null,null,6.0,null,null,null,null,null,null,null,null,5.0,null,null,3.0,4.0,null,null,null,4.0,17.0,7.0,null,null,null,null,null,null,null,null,null,null,9.0,null,19.0,null,null,null,null,null,null,1.0,null,null,1.0,null,null,null,null,null,5.0,6.0,null,null,null,8.0,8.0,null,null,null,null,null,null,null,null,null,1.0,null,null,null,null,null,null,3.0,2.0,null,null,null,null,null,null,null,1.0,null,null,null,5.0,null,8.0,null,null,null,null,null,null,null,null,null,null,null,null,null,null,null,null,null,null,null,null,null,null,null,3.0,null,null,9.0,null,null,null,null,null,null,5.0,null,null,null,null,null,null,null,null,null,null,null,null,5.0,null,null,null,null,null,null,7.0,8.0,null,null,null,null,null,null,null,null,null,null,null,null,null,null,null,null,null,null,null,null,null,null,null,null,null,null,null,null,null,null,null,10.0,null,null,5.0,null,1.0,null,null,null,5.0,null,null,null,null,null,1.0,null,null,null,null,null,null,null,5.0,null,null,null,null,null,null,null,null,1.0,null,null,null,7.0,null,null,null,null,null,null,null,14.0,null,null,null,null,7.0,6.0,null,null,null,null,null,null,4.0,null,null,null,null,null,null,null,null,null,null,null,null,null,null,null,null,null,null,null,null,null,null,null,null,null,null,null,1.0,null,10.0,null,null,null,null,null,null,null,null,null,null,null,null,null,null,null,null,null,null,null,null,4.0,null,null,null,null,null,null,null,7.0,null,null,null,3.0,null,null,null,17.0,null,null,null,null,null,null,null,null,null,null,null,null,null,null,null,null,null,null,null,null,null,null,15.0,null,null,null,2.0,null,null,null,null,null,null,null,null,null,null,null,null,null,null,null,1.0,null,null,null,null,null,null,8.0,null,null,null,null,null,null,null,null,7.0,null,null,null,null,2.0,null,null,null,null,null,null,null,null,4.0,null,null,3.0,9.0,null,null,null,null,null,3.0,null,null,null,null,null,null,null,null,2.0,null,null,null,5.0,null,null,null,null,null,null,null,null,null,null,null,null,null,null,10.0,null,4.0,null,null,null,null,null,null,null,null,null,null,null,null,8.0,null,null,null,null,null,null,null,null,null,null,null,null,null,null,null,null,null,14.0,null,null,null,null,null,17.0,null,null,null,null,null,null,null,null,null,6.0,null,null,null,null,null,null,null,null,null,null,null,null,null,5.0,null,null,null,null,null,null,null,null,null,null,11.0,null,null,null,null,null,null,null,null,null,null,null,null,null,null,null,null,null,null,null,null,null,null,null,null,null,null,null,47.0,null,null,null,null,null,null,null,null,null,null,null,null,null,null,null,14.0,null,null,null,11.0,null,null,null,null,null,null,null,null,null,null,null,null,null,null,null,null,null,null,null,null,null,null,null,null,null,3.0,null,null,null,null,null,null,null,null,null,null,null,null,null,null,null,null,null,null,null,null,null,6.0,null,null,null,null,null,null,null,null,null,null,null,null,null,null,null,null,null,null,null,null,null,null,null,null,null,null,null,null,null,null,null,null,null,4.0,null,null,null,null,null,null,null,null,null,null,null,null,null,null,null,null,null,null,null,null,null,null,null,null,null,null,null,null,null,null,null,null,null,null,null,null,null,null,null,null,null,null,null,null,null,null,null,null,null,null,null,null,null,null,null,null,null,null,null,null,null,null,null,null,null,null,null,null,null,null,null,null,null,null,null,null,null,null,null,null,null,null,null,null,null,null,null,null,null,null,null,null,null,null,null,null,null,null,null,null,null,null,null,null,null,null,null,null,null,null,null,null,null,null,null,null,null,null,null,null,null,null,null,null,null,null,null,null,null,null,null,null,null,null,null,null,null,null,null,null,null,null,null,null,null,null,null,null,null,null,null,null,null,null,null,null,null,null,null,null,null,null,null,null,null,null,null,null,null,null,null,null,null,null,null,null,null,null,null,null,null,null,null,null,null,null,null,null,null,null,null,null,null,null,null,null,null,null,null,null,null,null,null,null,null,null,null,null,null,null,null,null,null,null,null],\"y\":[5.0,null,null,null,null,null,8.0,null,null,2.0,null,5.0,null,null,2.0,2.0,null,null,null,4.0,4.0,4.0,2.0,7.0,null,5.0,null,2.0,2.0,null,4.0,11.0,13.0,null,3.0,6.0,6.0,null,null,null,3.0,5.0,null,1.0,null,null,null,null,null,4.0,null,null,null,null,null,null,3.0,3.0,null,3.0,null,null,10.0,null,4.0,1.0,5.0,null,3.0,7.0,9.0,4.0,null,null,7.0,null,null,3.0,null,5.0,1.0,null,2.0,2.0,null,null,2.0,null,9.0,null,3.0,6.0,6.0,null,null,5.0,7.0,1.0,8.0,null,null,null,2.0,10.0,5.0,null,6.0,2.0,1.0,6.0,4.0,3.0,5.0,null,10.0,4.0,3.0,null,3.0,11.0,2.0,null,7.0,5.0,8.0,null,4.0,null,null,8.0,7.0,null,null,2.0,7.0,4.0,null,null,9.0,5.0,null,5.0,null,null,null,4.0,null,null,4.0,2.0,null,null,null,null,13.0,null,4.0,6.0,6.0,2.0,null,5.0,3.0,null,13.0,null,6.0,null,2.0,1.0,5.0,4.0,8.0,null,2.0,6.0,null,null,null,2.0,1.0,3.0,2.0,3.0,9.0,4.0,2.0,null,9.0,4.0,null,1.0,5.0,4.0,1.0,null,1.0,8.0,null,6.0,2.0,null,null,2.0,5.0,null,5.0,null,1.0,null,null,1.0,1.0,5.0,3.0,5.0,null,null,4.0,null,5.0,4.0,5.0,null,3.0,null,null,4.0,null,7.0,4.0,5.0,null,null,3.0,4.0,null,13.0,3.0,null,null,1.0,null,4.0,null,4.0,null,1.0,null,null,null,11.0,3.0,null,3.0,3.0,null,null,6.0,null,null,null,4.0,null,null,1.0,2.0,6.0,6.0,8.0,6.0,8.0,8.0,null,null,2.0,3.0,null,4.0,5.0,null,null,4.0,6.0,null,10.0,null,3.0,8.0,6.0,null,8.0,null,5.0,null,1.0,null,null,null,4.0,null,null,null,null,6.0,6.0,null,null,null,3.0,8.0,null,null,11.0,1.0,6.0,1.0,6.0,null,13.0,4.0,null,1.0,null,5.0,8.0,3.0,6.0,6.0,2.0,1.0,6.0,null,null,11.0,7.0,null,8.0,19.0,1.0,4.0,5.0,null,null,null,2.0,8.0,3.0,6.0,10.0,null,4.0,null,3.0,5.0,13.0,5.0,null,2.0,7.0,9.0,6.0,7.0,null,null,5.0,2.0,3.0,4.0,null,6.0,7.0,10.0,null,5.0,11.0,2.0,7.0,null,4.0,10.0,8.0,null,null,3.0,null,3.0,8.0,1.0,13.0,5.0,5.0,8.0,null,2.0,4.0,null,12.0,null,1.0,3.0,9.0,4.0,7.0,6.0,11.0,5.0,2.0,9.0,null,5.0,null,null,7.0,null,null,null,null,5.0,1.0,null,2.0,null,2.0,null,null,null,2.0,null,6.0,3.0,null,5.0,2.0,10.0,null,9.0,3.0,null,9.0,null,null,null,null,null,3.0,3.0,3.0,null,3.0,6.0,null,null,6.0,5.0,null,14.0,10.0,null,9.0,null,1.0,null,6.0,null,null,null,null,6.0,null,null,4.0,null,4.0,2.0,7.0,null,4.0,null,2.0,11.0,null,7.0,10.0,8.0,null,4.0,null,null,2.0,2.0,3.0,null,4.0,11.0,6.0,5.0,5.0,1.0,null,null,3.0,5.0,null,2.0,null,2.0,null,4.0,7.0,3.0,null,null,3.0,25.0,null,2.0,9.0,null,null,4.0,null,null,null,null,8.0,14.0,3.0,4.0,null,3.0,3.0,null,null,null,2.0,null,6.0,null,10.0,5.0,null,8.0,8.0,5.0,null,6.0,7.0,7.0,1.0,null,7.0,3.0,5.0,4.0,8.0,3.0,null,7.0,null,5.0,3.0,5.0,6.0,8.0,null,null,null,null,6.0,null,null,null,2.0,null,3.0,9.0,4.0,2.0,null,4.0,2.0,3.0,3.0,15.0,12.0,6.0,null,null,11.0,1.0,null,null,3.0,null,6.0,null,7.0,null,6.0,null,null,6.0,2.0,3.0,null,null,null,3.0,5.0,null,null,null,9.0,5.0,null,2.0,null,4.0,null,null,null,11.0,7.0,5.0,1.0,3.0,1.0,5.0,null,null,3.0,2.0,null,7.0,null,2.0,2.0,4.0,9.0,null,11.0,10.0,null,5.0,null,8.0,null,6.0,11.0,2.0,null,null,8.0,null,7.0,4.0,null,8.0,7.0,2.0,7.0,null,null,null,4.0,null,7.0,7.0,null,null,4.0,9.0,null,null,null,8.0,16.0,6.0,7.0,null,5.0,null,6.0,null,4.0,null,7.0,2.0,9.0,null,5.0,4.0,1.0,7.0,7.0,null,8.0,3.0,null,null,7.0,1.0,null,10.0,1.0,5.0,3.0,null,4.0,11.0,null,null,12.0,5.0,null,11.0,null,null,null,11.0,5.0,6.0,5.0,2.0,10.0,null,5.0,3.0,null,null,3.0,null,2.0,11.0,8.0,17.0,5.0,10.0,null,4.0,6.0,11.0,8.0,8.0,4.0,null,null,null,null,6.0,null,14.0,6.0,null,2.0,6.0,4.0,8.0,1.0,5.0,null,9.0,7.0,null,null,null,null,6.0,null,null,null,null,1.0,null,4.0,4.0,5.0,null,6.0,null,6.0,2.0,5.0,6.0,null,null,12.0,null,12.0,null,2.0,null,7.0,1.0,11.0,null,5.0,8.0,null,2.0,2.0,null,null,9.0,null,null,null,1.0,null,4.0,null,null,null,14.0,null,5.0,7.0,2.0,6.0,null,5.0,null,2.0,8.0,null,null,null,9.0,9.0,null,7.0,5.0,null,7.0,4.0,3.0,null,null,null,null,null,7.0,6.0,null,null,4.0,10.0,null,2.0,null,6.0,7.0,6.0,null,10.0,null,null,1.0,null,3.0,null,5.0,5.0,null,null,6.0,6.0,4.0,3.0,11.0,2.0,null,null,1.0,3.0,null,2.0,null,6.0,4.0,null,null,null,null,7.0,2.0,6.0,6.0,null,10.0,6.0,3.0,5.0,4.0,5.0,1.0,null,4.0,null,8.0,6.0,null,5.0,4.0,null,null,null,20.0,11.0,null,3.0,null,9.0,null,15.0,11.0,8.0,6.0,2.0,5.0,11.0,null,4.0,4.0,6.0,4.0,null,2.0,null,7.0,null,null,null,5.0,null,null,3.0,17.0,null,null,6.0,null,null,null,16.0,null,13.0,7.0,3.0,null,2.0,null,null,2.0,4.0,null,null,null,2.0,null,null,11.0,null,11.0,3.0,5.0,null,8.0,null,null,3.0,null,6.0,null,null,7.0,null,null,null,1.0,null,4.0,17.0,2.0,6.0,10.0,null,null,null,2.0,6.0,null,null,8.0,null,null,null,10.0,null,1.0,5.0,7.0,null,6.0,null,null,null,1.0,null,null,null,8.0,6.0,null,null,7.0,8.0,2.0,7.0,null,null,9.0,null,1.0,null,5.0,null,null,null,2.0,1.0,12.0,2.0,8.0,7.0,null,null,11.0,4.0,null,null,3.0,8.0,4.0,12.0,5.0,12.0,24.0,null,null,13.0,8.0,3.0,7.0,null,7.0,null,null,null,19.0,null,null,null,9.0,null,5.0,null,8.0,null,5.0,null,2.0,11.0,14.0,2.0,null,4.0,19.0,null,4.0,null,null,3.0,5.0,null,null,8.0,2.0,4.0,null,null,5.0,14.0,9.0,15.0,6.0,7.0,null,null,null,null,9.0,null,9.0,4.0,null,6.0,4.0,3.0,2.0,5.0,5.0,6.0,11.0,null,9.0,null,5.0,null,null,null,9.0,6.0,4.0,null,4.0,null,7.0,4.0,null,null,null,null,null,null,3.0,4.0,19.0,2.0,null,null,2.0,9.0,8.0,null,null,null,4.0,null,null,10.0,2.0,null,null,null,2.0,10.0,null,1.0,8.0,11.0,null,3.0,10.0,3.0,1.0,9.0,4.0,10.0,8.0,2.0,null,null,null,null,null,null,null,null,6.0,7.0,4.0,null,1.0,null,13.0,null,7.0,null,null,3.0,null,8.0,3.0,1.0,null,null,null,null,null,8.0,1.0,null,1.0,9.0,7.0,6.0,null,5.0,null,7.0,7.0,null,6.0,6.0,10.0,8.0,7.0,null,null,null,null,null,null,null,3.0,null,null,null,null,null,5.0,null,null,null,null,null,6.0,4.0,5.0,null,6.0,null,17.0,null,null,null,null,null,null,null,null,null,3.0,6.0,2.0,5.0,3.0,8.0,6.0,null,null,9.0,null,10.0,null,null,11.0,3.0,9.0,null,null,6.0,null,null,8.0,12.0,null,null,3.0,3.0,null,4.0,null,null,null,10.0,null,null,1.0,null,null,4.0,null,9.0,6.0,2.0,null,5.0,null,null,null,null,null,3.0,null,1.0,8.0,2.0,7.0,null,null,7.0,null,3.0,null,3.0,8.0,3.0,null,null,9.0,null,2.0,null,null,null,null,null,4.0,null,null,6.0,null,8.0,2.0,7.0,null,null,11.0,5.0,11.0,3.0,4.0,8.0,6.0,10.0,8.0,null,null,null,7.0,null,8.0,6.0,3.0,null,18.0,null,7.0,null,null,null,null,7.0,null,2.0,8.0,null,1.0,4.0,12.0,null,null,null,null,null,14.0,null,null,4.0,12.0,null,4.0,4.0,6.0,null,8.0,null,null,null,8.0,null,null,8.0,null,3.0,null,null,5.0,19.0,null,3.0,null,null,1.0,null,null,null,null,null,17.0,null,null,null,null,9.0,5.0,2.0,null,3.0,null,2.0,6.0,null,null,null,null,5.0,2.0,11.0,9.0,null,4.0,null,5.0,null,null,null,null,null,null,null,5.0,7.0,5.0,null,8.0,null,null,null,null,null,null,null,8.0,null,null,null,4.0,null,19.0,16.0,6.0,null,null,null,null,null,null,null,null,null,3.0,null,null,3.0,null,3.0,null,null,null,null,null,5.0,4.0,12.0,null,null,5.0,null,null,null,null,null,null,null,null,null,8.0,4.0,null,null,17.0,null,null,9.0,4.0,null,null,null,4.0,null,null,7.0,20.0,null,14.0,null,null,null,null,10.0,null,null,null,null,null,1.0,5.0,null,null,null,null,9.0,20.0,null,6.0,null,null,1.0,7.0,null,null,null,8.0,11.0,null,null,9.0,14.0,null,null,null,null,null,9.0,null,null,3.0,null,null,null,5.0,null,4.0,3.0,null,8.0,null,2.0,null,null,1.0,null,null,3.0,8.0,null,null,null,null,null,9.0,null,4.0,null,null,null,null,null,null,13.0,9.0,2.0,null,5.0,null,null,null,null,3.0,null,6.0,null,null,2.0,8.0,15.0,4.0,null,6.0,null,null,5.0,null,null,null,9.0,null,null,21.0,4.0,null,null,null,7.0,15.0,null,null,null,null,null,null,1.0,null,null,4.0,4.0,null,null,null,null,15.0,null,null,null,null,10.0,null,null,null,10.0,null,null,9.0,null,null,11.0,null,null,12.0,16.0,8.0,null,null,null,null,null,7.0,null,null,6.0,null,null,6.0,6.0,3.0,null,null,null,1.0,13.0,1.0,null,6.0,11.0,null,null,null,5.0,10.0,null,null,null,5.0,null,null,null,null,null,null,null,8.0,null,null,null,null,null,null,null,null,7.0,null,14.0,null,10.0,null,null,null,null,14.0,null,null,null,null,null,5.0,null,null,null,4.0,null,null,null,11.0,null,2.0,null,null,null,null,null,null,3.0,null,null,5.0,13.0,null,null,null,12.0,10.0,18.0,null,null,null,null,null,null,null,null,null,null,9.0,7.0,6.0,null,null,null,null,null,null,15.0,null,null,8.0,null,null,null,null,null,4.0,16.0,null,null,null,13.0,12.0,null,null,null,null,null,null,null,null,null,7.0,null,null,null,null,null,null,4.0,5.0,null,null,null,null,null,null,null,13.0,15.0,null,null,19.0,null,13.0,null,null,13.0,null,null,null,13.0,null,null,null,4.0,null,null,null,null,null,null,null,null,null,null,null,12.0,5.0,null,null,2.0,null,null,null,null,null,null,4.0,null,null,null,null,null,null,12.0,null,null,null,null,null,6.0,null,null,null,null,null,null,3.0,2.0,null,null,null,null,null,null,null,null,null,null,null,null,null,null,null,null,null,4.0,null,null,null,null,null,null,null,null,null,null,null,null,null,4.0,null,null,6.0,null,21.0,null,null,null,4.0,null,null,null,null,null,8.0,15.0,null,null,null,null,null,null,7.0,null,null,8.0,null,null,null,null,null,11.0,null,null,null,28.0,null,null,null,null,null,null,null,7.0,null,null,null,null,6.0,10.0,null,null,null,null,null,null,6.0,null,null,null,null,null,8.0,null,null,null,null,null,null,null,null,null,null,null,null,null,null,null,null,null,null,null,null,null,21.0,null,2.0,null,null,10.0,null,null,null,null,7.0,null,null,8.0,null,null,null,null,null,null,null,null,null,9.0,null,null,null,null,null,null,null,8.0,null,null,null,13.0,null,null,null,25.0,null,null,null,null,null,null,null,null,null,null,null,null,null,null,null,null,null,null,null,null,null,null,7.0,null,null,null,3.0,null,null,null,null,null,null,null,null,null,null,null,null,null,null,null,15.0,null,null,null,null,null,null,1.0,null,null,null,null,null,null,null,null,17.0,null,null,null,null,4.0,null,null,null,null,null,null,null,null,2.0,null,null,13.0,1.0,null,null,null,null,null,17.0,null,null,null,null,null,null,null,null,3.0,null,null,null,10.0,null,null,null,null,null,null,null,null,null,null,null,null,null,null,18.0,2.0,4.0,null,null,null,null,null,null,null,null,null,null,null,null,3.0,null,null,null,null,null,null,null,null,null,null,null,null,null,null,null,null,null,8.0,null,null,null,null,null,10.0,null,null,null,null,null,null,null,null,null,7.0,null,null,null,null,null,null,null,null,null,null,null,null,null,9.0,null,null,null,null,null,null,null,null,null,null,10.0,null,null,null,null,null,null,null,null,null,null,null,null,null,null,null,null,null,null,null,null,null,null,null,null,null,null,null,8.0,null,null,null,null,null,null,null,null,null,null,null,null,null,null,null,3.0,null,null,null,6.0,null,null,null,null,null,null,null,null,null,null,null,null,null,null,null,null,null,null,null,null,null,null,null,null,null,5.0,null,null,null,null,null,null,null,null,null,null,null,null,null,null,null,null,null,null,11.0,null,null,7.0,null,null,null,null,null,null,null,null,null,null,null,null,null,null,null,null,null,null,null,null,null,null,null,null,null,null,null,null,null,null,null,null,null,22.0,null,null,null,null,null,null,null,null,null,null,null,null,null,null,null,null,null,null,null,null,null,null,null,null,null,null,null,null,null,null,null,null,null,null,null,null,null,null,null,null,null,null,null,null,null,null,null,null,null,null,null,null,null,null,null,10.0,null,null,null,null,null,null,null,null,null,null,null,null,null,null,null,null,null,null,null,null,null,null,null,null,null,null,null,null,null,null,null,null,null,null,null,null,null,null,null,null,null,null,null,null,null,null,null,null,null,null,null,null,null,null,null,null,null,null,null,null,null,null,null,null,null,null,null,null,null,null,null,null,null,null,null,null,null,null,null,null,null,null,null,null,null,null,null,null,null,null,null,null,null,null,null,null,null,null,null,null,null,null,null,null,null,null,null,null,null,null,null,null,null,null,null,null,null,null,null,null,null,null,null,null,null,null,null,null,null,null,null,null,null,null,null,null,null,null,null,null,null,null,null,null,null,null,null,null,null,null,null,null,null,null,null,null,null,null,null],\"type\":\"scatter\"}],                        {\"template\":{\"data\":{\"histogram2dcontour\":[{\"type\":\"histogram2dcontour\",\"colorbar\":{\"outlinewidth\":0,\"ticks\":\"\"},\"colorscale\":[[0.0,\"#0d0887\"],[0.1111111111111111,\"#46039f\"],[0.2222222222222222,\"#7201a8\"],[0.3333333333333333,\"#9c179e\"],[0.4444444444444444,\"#bd3786\"],[0.5555555555555556,\"#d8576b\"],[0.6666666666666666,\"#ed7953\"],[0.7777777777777778,\"#fb9f3a\"],[0.8888888888888888,\"#fdca26\"],[1.0,\"#f0f921\"]]}],\"choropleth\":[{\"type\":\"choropleth\",\"colorbar\":{\"outlinewidth\":0,\"ticks\":\"\"}}],\"histogram2d\":[{\"type\":\"histogram2d\",\"colorbar\":{\"outlinewidth\":0,\"ticks\":\"\"},\"colorscale\":[[0.0,\"#0d0887\"],[0.1111111111111111,\"#46039f\"],[0.2222222222222222,\"#7201a8\"],[0.3333333333333333,\"#9c179e\"],[0.4444444444444444,\"#bd3786\"],[0.5555555555555556,\"#d8576b\"],[0.6666666666666666,\"#ed7953\"],[0.7777777777777778,\"#fb9f3a\"],[0.8888888888888888,\"#fdca26\"],[1.0,\"#f0f921\"]]}],\"heatmap\":[{\"type\":\"heatmap\",\"colorbar\":{\"outlinewidth\":0,\"ticks\":\"\"},\"colorscale\":[[0.0,\"#0d0887\"],[0.1111111111111111,\"#46039f\"],[0.2222222222222222,\"#7201a8\"],[0.3333333333333333,\"#9c179e\"],[0.4444444444444444,\"#bd3786\"],[0.5555555555555556,\"#d8576b\"],[0.6666666666666666,\"#ed7953\"],[0.7777777777777778,\"#fb9f3a\"],[0.8888888888888888,\"#fdca26\"],[1.0,\"#f0f921\"]]}],\"heatmapgl\":[{\"type\":\"heatmapgl\",\"colorbar\":{\"outlinewidth\":0,\"ticks\":\"\"},\"colorscale\":[[0.0,\"#0d0887\"],[0.1111111111111111,\"#46039f\"],[0.2222222222222222,\"#7201a8\"],[0.3333333333333333,\"#9c179e\"],[0.4444444444444444,\"#bd3786\"],[0.5555555555555556,\"#d8576b\"],[0.6666666666666666,\"#ed7953\"],[0.7777777777777778,\"#fb9f3a\"],[0.8888888888888888,\"#fdca26\"],[1.0,\"#f0f921\"]]}],\"contourcarpet\":[{\"type\":\"contourcarpet\",\"colorbar\":{\"outlinewidth\":0,\"ticks\":\"\"}}],\"contour\":[{\"type\":\"contour\",\"colorbar\":{\"outlinewidth\":0,\"ticks\":\"\"},\"colorscale\":[[0.0,\"#0d0887\"],[0.1111111111111111,\"#46039f\"],[0.2222222222222222,\"#7201a8\"],[0.3333333333333333,\"#9c179e\"],[0.4444444444444444,\"#bd3786\"],[0.5555555555555556,\"#d8576b\"],[0.6666666666666666,\"#ed7953\"],[0.7777777777777778,\"#fb9f3a\"],[0.8888888888888888,\"#fdca26\"],[1.0,\"#f0f921\"]]}],\"surface\":[{\"type\":\"surface\",\"colorbar\":{\"outlinewidth\":0,\"ticks\":\"\"},\"colorscale\":[[0.0,\"#0d0887\"],[0.1111111111111111,\"#46039f\"],[0.2222222222222222,\"#7201a8\"],[0.3333333333333333,\"#9c179e\"],[0.4444444444444444,\"#bd3786\"],[0.5555555555555556,\"#d8576b\"],[0.6666666666666666,\"#ed7953\"],[0.7777777777777778,\"#fb9f3a\"],[0.8888888888888888,\"#fdca26\"],[1.0,\"#f0f921\"]]}],\"mesh3d\":[{\"type\":\"mesh3d\",\"colorbar\":{\"outlinewidth\":0,\"ticks\":\"\"}}],\"scatter\":[{\"fillpattern\":{\"fillmode\":\"overlay\",\"size\":10,\"solidity\":0.2},\"type\":\"scatter\"}],\"parcoords\":[{\"type\":\"parcoords\",\"line\":{\"colorbar\":{\"outlinewidth\":0,\"ticks\":\"\"}}}],\"scatterpolargl\":[{\"type\":\"scatterpolargl\",\"marker\":{\"colorbar\":{\"outlinewidth\":0,\"ticks\":\"\"}}}],\"bar\":[{\"error_x\":{\"color\":\"#2a3f5f\"},\"error_y\":{\"color\":\"#2a3f5f\"},\"marker\":{\"line\":{\"color\":\"#E5ECF6\",\"width\":0.5},\"pattern\":{\"fillmode\":\"overlay\",\"size\":10,\"solidity\":0.2}},\"type\":\"bar\"}],\"scattergeo\":[{\"type\":\"scattergeo\",\"marker\":{\"colorbar\":{\"outlinewidth\":0,\"ticks\":\"\"}}}],\"scatterpolar\":[{\"type\":\"scatterpolar\",\"marker\":{\"colorbar\":{\"outlinewidth\":0,\"ticks\":\"\"}}}],\"histogram\":[{\"marker\":{\"pattern\":{\"fillmode\":\"overlay\",\"size\":10,\"solidity\":0.2}},\"type\":\"histogram\"}],\"scattergl\":[{\"type\":\"scattergl\",\"marker\":{\"colorbar\":{\"outlinewidth\":0,\"ticks\":\"\"}}}],\"scatter3d\":[{\"type\":\"scatter3d\",\"line\":{\"colorbar\":{\"outlinewidth\":0,\"ticks\":\"\"}},\"marker\":{\"colorbar\":{\"outlinewidth\":0,\"ticks\":\"\"}}}],\"scattermapbox\":[{\"type\":\"scattermapbox\",\"marker\":{\"colorbar\":{\"outlinewidth\":0,\"ticks\":\"\"}}}],\"scatterternary\":[{\"type\":\"scatterternary\",\"marker\":{\"colorbar\":{\"outlinewidth\":0,\"ticks\":\"\"}}}],\"scattercarpet\":[{\"type\":\"scattercarpet\",\"marker\":{\"colorbar\":{\"outlinewidth\":0,\"ticks\":\"\"}}}],\"carpet\":[{\"aaxis\":{\"endlinecolor\":\"#2a3f5f\",\"gridcolor\":\"white\",\"linecolor\":\"white\",\"minorgridcolor\":\"white\",\"startlinecolor\":\"#2a3f5f\"},\"baxis\":{\"endlinecolor\":\"#2a3f5f\",\"gridcolor\":\"white\",\"linecolor\":\"white\",\"minorgridcolor\":\"white\",\"startlinecolor\":\"#2a3f5f\"},\"type\":\"carpet\"}],\"table\":[{\"cells\":{\"fill\":{\"color\":\"#EBF0F8\"},\"line\":{\"color\":\"white\"}},\"header\":{\"fill\":{\"color\":\"#C8D4E3\"},\"line\":{\"color\":\"white\"}},\"type\":\"table\"}],\"barpolar\":[{\"marker\":{\"line\":{\"color\":\"#E5ECF6\",\"width\":0.5},\"pattern\":{\"fillmode\":\"overlay\",\"size\":10,\"solidity\":0.2}},\"type\":\"barpolar\"}],\"pie\":[{\"automargin\":true,\"type\":\"pie\"}]},\"layout\":{\"autotypenumbers\":\"strict\",\"colorway\":[\"#636efa\",\"#EF553B\",\"#00cc96\",\"#ab63fa\",\"#FFA15A\",\"#19d3f3\",\"#FF6692\",\"#B6E880\",\"#FF97FF\",\"#FECB52\"],\"font\":{\"color\":\"#2a3f5f\"},\"hovermode\":\"closest\",\"hoverlabel\":{\"align\":\"left\"},\"paper_bgcolor\":\"white\",\"plot_bgcolor\":\"#E5ECF6\",\"polar\":{\"bgcolor\":\"#E5ECF6\",\"angularaxis\":{\"gridcolor\":\"white\",\"linecolor\":\"white\",\"ticks\":\"\"},\"radialaxis\":{\"gridcolor\":\"white\",\"linecolor\":\"white\",\"ticks\":\"\"}},\"ternary\":{\"bgcolor\":\"#E5ECF6\",\"aaxis\":{\"gridcolor\":\"white\",\"linecolor\":\"white\",\"ticks\":\"\"},\"baxis\":{\"gridcolor\":\"white\",\"linecolor\":\"white\",\"ticks\":\"\"},\"caxis\":{\"gridcolor\":\"white\",\"linecolor\":\"white\",\"ticks\":\"\"}},\"coloraxis\":{\"colorbar\":{\"outlinewidth\":0,\"ticks\":\"\"}},\"colorscale\":{\"sequential\":[[0.0,\"#0d0887\"],[0.1111111111111111,\"#46039f\"],[0.2222222222222222,\"#7201a8\"],[0.3333333333333333,\"#9c179e\"],[0.4444444444444444,\"#bd3786\"],[0.5555555555555556,\"#d8576b\"],[0.6666666666666666,\"#ed7953\"],[0.7777777777777778,\"#fb9f3a\"],[0.8888888888888888,\"#fdca26\"],[1.0,\"#f0f921\"]],\"sequentialminus\":[[0.0,\"#0d0887\"],[0.1111111111111111,\"#46039f\"],[0.2222222222222222,\"#7201a8\"],[0.3333333333333333,\"#9c179e\"],[0.4444444444444444,\"#bd3786\"],[0.5555555555555556,\"#d8576b\"],[0.6666666666666666,\"#ed7953\"],[0.7777777777777778,\"#fb9f3a\"],[0.8888888888888888,\"#fdca26\"],[1.0,\"#f0f921\"]],\"diverging\":[[0,\"#8e0152\"],[0.1,\"#c51b7d\"],[0.2,\"#de77ae\"],[0.3,\"#f1b6da\"],[0.4,\"#fde0ef\"],[0.5,\"#f7f7f7\"],[0.6,\"#e6f5d0\"],[0.7,\"#b8e186\"],[0.8,\"#7fbc41\"],[0.9,\"#4d9221\"],[1,\"#276419\"]]},\"xaxis\":{\"gridcolor\":\"white\",\"linecolor\":\"white\",\"ticks\":\"\",\"title\":{\"standoff\":15},\"zerolinecolor\":\"white\",\"automargin\":true,\"zerolinewidth\":2},\"yaxis\":{\"gridcolor\":\"white\",\"linecolor\":\"white\",\"ticks\":\"\",\"title\":{\"standoff\":15},\"zerolinecolor\":\"white\",\"automargin\":true,\"zerolinewidth\":2},\"scene\":{\"xaxis\":{\"backgroundcolor\":\"#E5ECF6\",\"gridcolor\":\"white\",\"linecolor\":\"white\",\"showbackground\":true,\"ticks\":\"\",\"zerolinecolor\":\"white\",\"gridwidth\":2},\"yaxis\":{\"backgroundcolor\":\"#E5ECF6\",\"gridcolor\":\"white\",\"linecolor\":\"white\",\"showbackground\":true,\"ticks\":\"\",\"zerolinecolor\":\"white\",\"gridwidth\":2},\"zaxis\":{\"backgroundcolor\":\"#E5ECF6\",\"gridcolor\":\"white\",\"linecolor\":\"white\",\"showbackground\":true,\"ticks\":\"\",\"zerolinecolor\":\"white\",\"gridwidth\":2}},\"shapedefaults\":{\"line\":{\"color\":\"#2a3f5f\"}},\"annotationdefaults\":{\"arrowcolor\":\"#2a3f5f\",\"arrowhead\":0,\"arrowwidth\":1},\"geo\":{\"bgcolor\":\"white\",\"landcolor\":\"#E5ECF6\",\"subunitcolor\":\"white\",\"showland\":true,\"showlakes\":true,\"lakecolor\":\"white\"},\"title\":{\"x\":0.05},\"mapbox\":{\"style\":\"light\"}}},\"title\":{\"text\":\"Fighters: Wins by Submission vs. Wins by Knockout\",\"x\":0.5},\"xaxis\":{\"title\":{\"text\":\"Wins by Submission\"},\"showgrid\":false},\"yaxis\":{\"title\":{\"text\":\"Wins by Knockout\"},\"showgrid\":false},\"hovermode\":\"closest\",\"plot_bgcolor\":\"#FFF6F4\"},                        {\"responsive\": true}                    ).then(function(){\n",
              "                            \n",
              "var gd = document.getElementById('39ec8659-8d79-4b3d-b962-9cede97263ed');\n",
              "var x = new MutationObserver(function (mutations, observer) {{\n",
              "        var display = window.getComputedStyle(gd).display;\n",
              "        if (!display || display === 'none') {{\n",
              "            console.log([gd, 'removed!']);\n",
              "            Plotly.purge(gd);\n",
              "            observer.disconnect();\n",
              "        }}\n",
              "}});\n",
              "\n",
              "// Listen for the removal of the full notebook cells\n",
              "var notebookContainer = gd.closest('#notebook-container');\n",
              "if (notebookContainer) {{\n",
              "    x.observe(notebookContainer, {childList: true});\n",
              "}}\n",
              "\n",
              "// Listen for the clearing of the current output cell\n",
              "var outputEl = gd.closest('.output');\n",
              "if (outputEl) {{\n",
              "    x.observe(outputEl, {childList: true});\n",
              "}}\n",
              "\n",
              "                        })                };                            </script>        </div>\n",
              "</body>\n",
              "</html>"
            ]
          },
          "metadata": {}
        }
      ]
    },
    {
      "cell_type": "markdown",
      "source": [
        "---"
      ],
      "metadata": {
        "id": "tYHwFohb4vzK"
      }
    },
    {
      "cell_type": "markdown",
      "source": [
        "## Best Fighters of all time.\n",
        "\n",
        "This metric is calculated by dividing total number of wins with total number of fights.\n",
        "\n",
        "\n",
        "\n",
        "```\n",
        "fighter_Score = wins/Total_Fights\n",
        "```\n",
        "\n",
        "\n",
        "\n",
        "*If the score is 1 means the fighter is undefeated.*\n",
        "\n",
        "**NOTE: Fighters Included only with more than 20 Fights.**\n",
        "\n",
        "\n",
        "---\n",
        "\n",
        "\n",
        "\n",
        "\n",
        "\n"
      ],
      "metadata": {
        "id": "8w6zE6WmfTZB"
      }
    },
    {
      "cell_type": "code",
      "source": [
        "Best_fighters = df.sort_values(['Fighter_score','Total_fights'],ascending = False).loc[:,['Name',\"Fighter_score\",'Total_fights','Division Title','country']]\n",
        "Best_fighters = Best_fighters[Best_fighters['Total_fights'] > 20][:100]"
      ],
      "metadata": {
        "id": "RZPjBFnKf7Ts"
      },
      "execution_count": 24,
      "outputs": []
    },
    {
      "cell_type": "code",
      "source": [
        "Best_fighters['Index'] = range(1, len(Best_fighters) + 1)\n",
        "\n",
        "fig = go.Figure(data=[go.Table(\n",
        "    header=dict(values=list(['Index', 'Name', 'Fighter_score', 'Total_fights', 'Division', 'Country']),\n",
        "                fill_color='#F7E6C4',\n",
        "                align='left'),\n",
        "    cells=dict(values=[Best_fighters.Index, Best_fighters.Name, Best_fighters.Fighter_score,\n",
        "                       Best_fighters.Total_fights, Best_fighters['Division Title'], Best_fighters['country']],\n",
        "               fill_color='#FFF4F4',\n",
        "               align='left'))\n",
        "])\n",
        "\n",
        "fig.update_layout(\n",
        "    title=dict(\n",
        "        text=\"<b>Best Fighters</b>\",\n",
        "        font=dict(size=18, family=\"Arial\", color=\"black\"),\n",
        "        x=0.5\n",
        "    )\n",
        ")\n",
        "\n",
        "fig.show()\n"
      ],
      "metadata": {
        "colab": {
          "base_uri": "https://localhost:8080/",
          "height": 542
        },
        "id": "TDqtnQ1EmvjO",
        "outputId": "edc0f6ef-7cf3-49ca-e39b-d06208bb7c9e"
      },
      "execution_count": 25,
      "outputs": [
        {
          "output_type": "display_data",
          "data": {
            "text/html": [
              "<html>\n",
              "<head><meta charset=\"utf-8\" /></head>\n",
              "<body>\n",
              "    <div>            <script src=\"https://cdnjs.cloudflare.com/ajax/libs/mathjax/2.7.5/MathJax.js?config=TeX-AMS-MML_SVG\"></script><script type=\"text/javascript\">if (window.MathJax && window.MathJax.Hub && window.MathJax.Hub.Config) {window.MathJax.Hub.Config({SVG: {font: \"STIX-Web\"}});}</script>                <script type=\"text/javascript\">window.PlotlyConfig = {MathJaxConfig: 'local'};</script>\n",
              "        <script src=\"https://cdn.plot.ly/plotly-2.18.2.min.js\"></script>                <div id=\"96808f9c-1d70-4f4c-99a4-aa0b9374620e\" class=\"plotly-graph-div\" style=\"height:525px; width:100%;\"></div>            <script type=\"text/javascript\">                                    window.PLOTLYENV=window.PLOTLYENV || {};                                    if (document.getElementById(\"96808f9c-1d70-4f4c-99a4-aa0b9374620e\")) {                    Plotly.newPlot(                        \"96808f9c-1d70-4f4c-99a4-aa0b9374620e\",                        [{\"cells\":{\"align\":\"left\",\"fill\":{\"color\":\"#FFF4F4\"},\"values\":[[1,2,3,4,5,6,7,8,9,10,11,12,13,14,15,16,17,18,19,20,21,22,23,24,25,26,27,28,29,30,31,32,33,34,35,36,37,38,39,40,41,42,43,44,45,46,47,48,49,50,51,52,53,54,55,56,57,58,59,60,61,62,63,64,65,66,67,68,69,70,71,72,73,74,75,76,77,78,79,80,81,82,83,84,85,86,87,88,89,90,91,92,93,94,95,96,97,98,99,100],[\"Khabib Nurmagomedov\",\"Jon Jones\",\"Islam Makhachev\",\"Khusein Askhabov\",\"Rinat Fakhretdinov\",\"Georges St-Pierre\",\"Alexander Volkanovski\",\"Damir Ismagulov\",\"Israel Adesanya\",\"Mateusz Gamrot\",\"Cris Cyborg\",\"Kristian Rothaermel\",\"Wang Guan\",\"Aleksei Kunchenko\",\"Rashid Magomedov\",\"Grant Dawson\",\"Arnold Allen\",\"Dricus Du Plessis\",\"Taila Santos\",\"Jailton Almeida\",\"Ben Askren\",\"Maiquel Falcao\",\"James Lee\",\"Assuerio Silva\",\"Miguel Angel Torres\",\"Aljamain Sterling\",\"Zhang Weili\",\"Belal Muhammad\",\"Sean Sherk\",\"Daniel Cormier\",\"Travis Wiuff\",\"Ji Prochzka\",\"Leon Edwards\",\"Andrei Semenov\",\"Demetrious Johnson\",\"Brock Larson\",\"Paddy Pimblett\",\"Kamaru Usman\",\"Jason Reinhardt\",\"Michel Prazeres\",\"Tim Sylvia\",\"Bobby Hoffman\",\"Arman Tsarukyan\",\"Ismael Bonfim\",\"Joel lvarez\",\"Chas Skelly\",\"Dileno Lopes\",\"Muslim Salikhov\",\"Justin Gaethje\",\"Amar Suloev\",\"Rustam Khabilov\",\"Dominick Cruz\",\"Cristian Quionez\",\"Timur Valiev\",\"Virna Jandiroba\",\"Josh Emmett\",\"Richard Crunkilton Jr.\",\"Ronys Torres\",\"Douglas Silva de Andrade\",\"Valentina Shevchenko\",\"Roger Huerta\",\"Gegard Mousasi\",\"Yi Zha\",\"Alex da Silva\",\"Deiveson Figueiredo\",\"Sean Strickland\",\"Ivan Jorge\",\"Matt Hughes\",\"Dave Menne\",\"Abus Magomedov\",\"Alexandre Pantoja\",\"Sean Loeffler\",\"Ihor Potieria\",\"Ricky Simon\",\"Stipe Miocic\",\"Eddie Alvarez\",\"Jeff Monson\",\"Ismail Naurdiev\",\"Kevin Souza\",\"Andre Muniz\",\"Jimmie Rivera\",\"Benson Henderson\",\"Mairbek Taisumov\",\"Jon Fitch\",\"Rory MacDonald\",\"Mark Striegl\",\"Will Brooks\",\"Quinn Mulhern\",\"Paul Bradley\",\"Diego Nunes\",\"Terry Martin\",\"Tiequan Zhang\",\"Julio Paulino\",\"Nate Quarry\",\"Thomas Almeida\",\"Beneil Dariush\",\"Amanda Nunes\",\"Ryan Bader\",\"Dong Hyun Kim\",\"Soa Palelei\"],[1.0,0.9642857142857143,0.96,0.9583333333333334,0.9523809523809523,0.9285714285714286,0.9259259259259259,0.9230769230769231,0.9230769230769231,0.9166666666666666,0.9130434782608695,0.9090909090909091,0.9090909090909091,0.9090909090909091,0.9090909090909091,0.9047619047619048,0.9047619047619048,0.9047619047619048,0.9047619047619048,0.9047619047619048,0.9047619047619048,0.896551724137931,0.8928571428571429,0.8888888888888888,0.8863636363636364,0.8846153846153846,0.8846153846153846,0.8846153846153846,0.8837209302325582,0.88,0.88,0.8787878787878788,0.875,0.875,0.8709677419354839,0.8709677419354839,0.8695652173913043,0.8695652173913043,0.8695652173913043,0.8666666666666667,0.8666666666666667,0.8666666666666667,0.8636363636363636,0.8636363636363636,0.8636363636363636,0.8636363636363636,0.8636363636363636,0.8636363636363636,0.8620689655172413,0.8571428571428571,0.8571428571428571,0.8571428571428571,0.8571428571428571,0.8571428571428571,0.8571428571428571,0.8571428571428571,0.8571428571428571,0.8571428571428571,0.8529411764705882,0.8518518518518519,0.8461538461538461,0.84,0.84,0.84,0.84,0.8387096774193549,0.8387096774193549,0.8363636363636363,0.8333333333333334,0.8333333333333334,0.8333333333333334,0.8333333333333334,0.8333333333333334,0.8333333333333334,0.8333333333333334,0.8285714285714286,0.8275862068965517,0.8260869565217391,0.8260869565217391,0.8214285714285714,0.8214285714285714,0.8214285714285714,0.8181818181818182,0.8181818181818182,0.8181818181818182,0.8181818181818182,0.8181818181818182,0.8181818181818182,0.8181818181818182,0.8181818181818182,0.8181818181818182,0.8181818181818182,0.8181818181818182,0.8181818181818182,0.8148148148148148,0.8148148148148148,0.8148148148148148,0.8148148148148148,0.8148148148148148,0.8148148148148148],[29.0,28.0,25.0,24.0,21.0,28.0,27.0,26.0,26.0,24.0,23.0,44.0,22.0,22.0,22.0,21.0,21.0,21.0,21.0,21.0,21.0,29.0,28.0,36.0,44.0,26.0,26.0,26.0,43.0,25.0,25.0,33.0,24.0,24.0,31.0,31.0,23.0,23.0,23.0,30.0,30.0,30.0,22.0,22.0,22.0,22.0,22.0,22.0,29.0,42.0,28.0,28.0,21.0,21.0,21.0,21.0,21.0,21.0,34.0,27.0,26.0,50.0,25.0,25.0,25.0,31.0,31.0,55.0,42.0,30.0,30.0,30.0,24.0,24.0,24.0,35.0,29.0,23.0,23.0,28.0,28.0,28.0,33.0,33.0,22.0,22.0,22.0,22.0,22.0,22.0,22.0,22.0,22.0,22.0,27.0,27.0,27.0,27.0,27.0,27.0],[\"Lightweight\",\"Heavyweight\",\"Lightweight\",\"Featherweight\",\"Welterweight\",\"Middleweight\",\"Featherweight\",\"Lightweight\",\"Middleweight\",\"Lightweight\",\"Women's Featherweight\",\"Light Heavyweight\",\"Featherweight\",\"Welterweight\",\"Lightweight\",\"Lightweight\",\"Featherweight\",\"Middleweight\",\"Women's Flyweight\",\"Heavyweight\",\"Welterweight\",\"Middleweight\",\"Light Heavyweight\",\"Heavyweight\",\"Bantamweight\",\"Bantamweight\",\"Women's Strawweight\",\"Welterweight\",\"Lightweight\",\"Heavyweight\",\"Light Heavyweight\",\"Light Heavyweight\",\"Welterweight\",\"Middleweight\",\"Flyweight\",\"Welterweight\",\"Lightweight\",\"Welterweight\",\"Bantamweight\",\"Welterweight\",\"Heavyweight\",\"Heavyweight\",\"Lightweight\",\"Lightweight\",\"Lightweight\",\"Featherweight\",\"Bantamweight\",\"Welterweight\",\"Lightweight\",\"Middleweight\",\"Welterweight\",\"Bantamweight\",\"Bantamweight\",\"Bantamweight\",\"Women's Strawweight\",\"Featherweight\",\"Lightweight\",\"Lightweight\",\"Bantamweight\",\"Women's Flyweight\",\"Lightweight\",\"Middleweight\",\"Featherweight\",\"Lightweight\",\"Flyweight\",\"Light Heavyweight\",\"Lightweight\",\"Welterweight\",\"Welterweight\",\"Middleweight\",\"Flyweight\",\"Middleweight\",\"Light Heavyweight\",\"Bantamweight\",\"Heavyweight\",\"Lightweight\",\"Heavyweight\",\"Welterweight\",\"Featherweight\",\"Middleweight\",\"Bantamweight\",\"Welterweight\",\"Lightweight\",\"Welterweight\",\"Welterweight\",\"Featherweight\",\"Lightweight\",\"Lightweight\",\"Welterweight\",\"Featherweight\",\"Middleweight\",\"Lightweight\",\"Welterweight\",\"Middleweight\",\"Bantamweight\",\"Lightweight\",\"Women's Bantamweight\",\"Light Heavyweight\",\"Welterweight\",\"Heavyweight\"],[\"Russia\",\"United States\",\"Russia\",\"Russia\",\"Russia\",\"Canada\",\"Australia\",\"Russia\",\"Nigeria\",\"Poland\",\"Brazil\",\"United States\",\"China\",\"Russia\",\"Russia\",\"United States\",\"United Kingdom\",\"South Africa\",\"Brazil\",\"Brazil\",\"United States\",\"Brazil\",\"United States\",\"Brazil\",\"United States\",\"United States\",\"China\",\"United States\",\"United States\",\"United States\",\"United States\",\"Czechia\",\"Jamaica\",\"Russia\",\"United States\",\"United States\",\"United Kingdom\",\"Nigeria\",\"United States\",\"Brazil\",\"United States\",\"United States\",\"Georgia\",\"Brazil\",\"Spain\",\"United States\",\"Brazil\",\"Russia\",\"United States\",\"Armenia\",\"Russia\",\"United States\",\"Mexico\",\"Russia\",\"Brazil\",\"United States\",\"United States\",\"Brazil\",\"Brazil\",\"Kyrgyzstan\",\"United States\",\"Iran\",\"China\",\"Brazil\",\"Brazil\",\"United States\",\"Brazil\",\"United States\",\"United States\",\"Russia\",\"Brazil\",\"United States\",\"Ukraine\",\"United States\",\"United States\",\"United States\",\"United States\",\"Austria\",\"United States\",\"Brazil\",\"United States\",\"United States\",\"Russia\",\"United States\",\"Canada\",\"Japan\",\"United States\",\"United States\",null,\"Brazil\",\"United States\",\"Mongolia\",\"United States\",\"United States\",\"Brazil\",\"Iran\",\"Brazil\",\"United States\",\"South Korea\",\"United States\"]]},\"header\":{\"align\":\"left\",\"fill\":{\"color\":\"#F7E6C4\"},\"values\":[\"Index\",\"Name\",\"Fighter_score\",\"Total_fights\",\"Division\",\"Country\"]},\"type\":\"table\"}],                        {\"template\":{\"data\":{\"histogram2dcontour\":[{\"type\":\"histogram2dcontour\",\"colorbar\":{\"outlinewidth\":0,\"ticks\":\"\"},\"colorscale\":[[0.0,\"#0d0887\"],[0.1111111111111111,\"#46039f\"],[0.2222222222222222,\"#7201a8\"],[0.3333333333333333,\"#9c179e\"],[0.4444444444444444,\"#bd3786\"],[0.5555555555555556,\"#d8576b\"],[0.6666666666666666,\"#ed7953\"],[0.7777777777777778,\"#fb9f3a\"],[0.8888888888888888,\"#fdca26\"],[1.0,\"#f0f921\"]]}],\"choropleth\":[{\"type\":\"choropleth\",\"colorbar\":{\"outlinewidth\":0,\"ticks\":\"\"}}],\"histogram2d\":[{\"type\":\"histogram2d\",\"colorbar\":{\"outlinewidth\":0,\"ticks\":\"\"},\"colorscale\":[[0.0,\"#0d0887\"],[0.1111111111111111,\"#46039f\"],[0.2222222222222222,\"#7201a8\"],[0.3333333333333333,\"#9c179e\"],[0.4444444444444444,\"#bd3786\"],[0.5555555555555556,\"#d8576b\"],[0.6666666666666666,\"#ed7953\"],[0.7777777777777778,\"#fb9f3a\"],[0.8888888888888888,\"#fdca26\"],[1.0,\"#f0f921\"]]}],\"heatmap\":[{\"type\":\"heatmap\",\"colorbar\":{\"outlinewidth\":0,\"ticks\":\"\"},\"colorscale\":[[0.0,\"#0d0887\"],[0.1111111111111111,\"#46039f\"],[0.2222222222222222,\"#7201a8\"],[0.3333333333333333,\"#9c179e\"],[0.4444444444444444,\"#bd3786\"],[0.5555555555555556,\"#d8576b\"],[0.6666666666666666,\"#ed7953\"],[0.7777777777777778,\"#fb9f3a\"],[0.8888888888888888,\"#fdca26\"],[1.0,\"#f0f921\"]]}],\"heatmapgl\":[{\"type\":\"heatmapgl\",\"colorbar\":{\"outlinewidth\":0,\"ticks\":\"\"},\"colorscale\":[[0.0,\"#0d0887\"],[0.1111111111111111,\"#46039f\"],[0.2222222222222222,\"#7201a8\"],[0.3333333333333333,\"#9c179e\"],[0.4444444444444444,\"#bd3786\"],[0.5555555555555556,\"#d8576b\"],[0.6666666666666666,\"#ed7953\"],[0.7777777777777778,\"#fb9f3a\"],[0.8888888888888888,\"#fdca26\"],[1.0,\"#f0f921\"]]}],\"contourcarpet\":[{\"type\":\"contourcarpet\",\"colorbar\":{\"outlinewidth\":0,\"ticks\":\"\"}}],\"contour\":[{\"type\":\"contour\",\"colorbar\":{\"outlinewidth\":0,\"ticks\":\"\"},\"colorscale\":[[0.0,\"#0d0887\"],[0.1111111111111111,\"#46039f\"],[0.2222222222222222,\"#7201a8\"],[0.3333333333333333,\"#9c179e\"],[0.4444444444444444,\"#bd3786\"],[0.5555555555555556,\"#d8576b\"],[0.6666666666666666,\"#ed7953\"],[0.7777777777777778,\"#fb9f3a\"],[0.8888888888888888,\"#fdca26\"],[1.0,\"#f0f921\"]]}],\"surface\":[{\"type\":\"surface\",\"colorbar\":{\"outlinewidth\":0,\"ticks\":\"\"},\"colorscale\":[[0.0,\"#0d0887\"],[0.1111111111111111,\"#46039f\"],[0.2222222222222222,\"#7201a8\"],[0.3333333333333333,\"#9c179e\"],[0.4444444444444444,\"#bd3786\"],[0.5555555555555556,\"#d8576b\"],[0.6666666666666666,\"#ed7953\"],[0.7777777777777778,\"#fb9f3a\"],[0.8888888888888888,\"#fdca26\"],[1.0,\"#f0f921\"]]}],\"mesh3d\":[{\"type\":\"mesh3d\",\"colorbar\":{\"outlinewidth\":0,\"ticks\":\"\"}}],\"scatter\":[{\"fillpattern\":{\"fillmode\":\"overlay\",\"size\":10,\"solidity\":0.2},\"type\":\"scatter\"}],\"parcoords\":[{\"type\":\"parcoords\",\"line\":{\"colorbar\":{\"outlinewidth\":0,\"ticks\":\"\"}}}],\"scatterpolargl\":[{\"type\":\"scatterpolargl\",\"marker\":{\"colorbar\":{\"outlinewidth\":0,\"ticks\":\"\"}}}],\"bar\":[{\"error_x\":{\"color\":\"#2a3f5f\"},\"error_y\":{\"color\":\"#2a3f5f\"},\"marker\":{\"line\":{\"color\":\"#E5ECF6\",\"width\":0.5},\"pattern\":{\"fillmode\":\"overlay\",\"size\":10,\"solidity\":0.2}},\"type\":\"bar\"}],\"scattergeo\":[{\"type\":\"scattergeo\",\"marker\":{\"colorbar\":{\"outlinewidth\":0,\"ticks\":\"\"}}}],\"scatterpolar\":[{\"type\":\"scatterpolar\",\"marker\":{\"colorbar\":{\"outlinewidth\":0,\"ticks\":\"\"}}}],\"histogram\":[{\"marker\":{\"pattern\":{\"fillmode\":\"overlay\",\"size\":10,\"solidity\":0.2}},\"type\":\"histogram\"}],\"scattergl\":[{\"type\":\"scattergl\",\"marker\":{\"colorbar\":{\"outlinewidth\":0,\"ticks\":\"\"}}}],\"scatter3d\":[{\"type\":\"scatter3d\",\"line\":{\"colorbar\":{\"outlinewidth\":0,\"ticks\":\"\"}},\"marker\":{\"colorbar\":{\"outlinewidth\":0,\"ticks\":\"\"}}}],\"scattermapbox\":[{\"type\":\"scattermapbox\",\"marker\":{\"colorbar\":{\"outlinewidth\":0,\"ticks\":\"\"}}}],\"scatterternary\":[{\"type\":\"scatterternary\",\"marker\":{\"colorbar\":{\"outlinewidth\":0,\"ticks\":\"\"}}}],\"scattercarpet\":[{\"type\":\"scattercarpet\",\"marker\":{\"colorbar\":{\"outlinewidth\":0,\"ticks\":\"\"}}}],\"carpet\":[{\"aaxis\":{\"endlinecolor\":\"#2a3f5f\",\"gridcolor\":\"white\",\"linecolor\":\"white\",\"minorgridcolor\":\"white\",\"startlinecolor\":\"#2a3f5f\"},\"baxis\":{\"endlinecolor\":\"#2a3f5f\",\"gridcolor\":\"white\",\"linecolor\":\"white\",\"minorgridcolor\":\"white\",\"startlinecolor\":\"#2a3f5f\"},\"type\":\"carpet\"}],\"table\":[{\"cells\":{\"fill\":{\"color\":\"#EBF0F8\"},\"line\":{\"color\":\"white\"}},\"header\":{\"fill\":{\"color\":\"#C8D4E3\"},\"line\":{\"color\":\"white\"}},\"type\":\"table\"}],\"barpolar\":[{\"marker\":{\"line\":{\"color\":\"#E5ECF6\",\"width\":0.5},\"pattern\":{\"fillmode\":\"overlay\",\"size\":10,\"solidity\":0.2}},\"type\":\"barpolar\"}],\"pie\":[{\"automargin\":true,\"type\":\"pie\"}]},\"layout\":{\"autotypenumbers\":\"strict\",\"colorway\":[\"#636efa\",\"#EF553B\",\"#00cc96\",\"#ab63fa\",\"#FFA15A\",\"#19d3f3\",\"#FF6692\",\"#B6E880\",\"#FF97FF\",\"#FECB52\"],\"font\":{\"color\":\"#2a3f5f\"},\"hovermode\":\"closest\",\"hoverlabel\":{\"align\":\"left\"},\"paper_bgcolor\":\"white\",\"plot_bgcolor\":\"#E5ECF6\",\"polar\":{\"bgcolor\":\"#E5ECF6\",\"angularaxis\":{\"gridcolor\":\"white\",\"linecolor\":\"white\",\"ticks\":\"\"},\"radialaxis\":{\"gridcolor\":\"white\",\"linecolor\":\"white\",\"ticks\":\"\"}},\"ternary\":{\"bgcolor\":\"#E5ECF6\",\"aaxis\":{\"gridcolor\":\"white\",\"linecolor\":\"white\",\"ticks\":\"\"},\"baxis\":{\"gridcolor\":\"white\",\"linecolor\":\"white\",\"ticks\":\"\"},\"caxis\":{\"gridcolor\":\"white\",\"linecolor\":\"white\",\"ticks\":\"\"}},\"coloraxis\":{\"colorbar\":{\"outlinewidth\":0,\"ticks\":\"\"}},\"colorscale\":{\"sequential\":[[0.0,\"#0d0887\"],[0.1111111111111111,\"#46039f\"],[0.2222222222222222,\"#7201a8\"],[0.3333333333333333,\"#9c179e\"],[0.4444444444444444,\"#bd3786\"],[0.5555555555555556,\"#d8576b\"],[0.6666666666666666,\"#ed7953\"],[0.7777777777777778,\"#fb9f3a\"],[0.8888888888888888,\"#fdca26\"],[1.0,\"#f0f921\"]],\"sequentialminus\":[[0.0,\"#0d0887\"],[0.1111111111111111,\"#46039f\"],[0.2222222222222222,\"#7201a8\"],[0.3333333333333333,\"#9c179e\"],[0.4444444444444444,\"#bd3786\"],[0.5555555555555556,\"#d8576b\"],[0.6666666666666666,\"#ed7953\"],[0.7777777777777778,\"#fb9f3a\"],[0.8888888888888888,\"#fdca26\"],[1.0,\"#f0f921\"]],\"diverging\":[[0,\"#8e0152\"],[0.1,\"#c51b7d\"],[0.2,\"#de77ae\"],[0.3,\"#f1b6da\"],[0.4,\"#fde0ef\"],[0.5,\"#f7f7f7\"],[0.6,\"#e6f5d0\"],[0.7,\"#b8e186\"],[0.8,\"#7fbc41\"],[0.9,\"#4d9221\"],[1,\"#276419\"]]},\"xaxis\":{\"gridcolor\":\"white\",\"linecolor\":\"white\",\"ticks\":\"\",\"title\":{\"standoff\":15},\"zerolinecolor\":\"white\",\"automargin\":true,\"zerolinewidth\":2},\"yaxis\":{\"gridcolor\":\"white\",\"linecolor\":\"white\",\"ticks\":\"\",\"title\":{\"standoff\":15},\"zerolinecolor\":\"white\",\"automargin\":true,\"zerolinewidth\":2},\"scene\":{\"xaxis\":{\"backgroundcolor\":\"#E5ECF6\",\"gridcolor\":\"white\",\"linecolor\":\"white\",\"showbackground\":true,\"ticks\":\"\",\"zerolinecolor\":\"white\",\"gridwidth\":2},\"yaxis\":{\"backgroundcolor\":\"#E5ECF6\",\"gridcolor\":\"white\",\"linecolor\":\"white\",\"showbackground\":true,\"ticks\":\"\",\"zerolinecolor\":\"white\",\"gridwidth\":2},\"zaxis\":{\"backgroundcolor\":\"#E5ECF6\",\"gridcolor\":\"white\",\"linecolor\":\"white\",\"showbackground\":true,\"ticks\":\"\",\"zerolinecolor\":\"white\",\"gridwidth\":2}},\"shapedefaults\":{\"line\":{\"color\":\"#2a3f5f\"}},\"annotationdefaults\":{\"arrowcolor\":\"#2a3f5f\",\"arrowhead\":0,\"arrowwidth\":1},\"geo\":{\"bgcolor\":\"white\",\"landcolor\":\"#E5ECF6\",\"subunitcolor\":\"white\",\"showland\":true,\"showlakes\":true,\"lakecolor\":\"white\"},\"title\":{\"x\":0.05},\"mapbox\":{\"style\":\"light\"}}},\"title\":{\"font\":{\"size\":18,\"family\":\"Arial\",\"color\":\"black\"},\"text\":\"<b>Best Fighters</b>\",\"x\":0.5}},                        {\"responsive\": true}                    ).then(function(){\n",
              "                            \n",
              "var gd = document.getElementById('96808f9c-1d70-4f4c-99a4-aa0b9374620e');\n",
              "var x = new MutationObserver(function (mutations, observer) {{\n",
              "        var display = window.getComputedStyle(gd).display;\n",
              "        if (!display || display === 'none') {{\n",
              "            console.log([gd, 'removed!']);\n",
              "            Plotly.purge(gd);\n",
              "            observer.disconnect();\n",
              "        }}\n",
              "}});\n",
              "\n",
              "// Listen for the removal of the full notebook cells\n",
              "var notebookContainer = gd.closest('#notebook-container');\n",
              "if (notebookContainer) {{\n",
              "    x.observe(notebookContainer, {childList: true});\n",
              "}}\n",
              "\n",
              "// Listen for the clearing of the current output cell\n",
              "var outputEl = gd.closest('.output');\n",
              "if (outputEl) {{\n",
              "    x.observe(outputEl, {childList: true});\n",
              "}}\n",
              "\n",
              "                        })                };                            </script>        </div>\n",
              "</body>\n",
              "</html>"
            ]
          },
          "metadata": {}
        }
      ]
    },
    {
      "cell_type": "code",
      "source": [
        "y = Best_fighters['Total_fights']\n",
        "x = Best_fighters['Fighter_score']\n",
        "names = Best_fighters['Name']\n",
        "\n",
        "# Create scatter plot\n",
        "fig = go.Figure(data=go.Scatter(\n",
        "    x=x,\n",
        "    y=y,\n",
        "    mode='markers',\n",
        "    text=names,\n",
        "    marker=dict(\n",
        "        size=10,\n",
        "        line=dict(width=1, color='black'),\n",
        "        symbol='circle',\n",
        "        color = '#9336B4'\n",
        "    )\n",
        "))\n",
        "\n",
        "\n",
        "fig.update_layout(\n",
        "    title=\"Best Fighters Of all time.\",\n",
        "    xaxis_title=\"Fighter Score\",\n",
        "    yaxis_title=\"Total Fights\",\n",
        "    title_x=0.5,\n",
        "    plot_bgcolor='#FAEDF0',\n",
        "    yaxis=dict(showgrid=False)\n",
        ")\n",
        "\n",
        "fig.show()"
      ],
      "metadata": {
        "colab": {
          "base_uri": "https://localhost:8080/",
          "height": 542
        },
        "id": "l0xkSmY6hpTf",
        "outputId": "3876427f-6e01-402a-cb9b-61ee80715011"
      },
      "execution_count": 26,
      "outputs": [
        {
          "output_type": "display_data",
          "data": {
            "text/html": [
              "<html>\n",
              "<head><meta charset=\"utf-8\" /></head>\n",
              "<body>\n",
              "    <div>            <script src=\"https://cdnjs.cloudflare.com/ajax/libs/mathjax/2.7.5/MathJax.js?config=TeX-AMS-MML_SVG\"></script><script type=\"text/javascript\">if (window.MathJax && window.MathJax.Hub && window.MathJax.Hub.Config) {window.MathJax.Hub.Config({SVG: {font: \"STIX-Web\"}});}</script>                <script type=\"text/javascript\">window.PlotlyConfig = {MathJaxConfig: 'local'};</script>\n",
              "        <script src=\"https://cdn.plot.ly/plotly-2.18.2.min.js\"></script>                <div id=\"003b9c4a-1916-44dc-8579-c3508eaebbae\" class=\"plotly-graph-div\" style=\"height:525px; width:100%;\"></div>            <script type=\"text/javascript\">                                    window.PLOTLYENV=window.PLOTLYENV || {};                                    if (document.getElementById(\"003b9c4a-1916-44dc-8579-c3508eaebbae\")) {                    Plotly.newPlot(                        \"003b9c4a-1916-44dc-8579-c3508eaebbae\",                        [{\"marker\":{\"color\":\"#9336B4\",\"line\":{\"color\":\"black\",\"width\":1},\"size\":10,\"symbol\":\"circle\"},\"mode\":\"markers\",\"text\":[\"Khabib Nurmagomedov\",\"Jon Jones\",\"Islam Makhachev\",\"Khusein Askhabov\",\"Rinat Fakhretdinov\",\"Georges St-Pierre\",\"Alexander Volkanovski\",\"Damir Ismagulov\",\"Israel Adesanya\",\"Mateusz Gamrot\",\"Cris Cyborg\",\"Kristian Rothaermel\",\"Wang Guan\",\"Aleksei Kunchenko\",\"Rashid Magomedov\",\"Grant Dawson\",\"Arnold Allen\",\"Dricus Du Plessis\",\"Taila Santos\",\"Jailton Almeida\",\"Ben Askren\",\"Maiquel Falcao\",\"James Lee\",\"Assuerio Silva\",\"Miguel Angel Torres\",\"Aljamain Sterling\",\"Zhang Weili\",\"Belal Muhammad\",\"Sean Sherk\",\"Daniel Cormier\",\"Travis Wiuff\",\"Ji Prochzka\",\"Leon Edwards\",\"Andrei Semenov\",\"Demetrious Johnson\",\"Brock Larson\",\"Paddy Pimblett\",\"Kamaru Usman\",\"Jason Reinhardt\",\"Michel Prazeres\",\"Tim Sylvia\",\"Bobby Hoffman\",\"Arman Tsarukyan\",\"Ismael Bonfim\",\"Joel lvarez\",\"Chas Skelly\",\"Dileno Lopes\",\"Muslim Salikhov\",\"Justin Gaethje\",\"Amar Suloev\",\"Rustam Khabilov\",\"Dominick Cruz\",\"Cristian Quionez\",\"Timur Valiev\",\"Virna Jandiroba\",\"Josh Emmett\",\"Richard Crunkilton Jr.\",\"Ronys Torres\",\"Douglas Silva de Andrade\",\"Valentina Shevchenko\",\"Roger Huerta\",\"Gegard Mousasi\",\"Yi Zha\",\"Alex da Silva\",\"Deiveson Figueiredo\",\"Sean Strickland\",\"Ivan Jorge\",\"Matt Hughes\",\"Dave Menne\",\"Abus Magomedov\",\"Alexandre Pantoja\",\"Sean Loeffler\",\"Ihor Potieria\",\"Ricky Simon\",\"Stipe Miocic\",\"Eddie Alvarez\",\"Jeff Monson\",\"Ismail Naurdiev\",\"Kevin Souza\",\"Andre Muniz\",\"Jimmie Rivera\",\"Benson Henderson\",\"Mairbek Taisumov\",\"Jon Fitch\",\"Rory MacDonald\",\"Mark Striegl\",\"Will Brooks\",\"Quinn Mulhern\",\"Paul Bradley\",\"Diego Nunes\",\"Terry Martin\",\"Tiequan Zhang\",\"Julio Paulino\",\"Nate Quarry\",\"Thomas Almeida\",\"Beneil Dariush\",\"Amanda Nunes\",\"Ryan Bader\",\"Dong Hyun Kim\",\"Soa Palelei\"],\"x\":[1.0,0.9642857142857143,0.96,0.9583333333333334,0.9523809523809523,0.9285714285714286,0.9259259259259259,0.9230769230769231,0.9230769230769231,0.9166666666666666,0.9130434782608695,0.9090909090909091,0.9090909090909091,0.9090909090909091,0.9090909090909091,0.9047619047619048,0.9047619047619048,0.9047619047619048,0.9047619047619048,0.9047619047619048,0.9047619047619048,0.896551724137931,0.8928571428571429,0.8888888888888888,0.8863636363636364,0.8846153846153846,0.8846153846153846,0.8846153846153846,0.8837209302325582,0.88,0.88,0.8787878787878788,0.875,0.875,0.8709677419354839,0.8709677419354839,0.8695652173913043,0.8695652173913043,0.8695652173913043,0.8666666666666667,0.8666666666666667,0.8666666666666667,0.8636363636363636,0.8636363636363636,0.8636363636363636,0.8636363636363636,0.8636363636363636,0.8636363636363636,0.8620689655172413,0.8571428571428571,0.8571428571428571,0.8571428571428571,0.8571428571428571,0.8571428571428571,0.8571428571428571,0.8571428571428571,0.8571428571428571,0.8571428571428571,0.8529411764705882,0.8518518518518519,0.8461538461538461,0.84,0.84,0.84,0.84,0.8387096774193549,0.8387096774193549,0.8363636363636363,0.8333333333333334,0.8333333333333334,0.8333333333333334,0.8333333333333334,0.8333333333333334,0.8333333333333334,0.8333333333333334,0.8285714285714286,0.8275862068965517,0.8260869565217391,0.8260869565217391,0.8214285714285714,0.8214285714285714,0.8214285714285714,0.8181818181818182,0.8181818181818182,0.8181818181818182,0.8181818181818182,0.8181818181818182,0.8181818181818182,0.8181818181818182,0.8181818181818182,0.8181818181818182,0.8181818181818182,0.8181818181818182,0.8181818181818182,0.8148148148148148,0.8148148148148148,0.8148148148148148,0.8148148148148148,0.8148148148148148,0.8148148148148148],\"y\":[29.0,28.0,25.0,24.0,21.0,28.0,27.0,26.0,26.0,24.0,23.0,44.0,22.0,22.0,22.0,21.0,21.0,21.0,21.0,21.0,21.0,29.0,28.0,36.0,44.0,26.0,26.0,26.0,43.0,25.0,25.0,33.0,24.0,24.0,31.0,31.0,23.0,23.0,23.0,30.0,30.0,30.0,22.0,22.0,22.0,22.0,22.0,22.0,29.0,42.0,28.0,28.0,21.0,21.0,21.0,21.0,21.0,21.0,34.0,27.0,26.0,50.0,25.0,25.0,25.0,31.0,31.0,55.0,42.0,30.0,30.0,30.0,24.0,24.0,24.0,35.0,29.0,23.0,23.0,28.0,28.0,28.0,33.0,33.0,22.0,22.0,22.0,22.0,22.0,22.0,22.0,22.0,22.0,22.0,27.0,27.0,27.0,27.0,27.0,27.0],\"type\":\"scatter\"}],                        {\"template\":{\"data\":{\"histogram2dcontour\":[{\"type\":\"histogram2dcontour\",\"colorbar\":{\"outlinewidth\":0,\"ticks\":\"\"},\"colorscale\":[[0.0,\"#0d0887\"],[0.1111111111111111,\"#46039f\"],[0.2222222222222222,\"#7201a8\"],[0.3333333333333333,\"#9c179e\"],[0.4444444444444444,\"#bd3786\"],[0.5555555555555556,\"#d8576b\"],[0.6666666666666666,\"#ed7953\"],[0.7777777777777778,\"#fb9f3a\"],[0.8888888888888888,\"#fdca26\"],[1.0,\"#f0f921\"]]}],\"choropleth\":[{\"type\":\"choropleth\",\"colorbar\":{\"outlinewidth\":0,\"ticks\":\"\"}}],\"histogram2d\":[{\"type\":\"histogram2d\",\"colorbar\":{\"outlinewidth\":0,\"ticks\":\"\"},\"colorscale\":[[0.0,\"#0d0887\"],[0.1111111111111111,\"#46039f\"],[0.2222222222222222,\"#7201a8\"],[0.3333333333333333,\"#9c179e\"],[0.4444444444444444,\"#bd3786\"],[0.5555555555555556,\"#d8576b\"],[0.6666666666666666,\"#ed7953\"],[0.7777777777777778,\"#fb9f3a\"],[0.8888888888888888,\"#fdca26\"],[1.0,\"#f0f921\"]]}],\"heatmap\":[{\"type\":\"heatmap\",\"colorbar\":{\"outlinewidth\":0,\"ticks\":\"\"},\"colorscale\":[[0.0,\"#0d0887\"],[0.1111111111111111,\"#46039f\"],[0.2222222222222222,\"#7201a8\"],[0.3333333333333333,\"#9c179e\"],[0.4444444444444444,\"#bd3786\"],[0.5555555555555556,\"#d8576b\"],[0.6666666666666666,\"#ed7953\"],[0.7777777777777778,\"#fb9f3a\"],[0.8888888888888888,\"#fdca26\"],[1.0,\"#f0f921\"]]}],\"heatmapgl\":[{\"type\":\"heatmapgl\",\"colorbar\":{\"outlinewidth\":0,\"ticks\":\"\"},\"colorscale\":[[0.0,\"#0d0887\"],[0.1111111111111111,\"#46039f\"],[0.2222222222222222,\"#7201a8\"],[0.3333333333333333,\"#9c179e\"],[0.4444444444444444,\"#bd3786\"],[0.5555555555555556,\"#d8576b\"],[0.6666666666666666,\"#ed7953\"],[0.7777777777777778,\"#fb9f3a\"],[0.8888888888888888,\"#fdca26\"],[1.0,\"#f0f921\"]]}],\"contourcarpet\":[{\"type\":\"contourcarpet\",\"colorbar\":{\"outlinewidth\":0,\"ticks\":\"\"}}],\"contour\":[{\"type\":\"contour\",\"colorbar\":{\"outlinewidth\":0,\"ticks\":\"\"},\"colorscale\":[[0.0,\"#0d0887\"],[0.1111111111111111,\"#46039f\"],[0.2222222222222222,\"#7201a8\"],[0.3333333333333333,\"#9c179e\"],[0.4444444444444444,\"#bd3786\"],[0.5555555555555556,\"#d8576b\"],[0.6666666666666666,\"#ed7953\"],[0.7777777777777778,\"#fb9f3a\"],[0.8888888888888888,\"#fdca26\"],[1.0,\"#f0f921\"]]}],\"surface\":[{\"type\":\"surface\",\"colorbar\":{\"outlinewidth\":0,\"ticks\":\"\"},\"colorscale\":[[0.0,\"#0d0887\"],[0.1111111111111111,\"#46039f\"],[0.2222222222222222,\"#7201a8\"],[0.3333333333333333,\"#9c179e\"],[0.4444444444444444,\"#bd3786\"],[0.5555555555555556,\"#d8576b\"],[0.6666666666666666,\"#ed7953\"],[0.7777777777777778,\"#fb9f3a\"],[0.8888888888888888,\"#fdca26\"],[1.0,\"#f0f921\"]]}],\"mesh3d\":[{\"type\":\"mesh3d\",\"colorbar\":{\"outlinewidth\":0,\"ticks\":\"\"}}],\"scatter\":[{\"fillpattern\":{\"fillmode\":\"overlay\",\"size\":10,\"solidity\":0.2},\"type\":\"scatter\"}],\"parcoords\":[{\"type\":\"parcoords\",\"line\":{\"colorbar\":{\"outlinewidth\":0,\"ticks\":\"\"}}}],\"scatterpolargl\":[{\"type\":\"scatterpolargl\",\"marker\":{\"colorbar\":{\"outlinewidth\":0,\"ticks\":\"\"}}}],\"bar\":[{\"error_x\":{\"color\":\"#2a3f5f\"},\"error_y\":{\"color\":\"#2a3f5f\"},\"marker\":{\"line\":{\"color\":\"#E5ECF6\",\"width\":0.5},\"pattern\":{\"fillmode\":\"overlay\",\"size\":10,\"solidity\":0.2}},\"type\":\"bar\"}],\"scattergeo\":[{\"type\":\"scattergeo\",\"marker\":{\"colorbar\":{\"outlinewidth\":0,\"ticks\":\"\"}}}],\"scatterpolar\":[{\"type\":\"scatterpolar\",\"marker\":{\"colorbar\":{\"outlinewidth\":0,\"ticks\":\"\"}}}],\"histogram\":[{\"marker\":{\"pattern\":{\"fillmode\":\"overlay\",\"size\":10,\"solidity\":0.2}},\"type\":\"histogram\"}],\"scattergl\":[{\"type\":\"scattergl\",\"marker\":{\"colorbar\":{\"outlinewidth\":0,\"ticks\":\"\"}}}],\"scatter3d\":[{\"type\":\"scatter3d\",\"line\":{\"colorbar\":{\"outlinewidth\":0,\"ticks\":\"\"}},\"marker\":{\"colorbar\":{\"outlinewidth\":0,\"ticks\":\"\"}}}],\"scattermapbox\":[{\"type\":\"scattermapbox\",\"marker\":{\"colorbar\":{\"outlinewidth\":0,\"ticks\":\"\"}}}],\"scatterternary\":[{\"type\":\"scatterternary\",\"marker\":{\"colorbar\":{\"outlinewidth\":0,\"ticks\":\"\"}}}],\"scattercarpet\":[{\"type\":\"scattercarpet\",\"marker\":{\"colorbar\":{\"outlinewidth\":0,\"ticks\":\"\"}}}],\"carpet\":[{\"aaxis\":{\"endlinecolor\":\"#2a3f5f\",\"gridcolor\":\"white\",\"linecolor\":\"white\",\"minorgridcolor\":\"white\",\"startlinecolor\":\"#2a3f5f\"},\"baxis\":{\"endlinecolor\":\"#2a3f5f\",\"gridcolor\":\"white\",\"linecolor\":\"white\",\"minorgridcolor\":\"white\",\"startlinecolor\":\"#2a3f5f\"},\"type\":\"carpet\"}],\"table\":[{\"cells\":{\"fill\":{\"color\":\"#EBF0F8\"},\"line\":{\"color\":\"white\"}},\"header\":{\"fill\":{\"color\":\"#C8D4E3\"},\"line\":{\"color\":\"white\"}},\"type\":\"table\"}],\"barpolar\":[{\"marker\":{\"line\":{\"color\":\"#E5ECF6\",\"width\":0.5},\"pattern\":{\"fillmode\":\"overlay\",\"size\":10,\"solidity\":0.2}},\"type\":\"barpolar\"}],\"pie\":[{\"automargin\":true,\"type\":\"pie\"}]},\"layout\":{\"autotypenumbers\":\"strict\",\"colorway\":[\"#636efa\",\"#EF553B\",\"#00cc96\",\"#ab63fa\",\"#FFA15A\",\"#19d3f3\",\"#FF6692\",\"#B6E880\",\"#FF97FF\",\"#FECB52\"],\"font\":{\"color\":\"#2a3f5f\"},\"hovermode\":\"closest\",\"hoverlabel\":{\"align\":\"left\"},\"paper_bgcolor\":\"white\",\"plot_bgcolor\":\"#E5ECF6\",\"polar\":{\"bgcolor\":\"#E5ECF6\",\"angularaxis\":{\"gridcolor\":\"white\",\"linecolor\":\"white\",\"ticks\":\"\"},\"radialaxis\":{\"gridcolor\":\"white\",\"linecolor\":\"white\",\"ticks\":\"\"}},\"ternary\":{\"bgcolor\":\"#E5ECF6\",\"aaxis\":{\"gridcolor\":\"white\",\"linecolor\":\"white\",\"ticks\":\"\"},\"baxis\":{\"gridcolor\":\"white\",\"linecolor\":\"white\",\"ticks\":\"\"},\"caxis\":{\"gridcolor\":\"white\",\"linecolor\":\"white\",\"ticks\":\"\"}},\"coloraxis\":{\"colorbar\":{\"outlinewidth\":0,\"ticks\":\"\"}},\"colorscale\":{\"sequential\":[[0.0,\"#0d0887\"],[0.1111111111111111,\"#46039f\"],[0.2222222222222222,\"#7201a8\"],[0.3333333333333333,\"#9c179e\"],[0.4444444444444444,\"#bd3786\"],[0.5555555555555556,\"#d8576b\"],[0.6666666666666666,\"#ed7953\"],[0.7777777777777778,\"#fb9f3a\"],[0.8888888888888888,\"#fdca26\"],[1.0,\"#f0f921\"]],\"sequentialminus\":[[0.0,\"#0d0887\"],[0.1111111111111111,\"#46039f\"],[0.2222222222222222,\"#7201a8\"],[0.3333333333333333,\"#9c179e\"],[0.4444444444444444,\"#bd3786\"],[0.5555555555555556,\"#d8576b\"],[0.6666666666666666,\"#ed7953\"],[0.7777777777777778,\"#fb9f3a\"],[0.8888888888888888,\"#fdca26\"],[1.0,\"#f0f921\"]],\"diverging\":[[0,\"#8e0152\"],[0.1,\"#c51b7d\"],[0.2,\"#de77ae\"],[0.3,\"#f1b6da\"],[0.4,\"#fde0ef\"],[0.5,\"#f7f7f7\"],[0.6,\"#e6f5d0\"],[0.7,\"#b8e186\"],[0.8,\"#7fbc41\"],[0.9,\"#4d9221\"],[1,\"#276419\"]]},\"xaxis\":{\"gridcolor\":\"white\",\"linecolor\":\"white\",\"ticks\":\"\",\"title\":{\"standoff\":15},\"zerolinecolor\":\"white\",\"automargin\":true,\"zerolinewidth\":2},\"yaxis\":{\"gridcolor\":\"white\",\"linecolor\":\"white\",\"ticks\":\"\",\"title\":{\"standoff\":15},\"zerolinecolor\":\"white\",\"automargin\":true,\"zerolinewidth\":2},\"scene\":{\"xaxis\":{\"backgroundcolor\":\"#E5ECF6\",\"gridcolor\":\"white\",\"linecolor\":\"white\",\"showbackground\":true,\"ticks\":\"\",\"zerolinecolor\":\"white\",\"gridwidth\":2},\"yaxis\":{\"backgroundcolor\":\"#E5ECF6\",\"gridcolor\":\"white\",\"linecolor\":\"white\",\"showbackground\":true,\"ticks\":\"\",\"zerolinecolor\":\"white\",\"gridwidth\":2},\"zaxis\":{\"backgroundcolor\":\"#E5ECF6\",\"gridcolor\":\"white\",\"linecolor\":\"white\",\"showbackground\":true,\"ticks\":\"\",\"zerolinecolor\":\"white\",\"gridwidth\":2}},\"shapedefaults\":{\"line\":{\"color\":\"#2a3f5f\"}},\"annotationdefaults\":{\"arrowcolor\":\"#2a3f5f\",\"arrowhead\":0,\"arrowwidth\":1},\"geo\":{\"bgcolor\":\"white\",\"landcolor\":\"#E5ECF6\",\"subunitcolor\":\"white\",\"showland\":true,\"showlakes\":true,\"lakecolor\":\"white\"},\"title\":{\"x\":0.05},\"mapbox\":{\"style\":\"light\"}}},\"title\":{\"text\":\"Best Fighters Of all time.\",\"x\":0.5},\"yaxis\":{\"title\":{\"text\":\"Total Fights\"},\"showgrid\":false},\"xaxis\":{\"title\":{\"text\":\"Fighter Score\"}},\"plot_bgcolor\":\"#FAEDF0\"},                        {\"responsive\": true}                    ).then(function(){\n",
              "                            \n",
              "var gd = document.getElementById('003b9c4a-1916-44dc-8579-c3508eaebbae');\n",
              "var x = new MutationObserver(function (mutations, observer) {{\n",
              "        var display = window.getComputedStyle(gd).display;\n",
              "        if (!display || display === 'none') {{\n",
              "            console.log([gd, 'removed!']);\n",
              "            Plotly.purge(gd);\n",
              "            observer.disconnect();\n",
              "        }}\n",
              "}});\n",
              "\n",
              "// Listen for the removal of the full notebook cells\n",
              "var notebookContainer = gd.closest('#notebook-container');\n",
              "if (notebookContainer) {{\n",
              "    x.observe(notebookContainer, {childList: true});\n",
              "}}\n",
              "\n",
              "// Listen for the clearing of the current output cell\n",
              "var outputEl = gd.closest('.output');\n",
              "if (outputEl) {{\n",
              "    x.observe(outputEl, {childList: true});\n",
              "}}\n",
              "\n",
              "                        })                };                            </script>        </div>\n",
              "</body>\n",
              "</html>"
            ]
          },
          "metadata": {}
        }
      ]
    },
    {
      "cell_type": "markdown",
      "source": [
        "---\n"
      ],
      "metadata": {
        "id": "1PtB9WOg48Lz"
      }
    },
    {
      "cell_type": "markdown",
      "source": [
        "# Some Insights 📜 ⇨\n",
        "\n",
        "\n",
        "1.   The majority of fighters in the UFC hail from the United States, with Brazil having the second-largest representation.\n",
        "\n",
        "2.   The most commonly practiced fighting style among UFC fighters is mixed martial arts (MMA), followed by freestyle, jiu-jitsu, and kickboxing.\n",
        "\n",
        "3.  The welterweight division stands out for having the highest number of knockouts, indicating that it is an action-packed category with a substantial roster of talented fighters.\n",
        "\n",
        "4.   Among the current active fighters, Shayilan Nuerdanbieke holds an impressive record with 36 wins, highlighting a remarkable achievement. However, it should be noted that Matt Hughes, who is retired, holds the all-time record with 46 wins.\n",
        "\n",
        "5. **Ben Rothwell** deserves recognition for his exceptional striking abilities, as he holds the record for the most knockouts (28) in the history of the UFC.\n",
        "\n",
        "6. **Aleksei Oleinik's** submission skills are noteworthy, as he has successfully executed an impressive total of 47 submissions in his UFC career, showcasing his proficiency in grappling techniques.\n",
        "\n",
        "7. When it comes to discussing the greatest fighters in MMA history, **Khabib Nurmagomedov's** undefeated record of 29 wins and 0 losses cannot be ignored, solidifying his claim as one of the sport's all-time greats.\n",
        "\n",
        "8. It is worth mentioning that **Anshul Jubli** proudly represents India as the sole active UFC fighter from the country, contributing to the global diversity of the organization.\n",
        "\n",
        "\n",
        "\n",
        "###                                   Thank You!!😎\n",
        "---\n"
      ],
      "metadata": {
        "id": "b-OJodJX6oU8"
      }
    },
    {
      "cell_type": "code",
      "source": [],
      "metadata": {
        "id": "A1pFyZz2Bsje"
      },
      "execution_count": null,
      "outputs": []
    }
  ]
}